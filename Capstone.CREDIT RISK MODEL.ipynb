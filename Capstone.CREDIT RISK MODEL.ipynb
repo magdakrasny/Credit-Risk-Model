{
 "cells": [
  {
   "cell_type": "markdown",
   "id": "1a649839",
   "metadata": {},
   "source": [
    "### Credit Risk Modeling\n",
    "The purpose of my project is to predict the chance of loan being charged off, i.e. customers who are unable to pay back the loan amount. Since customers who default on a loan are a source of losses for the financial institution, I wanted to build a model that predicts whether or not the applicant will be able to pay back the loan amount. Dataset used is from Lending Club, which is a US peer-to-peer lending company and the world’s largest peer-to-peer lending platform."
   ]
  },
  {
   "cell_type": "code",
   "execution_count": 1,
   "id": "d5a697e4",
   "metadata": {},
   "outputs": [],
   "source": [
    "import pandas as pd\n",
    "import numpy as np\n",
    "\n",
    "pd.set_option('max_columns', 120)\n",
    "pd.set_option('max_colwidth', 5000)\n",
    "\n",
    "import matplotlib.pyplot as plt\n",
    "import seaborn as sns\n",
    "\n",
    "\n",
    "%matplotlib inline\n",
    "plt.rcParams['figure.figsize'] = (12,8)\n",
    "\n",
    "import warnings\n",
    "warnings.filterwarnings(\"ignore\")"
   ]
  },
  {
   "cell_type": "code",
   "execution_count": 2,
   "id": "ff6c5513",
   "metadata": {},
   "outputs": [],
   "source": [
    "# uploading the dataset, skipping row 1 as dataset contains some text and it not parsing the data properly,\n",
    "loans_backup = pd.read_csv('lending_club_loans.csv', skiprows=1) "
   ]
  },
  {
   "cell_type": "code",
   "execution_count": 3,
   "id": "f64a4e87",
   "metadata": {},
   "outputs": [],
   "source": [
    "# creating a copy of original data\n",
    "loans = loans_backup.copy() "
   ]
  },
  {
   "cell_type": "code",
   "execution_count": 4,
   "id": "16bccf0a",
   "metadata": {},
   "outputs": [
    {
     "data": {
      "text/plain": [
       "(42538, 115)"
      ]
     },
     "execution_count": 4,
     "metadata": {},
     "output_type": "execute_result"
    }
   ],
   "source": [
    "#checking the Dimensions of data\n",
    "loans.shape"
   ]
  },
  {
   "cell_type": "markdown",
   "id": "647cb2de",
   "metadata": {},
   "source": [
    "### Checking the basic info about my data"
   ]
  },
  {
   "cell_type": "code",
   "execution_count": 5,
   "id": "6defe80a",
   "metadata": {},
   "outputs": [
    {
     "data": {
      "text/html": [
       "<div>\n",
       "<style scoped>\n",
       "    .dataframe tbody tr th:only-of-type {\n",
       "        vertical-align: middle;\n",
       "    }\n",
       "\n",
       "    .dataframe tbody tr th {\n",
       "        vertical-align: top;\n",
       "    }\n",
       "\n",
       "    .dataframe thead th {\n",
       "        text-align: right;\n",
       "    }\n",
       "</style>\n",
       "<table border=\"1\" class=\"dataframe\">\n",
       "  <thead>\n",
       "    <tr style=\"text-align: right;\">\n",
       "      <th></th>\n",
       "      <th>id</th>\n",
       "      <th>member_id</th>\n",
       "      <th>loan_amnt</th>\n",
       "      <th>funded_amnt</th>\n",
       "      <th>funded_amnt_inv</th>\n",
       "      <th>term</th>\n",
       "      <th>int_rate</th>\n",
       "      <th>installment</th>\n",
       "      <th>grade</th>\n",
       "      <th>sub_grade</th>\n",
       "      <th>emp_title</th>\n",
       "      <th>emp_length</th>\n",
       "      <th>home_ownership</th>\n",
       "      <th>annual_inc</th>\n",
       "      <th>verification_status</th>\n",
       "      <th>issue_d</th>\n",
       "      <th>loan_status</th>\n",
       "      <th>pymnt_plan</th>\n",
       "      <th>url</th>\n",
       "      <th>desc</th>\n",
       "      <th>purpose</th>\n",
       "      <th>title</th>\n",
       "      <th>zip_code</th>\n",
       "      <th>addr_state</th>\n",
       "      <th>dti</th>\n",
       "      <th>delinq_2yrs</th>\n",
       "      <th>earliest_cr_line</th>\n",
       "      <th>fico_range_low</th>\n",
       "      <th>fico_range_high</th>\n",
       "      <th>inq_last_6mths</th>\n",
       "      <th>mths_since_last_delinq</th>\n",
       "      <th>mths_since_last_record</th>\n",
       "      <th>open_acc</th>\n",
       "      <th>pub_rec</th>\n",
       "      <th>revol_bal</th>\n",
       "      <th>revol_util</th>\n",
       "      <th>total_acc</th>\n",
       "      <th>initial_list_status</th>\n",
       "      <th>out_prncp</th>\n",
       "      <th>out_prncp_inv</th>\n",
       "      <th>total_pymnt</th>\n",
       "      <th>total_pymnt_inv</th>\n",
       "      <th>total_rec_prncp</th>\n",
       "      <th>total_rec_int</th>\n",
       "      <th>total_rec_late_fee</th>\n",
       "      <th>recoveries</th>\n",
       "      <th>collection_recovery_fee</th>\n",
       "      <th>last_pymnt_d</th>\n",
       "      <th>last_pymnt_amnt</th>\n",
       "      <th>next_pymnt_d</th>\n",
       "      <th>last_credit_pull_d</th>\n",
       "      <th>last_fico_range_high</th>\n",
       "      <th>last_fico_range_low</th>\n",
       "      <th>collections_12_mths_ex_med</th>\n",
       "      <th>mths_since_last_major_derog</th>\n",
       "      <th>policy_code</th>\n",
       "      <th>application_type</th>\n",
       "      <th>annual_inc_joint</th>\n",
       "      <th>dti_joint</th>\n",
       "      <th>verification_status_joint</th>\n",
       "      <th>acc_now_delinq</th>\n",
       "      <th>tot_coll_amt</th>\n",
       "      <th>tot_cur_bal</th>\n",
       "      <th>open_acc_6m</th>\n",
       "      <th>open_il_6m</th>\n",
       "      <th>open_il_12m</th>\n",
       "      <th>open_il_24m</th>\n",
       "      <th>mths_since_rcnt_il</th>\n",
       "      <th>total_bal_il</th>\n",
       "      <th>il_util</th>\n",
       "      <th>open_rv_12m</th>\n",
       "      <th>open_rv_24m</th>\n",
       "      <th>max_bal_bc</th>\n",
       "      <th>all_util</th>\n",
       "      <th>total_rev_hi_lim</th>\n",
       "      <th>inq_fi</th>\n",
       "      <th>total_cu_tl</th>\n",
       "      <th>inq_last_12m</th>\n",
       "      <th>acc_open_past_24mths</th>\n",
       "      <th>avg_cur_bal</th>\n",
       "      <th>bc_open_to_buy</th>\n",
       "      <th>bc_util</th>\n",
       "      <th>chargeoff_within_12_mths</th>\n",
       "      <th>delinq_amnt</th>\n",
       "      <th>mo_sin_old_il_acct</th>\n",
       "      <th>mo_sin_old_rev_tl_op</th>\n",
       "      <th>mo_sin_rcnt_rev_tl_op</th>\n",
       "      <th>mo_sin_rcnt_tl</th>\n",
       "      <th>mort_acc</th>\n",
       "      <th>mths_since_recent_bc</th>\n",
       "      <th>mths_since_recent_bc_dlq</th>\n",
       "      <th>mths_since_recent_inq</th>\n",
       "      <th>mths_since_recent_revol_delinq</th>\n",
       "      <th>num_accts_ever_120_pd</th>\n",
       "      <th>num_actv_bc_tl</th>\n",
       "      <th>num_actv_rev_tl</th>\n",
       "      <th>num_bc_sats</th>\n",
       "      <th>num_bc_tl</th>\n",
       "      <th>num_il_tl</th>\n",
       "      <th>num_op_rev_tl</th>\n",
       "      <th>num_rev_accts</th>\n",
       "      <th>num_rev_tl_bal_gt_0</th>\n",
       "      <th>num_sats</th>\n",
       "      <th>num_tl_120dpd_2m</th>\n",
       "      <th>num_tl_30dpd</th>\n",
       "      <th>num_tl_90g_dpd_24m</th>\n",
       "      <th>num_tl_op_past_12m</th>\n",
       "      <th>pct_tl_nvr_dlq</th>\n",
       "      <th>percent_bc_gt_75</th>\n",
       "      <th>pub_rec_bankruptcies</th>\n",
       "      <th>tax_liens</th>\n",
       "      <th>tot_hi_cred_lim</th>\n",
       "      <th>total_bal_ex_mort</th>\n",
       "      <th>total_bc_limit</th>\n",
       "      <th>total_il_high_credit_limit</th>\n",
       "    </tr>\n",
       "  </thead>\n",
       "  <tbody>\n",
       "    <tr>\n",
       "      <th>0</th>\n",
       "      <td>1077501</td>\n",
       "      <td>1296599.0</td>\n",
       "      <td>5000.0</td>\n",
       "      <td>5000.0</td>\n",
       "      <td>4975.0</td>\n",
       "      <td>36 months</td>\n",
       "      <td>10.65%</td>\n",
       "      <td>162.87</td>\n",
       "      <td>B</td>\n",
       "      <td>B2</td>\n",
       "      <td>NaN</td>\n",
       "      <td>10+ years</td>\n",
       "      <td>RENT</td>\n",
       "      <td>24000.0</td>\n",
       "      <td>Verified</td>\n",
       "      <td>Dec-2011</td>\n",
       "      <td>Fully Paid</td>\n",
       "      <td>n</td>\n",
       "      <td>https://lendingclub.com/browse/loanDetail.action?loan_id=1077501</td>\n",
       "      <td>Borrower added on 12/22/11 &gt; I need to upgrade my business technologies.&lt;br&gt;</td>\n",
       "      <td>credit_card</td>\n",
       "      <td>Computer</td>\n",
       "      <td>860xx</td>\n",
       "      <td>AZ</td>\n",
       "      <td>27.65</td>\n",
       "      <td>0.0</td>\n",
       "      <td>Jan-1985</td>\n",
       "      <td>735.0</td>\n",
       "      <td>739.0</td>\n",
       "      <td>1.0</td>\n",
       "      <td>NaN</td>\n",
       "      <td>NaN</td>\n",
       "      <td>3.0</td>\n",
       "      <td>0.0</td>\n",
       "      <td>13648.0</td>\n",
       "      <td>83.7%</td>\n",
       "      <td>9.0</td>\n",
       "      <td>f</td>\n",
       "      <td>0.0</td>\n",
       "      <td>0.0</td>\n",
       "      <td>5863.155187</td>\n",
       "      <td>5833.84</td>\n",
       "      <td>5000.00</td>\n",
       "      <td>863.16</td>\n",
       "      <td>0.0</td>\n",
       "      <td>0.00</td>\n",
       "      <td>0.00</td>\n",
       "      <td>Jan-2015</td>\n",
       "      <td>171.62</td>\n",
       "      <td>NaN</td>\n",
       "      <td>Sep-2016</td>\n",
       "      <td>744.0</td>\n",
       "      <td>740.0</td>\n",
       "      <td>0.0</td>\n",
       "      <td>NaN</td>\n",
       "      <td>1.0</td>\n",
       "      <td>INDIVIDUAL</td>\n",
       "      <td>NaN</td>\n",
       "      <td>NaN</td>\n",
       "      <td>NaN</td>\n",
       "      <td>0.0</td>\n",
       "      <td>NaN</td>\n",
       "      <td>NaN</td>\n",
       "      <td>NaN</td>\n",
       "      <td>NaN</td>\n",
       "      <td>NaN</td>\n",
       "      <td>NaN</td>\n",
       "      <td>NaN</td>\n",
       "      <td>NaN</td>\n",
       "      <td>NaN</td>\n",
       "      <td>NaN</td>\n",
       "      <td>NaN</td>\n",
       "      <td>NaN</td>\n",
       "      <td>NaN</td>\n",
       "      <td>NaN</td>\n",
       "      <td>NaN</td>\n",
       "      <td>NaN</td>\n",
       "      <td>NaN</td>\n",
       "      <td>NaN</td>\n",
       "      <td>NaN</td>\n",
       "      <td>NaN</td>\n",
       "      <td>NaN</td>\n",
       "      <td>0.0</td>\n",
       "      <td>0.0</td>\n",
       "      <td>NaN</td>\n",
       "      <td>NaN</td>\n",
       "      <td>NaN</td>\n",
       "      <td>NaN</td>\n",
       "      <td>NaN</td>\n",
       "      <td>NaN</td>\n",
       "      <td>NaN</td>\n",
       "      <td>NaN</td>\n",
       "      <td>NaN</td>\n",
       "      <td>NaN</td>\n",
       "      <td>NaN</td>\n",
       "      <td>NaN</td>\n",
       "      <td>NaN</td>\n",
       "      <td>NaN</td>\n",
       "      <td>NaN</td>\n",
       "      <td>NaN</td>\n",
       "      <td>NaN</td>\n",
       "      <td>NaN</td>\n",
       "      <td>NaN</td>\n",
       "      <td>NaN</td>\n",
       "      <td>NaN</td>\n",
       "      <td>NaN</td>\n",
       "      <td>NaN</td>\n",
       "      <td>NaN</td>\n",
       "      <td>NaN</td>\n",
       "      <td>0.0</td>\n",
       "      <td>0.0</td>\n",
       "      <td>NaN</td>\n",
       "      <td>NaN</td>\n",
       "      <td>NaN</td>\n",
       "      <td>NaN</td>\n",
       "    </tr>\n",
       "    <tr>\n",
       "      <th>1</th>\n",
       "      <td>1077430</td>\n",
       "      <td>1314167.0</td>\n",
       "      <td>2500.0</td>\n",
       "      <td>2500.0</td>\n",
       "      <td>2500.0</td>\n",
       "      <td>60 months</td>\n",
       "      <td>15.27%</td>\n",
       "      <td>59.83</td>\n",
       "      <td>C</td>\n",
       "      <td>C4</td>\n",
       "      <td>Ryder</td>\n",
       "      <td>&lt; 1 year</td>\n",
       "      <td>RENT</td>\n",
       "      <td>30000.0</td>\n",
       "      <td>Source Verified</td>\n",
       "      <td>Dec-2011</td>\n",
       "      <td>Charged Off</td>\n",
       "      <td>n</td>\n",
       "      <td>https://lendingclub.com/browse/loanDetail.action?loan_id=1077430</td>\n",
       "      <td>Borrower added on 12/22/11 &gt; I plan to use this money to finance the motorcycle i am looking at. I plan to have it paid off as soon as possible/when i sell my old bike. I only need this money because the deal im looking at is to good to pass up.&lt;br&gt;&lt;br&gt;  Borrower added on 12/22/11 &gt; I plan to use this money to finance the motorcycle i am looking at. I plan to have it paid off as soon as possible/when i sell my old bike.I only need this money because the deal im looking at is to good to pass up. I have finished college with an associates degree in business and its takingmeplaces&lt;br&gt;</td>\n",
       "      <td>car</td>\n",
       "      <td>bike</td>\n",
       "      <td>309xx</td>\n",
       "      <td>GA</td>\n",
       "      <td>1.00</td>\n",
       "      <td>0.0</td>\n",
       "      <td>Apr-1999</td>\n",
       "      <td>740.0</td>\n",
       "      <td>744.0</td>\n",
       "      <td>5.0</td>\n",
       "      <td>NaN</td>\n",
       "      <td>NaN</td>\n",
       "      <td>3.0</td>\n",
       "      <td>0.0</td>\n",
       "      <td>1687.0</td>\n",
       "      <td>9.4%</td>\n",
       "      <td>4.0</td>\n",
       "      <td>f</td>\n",
       "      <td>0.0</td>\n",
       "      <td>0.0</td>\n",
       "      <td>1008.710000</td>\n",
       "      <td>1008.71</td>\n",
       "      <td>456.46</td>\n",
       "      <td>435.17</td>\n",
       "      <td>0.0</td>\n",
       "      <td>117.08</td>\n",
       "      <td>1.11</td>\n",
       "      <td>Apr-2013</td>\n",
       "      <td>119.66</td>\n",
       "      <td>NaN</td>\n",
       "      <td>Sep-2016</td>\n",
       "      <td>499.0</td>\n",
       "      <td>0.0</td>\n",
       "      <td>0.0</td>\n",
       "      <td>NaN</td>\n",
       "      <td>1.0</td>\n",
       "      <td>INDIVIDUAL</td>\n",
       "      <td>NaN</td>\n",
       "      <td>NaN</td>\n",
       "      <td>NaN</td>\n",
       "      <td>0.0</td>\n",
       "      <td>NaN</td>\n",
       "      <td>NaN</td>\n",
       "      <td>NaN</td>\n",
       "      <td>NaN</td>\n",
       "      <td>NaN</td>\n",
       "      <td>NaN</td>\n",
       "      <td>NaN</td>\n",
       "      <td>NaN</td>\n",
       "      <td>NaN</td>\n",
       "      <td>NaN</td>\n",
       "      <td>NaN</td>\n",
       "      <td>NaN</td>\n",
       "      <td>NaN</td>\n",
       "      <td>NaN</td>\n",
       "      <td>NaN</td>\n",
       "      <td>NaN</td>\n",
       "      <td>NaN</td>\n",
       "      <td>NaN</td>\n",
       "      <td>NaN</td>\n",
       "      <td>NaN</td>\n",
       "      <td>NaN</td>\n",
       "      <td>0.0</td>\n",
       "      <td>0.0</td>\n",
       "      <td>NaN</td>\n",
       "      <td>NaN</td>\n",
       "      <td>NaN</td>\n",
       "      <td>NaN</td>\n",
       "      <td>NaN</td>\n",
       "      <td>NaN</td>\n",
       "      <td>NaN</td>\n",
       "      <td>NaN</td>\n",
       "      <td>NaN</td>\n",
       "      <td>NaN</td>\n",
       "      <td>NaN</td>\n",
       "      <td>NaN</td>\n",
       "      <td>NaN</td>\n",
       "      <td>NaN</td>\n",
       "      <td>NaN</td>\n",
       "      <td>NaN</td>\n",
       "      <td>NaN</td>\n",
       "      <td>NaN</td>\n",
       "      <td>NaN</td>\n",
       "      <td>NaN</td>\n",
       "      <td>NaN</td>\n",
       "      <td>NaN</td>\n",
       "      <td>NaN</td>\n",
       "      <td>NaN</td>\n",
       "      <td>NaN</td>\n",
       "      <td>0.0</td>\n",
       "      <td>0.0</td>\n",
       "      <td>NaN</td>\n",
       "      <td>NaN</td>\n",
       "      <td>NaN</td>\n",
       "      <td>NaN</td>\n",
       "    </tr>\n",
       "    <tr>\n",
       "      <th>2</th>\n",
       "      <td>1077175</td>\n",
       "      <td>1313524.0</td>\n",
       "      <td>2400.0</td>\n",
       "      <td>2400.0</td>\n",
       "      <td>2400.0</td>\n",
       "      <td>36 months</td>\n",
       "      <td>15.96%</td>\n",
       "      <td>84.33</td>\n",
       "      <td>C</td>\n",
       "      <td>C5</td>\n",
       "      <td>NaN</td>\n",
       "      <td>10+ years</td>\n",
       "      <td>RENT</td>\n",
       "      <td>12252.0</td>\n",
       "      <td>Not Verified</td>\n",
       "      <td>Dec-2011</td>\n",
       "      <td>Fully Paid</td>\n",
       "      <td>n</td>\n",
       "      <td>https://lendingclub.com/browse/loanDetail.action?loan_id=1077175</td>\n",
       "      <td>NaN</td>\n",
       "      <td>small_business</td>\n",
       "      <td>real estate business</td>\n",
       "      <td>606xx</td>\n",
       "      <td>IL</td>\n",
       "      <td>8.72</td>\n",
       "      <td>0.0</td>\n",
       "      <td>Nov-2001</td>\n",
       "      <td>735.0</td>\n",
       "      <td>739.0</td>\n",
       "      <td>2.0</td>\n",
       "      <td>NaN</td>\n",
       "      <td>NaN</td>\n",
       "      <td>2.0</td>\n",
       "      <td>0.0</td>\n",
       "      <td>2956.0</td>\n",
       "      <td>98.5%</td>\n",
       "      <td>10.0</td>\n",
       "      <td>f</td>\n",
       "      <td>0.0</td>\n",
       "      <td>0.0</td>\n",
       "      <td>3005.666844</td>\n",
       "      <td>3005.67</td>\n",
       "      <td>2400.00</td>\n",
       "      <td>605.67</td>\n",
       "      <td>0.0</td>\n",
       "      <td>0.00</td>\n",
       "      <td>0.00</td>\n",
       "      <td>Jun-2014</td>\n",
       "      <td>649.91</td>\n",
       "      <td>NaN</td>\n",
       "      <td>Sep-2016</td>\n",
       "      <td>719.0</td>\n",
       "      <td>715.0</td>\n",
       "      <td>0.0</td>\n",
       "      <td>NaN</td>\n",
       "      <td>1.0</td>\n",
       "      <td>INDIVIDUAL</td>\n",
       "      <td>NaN</td>\n",
       "      <td>NaN</td>\n",
       "      <td>NaN</td>\n",
       "      <td>0.0</td>\n",
       "      <td>NaN</td>\n",
       "      <td>NaN</td>\n",
       "      <td>NaN</td>\n",
       "      <td>NaN</td>\n",
       "      <td>NaN</td>\n",
       "      <td>NaN</td>\n",
       "      <td>NaN</td>\n",
       "      <td>NaN</td>\n",
       "      <td>NaN</td>\n",
       "      <td>NaN</td>\n",
       "      <td>NaN</td>\n",
       "      <td>NaN</td>\n",
       "      <td>NaN</td>\n",
       "      <td>NaN</td>\n",
       "      <td>NaN</td>\n",
       "      <td>NaN</td>\n",
       "      <td>NaN</td>\n",
       "      <td>NaN</td>\n",
       "      <td>NaN</td>\n",
       "      <td>NaN</td>\n",
       "      <td>NaN</td>\n",
       "      <td>0.0</td>\n",
       "      <td>0.0</td>\n",
       "      <td>NaN</td>\n",
       "      <td>NaN</td>\n",
       "      <td>NaN</td>\n",
       "      <td>NaN</td>\n",
       "      <td>NaN</td>\n",
       "      <td>NaN</td>\n",
       "      <td>NaN</td>\n",
       "      <td>NaN</td>\n",
       "      <td>NaN</td>\n",
       "      <td>NaN</td>\n",
       "      <td>NaN</td>\n",
       "      <td>NaN</td>\n",
       "      <td>NaN</td>\n",
       "      <td>NaN</td>\n",
       "      <td>NaN</td>\n",
       "      <td>NaN</td>\n",
       "      <td>NaN</td>\n",
       "      <td>NaN</td>\n",
       "      <td>NaN</td>\n",
       "      <td>NaN</td>\n",
       "      <td>NaN</td>\n",
       "      <td>NaN</td>\n",
       "      <td>NaN</td>\n",
       "      <td>NaN</td>\n",
       "      <td>NaN</td>\n",
       "      <td>0.0</td>\n",
       "      <td>0.0</td>\n",
       "      <td>NaN</td>\n",
       "      <td>NaN</td>\n",
       "      <td>NaN</td>\n",
       "      <td>NaN</td>\n",
       "    </tr>\n",
       "  </tbody>\n",
       "</table>\n",
       "</div>"
      ],
      "text/plain": [
       "        id  member_id  loan_amnt  funded_amnt  funded_amnt_inv        term  \\\n",
       "0  1077501  1296599.0     5000.0       5000.0           4975.0   36 months   \n",
       "1  1077430  1314167.0     2500.0       2500.0           2500.0   60 months   \n",
       "2  1077175  1313524.0     2400.0       2400.0           2400.0   36 months   \n",
       "\n",
       "  int_rate  installment grade sub_grade emp_title emp_length home_ownership  \\\n",
       "0   10.65%       162.87     B        B2       NaN  10+ years           RENT   \n",
       "1   15.27%        59.83     C        C4     Ryder   < 1 year           RENT   \n",
       "2   15.96%        84.33     C        C5       NaN  10+ years           RENT   \n",
       "\n",
       "   annual_inc verification_status   issue_d  loan_status pymnt_plan  \\\n",
       "0     24000.0            Verified  Dec-2011   Fully Paid          n   \n",
       "1     30000.0     Source Verified  Dec-2011  Charged Off          n   \n",
       "2     12252.0        Not Verified  Dec-2011   Fully Paid          n   \n",
       "\n",
       "                                                                url  \\\n",
       "0  https://lendingclub.com/browse/loanDetail.action?loan_id=1077501   \n",
       "1  https://lendingclub.com/browse/loanDetail.action?loan_id=1077430   \n",
       "2  https://lendingclub.com/browse/loanDetail.action?loan_id=1077175   \n",
       "\n",
       "                                                                                                                                                                                                                                                                                                                                                                                                                                                                                                                                                                                                             desc  \\\n",
       "0                                                                                                                                                                                                                                                                                                                                                                                                                                                                                                                                    Borrower added on 12/22/11 > I need to upgrade my business technologies.<br>   \n",
       "1    Borrower added on 12/22/11 > I plan to use this money to finance the motorcycle i am looking at. I plan to have it paid off as soon as possible/when i sell my old bike. I only need this money because the deal im looking at is to good to pass up.<br><br>  Borrower added on 12/22/11 > I plan to use this money to finance the motorcycle i am looking at. I plan to have it paid off as soon as possible/when i sell my old bike.I only need this money because the deal im looking at is to good to pass up. I have finished college with an associates degree in business and its takingmeplaces<br>   \n",
       "2                                                                                                                                                                                                                                                                                                                                                                                                                                                                                                                                                                                                             NaN   \n",
       "\n",
       "          purpose                 title zip_code addr_state    dti  \\\n",
       "0     credit_card              Computer    860xx         AZ  27.65   \n",
       "1             car                  bike    309xx         GA   1.00   \n",
       "2  small_business  real estate business    606xx         IL   8.72   \n",
       "\n",
       "   delinq_2yrs earliest_cr_line  fico_range_low  fico_range_high  \\\n",
       "0          0.0         Jan-1985           735.0            739.0   \n",
       "1          0.0         Apr-1999           740.0            744.0   \n",
       "2          0.0         Nov-2001           735.0            739.0   \n",
       "\n",
       "   inq_last_6mths  mths_since_last_delinq  mths_since_last_record  open_acc  \\\n",
       "0             1.0                     NaN                     NaN       3.0   \n",
       "1             5.0                     NaN                     NaN       3.0   \n",
       "2             2.0                     NaN                     NaN       2.0   \n",
       "\n",
       "   pub_rec  revol_bal revol_util  total_acc initial_list_status  out_prncp  \\\n",
       "0      0.0    13648.0      83.7%        9.0                   f        0.0   \n",
       "1      0.0     1687.0       9.4%        4.0                   f        0.0   \n",
       "2      0.0     2956.0      98.5%       10.0                   f        0.0   \n",
       "\n",
       "   out_prncp_inv  total_pymnt  total_pymnt_inv  total_rec_prncp  \\\n",
       "0            0.0  5863.155187          5833.84          5000.00   \n",
       "1            0.0  1008.710000          1008.71           456.46   \n",
       "2            0.0  3005.666844          3005.67          2400.00   \n",
       "\n",
       "   total_rec_int  total_rec_late_fee  recoveries  collection_recovery_fee  \\\n",
       "0         863.16                 0.0        0.00                     0.00   \n",
       "1         435.17                 0.0      117.08                     1.11   \n",
       "2         605.67                 0.0        0.00                     0.00   \n",
       "\n",
       "  last_pymnt_d  last_pymnt_amnt next_pymnt_d last_credit_pull_d  \\\n",
       "0     Jan-2015           171.62          NaN           Sep-2016   \n",
       "1     Apr-2013           119.66          NaN           Sep-2016   \n",
       "2     Jun-2014           649.91          NaN           Sep-2016   \n",
       "\n",
       "   last_fico_range_high  last_fico_range_low  collections_12_mths_ex_med  \\\n",
       "0                 744.0                740.0                         0.0   \n",
       "1                 499.0                  0.0                         0.0   \n",
       "2                 719.0                715.0                         0.0   \n",
       "\n",
       "   mths_since_last_major_derog  policy_code application_type  \\\n",
       "0                          NaN          1.0       INDIVIDUAL   \n",
       "1                          NaN          1.0       INDIVIDUAL   \n",
       "2                          NaN          1.0       INDIVIDUAL   \n",
       "\n",
       "   annual_inc_joint  dti_joint  verification_status_joint  acc_now_delinq  \\\n",
       "0               NaN        NaN                        NaN             0.0   \n",
       "1               NaN        NaN                        NaN             0.0   \n",
       "2               NaN        NaN                        NaN             0.0   \n",
       "\n",
       "   tot_coll_amt  tot_cur_bal  open_acc_6m  open_il_6m  open_il_12m  \\\n",
       "0           NaN          NaN          NaN         NaN          NaN   \n",
       "1           NaN          NaN          NaN         NaN          NaN   \n",
       "2           NaN          NaN          NaN         NaN          NaN   \n",
       "\n",
       "   open_il_24m  mths_since_rcnt_il  total_bal_il  il_util  open_rv_12m  \\\n",
       "0          NaN                 NaN           NaN      NaN          NaN   \n",
       "1          NaN                 NaN           NaN      NaN          NaN   \n",
       "2          NaN                 NaN           NaN      NaN          NaN   \n",
       "\n",
       "   open_rv_24m  max_bal_bc  all_util  total_rev_hi_lim  inq_fi  total_cu_tl  \\\n",
       "0          NaN         NaN       NaN               NaN     NaN          NaN   \n",
       "1          NaN         NaN       NaN               NaN     NaN          NaN   \n",
       "2          NaN         NaN       NaN               NaN     NaN          NaN   \n",
       "\n",
       "   inq_last_12m  acc_open_past_24mths  avg_cur_bal  bc_open_to_buy  bc_util  \\\n",
       "0           NaN                   NaN          NaN             NaN      NaN   \n",
       "1           NaN                   NaN          NaN             NaN      NaN   \n",
       "2           NaN                   NaN          NaN             NaN      NaN   \n",
       "\n",
       "   chargeoff_within_12_mths  delinq_amnt  mo_sin_old_il_acct  \\\n",
       "0                       0.0          0.0                 NaN   \n",
       "1                       0.0          0.0                 NaN   \n",
       "2                       0.0          0.0                 NaN   \n",
       "\n",
       "   mo_sin_old_rev_tl_op  mo_sin_rcnt_rev_tl_op  mo_sin_rcnt_tl  mort_acc  \\\n",
       "0                   NaN                    NaN             NaN       NaN   \n",
       "1                   NaN                    NaN             NaN       NaN   \n",
       "2                   NaN                    NaN             NaN       NaN   \n",
       "\n",
       "   mths_since_recent_bc  mths_since_recent_bc_dlq  mths_since_recent_inq  \\\n",
       "0                   NaN                       NaN                    NaN   \n",
       "1                   NaN                       NaN                    NaN   \n",
       "2                   NaN                       NaN                    NaN   \n",
       "\n",
       "   mths_since_recent_revol_delinq  num_accts_ever_120_pd  num_actv_bc_tl  \\\n",
       "0                             NaN                    NaN             NaN   \n",
       "1                             NaN                    NaN             NaN   \n",
       "2                             NaN                    NaN             NaN   \n",
       "\n",
       "   num_actv_rev_tl  num_bc_sats  num_bc_tl  num_il_tl  num_op_rev_tl  \\\n",
       "0              NaN          NaN        NaN        NaN            NaN   \n",
       "1              NaN          NaN        NaN        NaN            NaN   \n",
       "2              NaN          NaN        NaN        NaN            NaN   \n",
       "\n",
       "   num_rev_accts  num_rev_tl_bal_gt_0  num_sats  num_tl_120dpd_2m  \\\n",
       "0            NaN                  NaN       NaN               NaN   \n",
       "1            NaN                  NaN       NaN               NaN   \n",
       "2            NaN                  NaN       NaN               NaN   \n",
       "\n",
       "   num_tl_30dpd  num_tl_90g_dpd_24m  num_tl_op_past_12m  pct_tl_nvr_dlq  \\\n",
       "0           NaN                 NaN                 NaN             NaN   \n",
       "1           NaN                 NaN                 NaN             NaN   \n",
       "2           NaN                 NaN                 NaN             NaN   \n",
       "\n",
       "   percent_bc_gt_75  pub_rec_bankruptcies  tax_liens  tot_hi_cred_lim  \\\n",
       "0               NaN                   0.0        0.0              NaN   \n",
       "1               NaN                   0.0        0.0              NaN   \n",
       "2               NaN                   0.0        0.0              NaN   \n",
       "\n",
       "   total_bal_ex_mort  total_bc_limit  total_il_high_credit_limit  \n",
       "0                NaN             NaN                         NaN  \n",
       "1                NaN             NaN                         NaN  \n",
       "2                NaN             NaN                         NaN  "
      ]
     },
     "execution_count": 5,
     "metadata": {},
     "output_type": "execute_result"
    }
   ],
   "source": [
    "loans.head(3)"
   ]
  },
  {
   "cell_type": "code",
   "execution_count": 6,
   "id": "430b5845",
   "metadata": {},
   "outputs": [
    {
     "data": {
      "text/plain": [
       "array(['id', 'member_id', 'loan_amnt', 'funded_amnt', 'funded_amnt_inv',\n",
       "       'term', 'int_rate', 'installment', 'grade', 'sub_grade',\n",
       "       'emp_title', 'emp_length', 'home_ownership', 'annual_inc',\n",
       "       'verification_status', 'issue_d', 'loan_status', 'pymnt_plan',\n",
       "       'url', 'desc', 'purpose', 'title', 'zip_code', 'addr_state', 'dti',\n",
       "       'delinq_2yrs', 'earliest_cr_line', 'fico_range_low',\n",
       "       'fico_range_high', 'inq_last_6mths', 'mths_since_last_delinq',\n",
       "       'mths_since_last_record', 'open_acc', 'pub_rec', 'revol_bal',\n",
       "       'revol_util', 'total_acc', 'initial_list_status', 'out_prncp',\n",
       "       'out_prncp_inv', 'total_pymnt', 'total_pymnt_inv',\n",
       "       'total_rec_prncp', 'total_rec_int', 'total_rec_late_fee',\n",
       "       'recoveries', 'collection_recovery_fee', 'last_pymnt_d',\n",
       "       'last_pymnt_amnt', 'next_pymnt_d', 'last_credit_pull_d',\n",
       "       'last_fico_range_high', 'last_fico_range_low',\n",
       "       'collections_12_mths_ex_med', 'mths_since_last_major_derog',\n",
       "       'policy_code', 'application_type', 'annual_inc_joint', 'dti_joint',\n",
       "       'verification_status_joint', 'acc_now_delinq', 'tot_coll_amt',\n",
       "       'tot_cur_bal', 'open_acc_6m', 'open_il_6m', 'open_il_12m',\n",
       "       'open_il_24m', 'mths_since_rcnt_il', 'total_bal_il', 'il_util',\n",
       "       'open_rv_12m', 'open_rv_24m', 'max_bal_bc', 'all_util',\n",
       "       'total_rev_hi_lim', 'inq_fi', 'total_cu_tl', 'inq_last_12m',\n",
       "       'acc_open_past_24mths', 'avg_cur_bal', 'bc_open_to_buy', 'bc_util',\n",
       "       'chargeoff_within_12_mths', 'delinq_amnt', 'mo_sin_old_il_acct',\n",
       "       'mo_sin_old_rev_tl_op', 'mo_sin_rcnt_rev_tl_op', 'mo_sin_rcnt_tl',\n",
       "       'mort_acc', 'mths_since_recent_bc', 'mths_since_recent_bc_dlq',\n",
       "       'mths_since_recent_inq', 'mths_since_recent_revol_delinq',\n",
       "       'num_accts_ever_120_pd', 'num_actv_bc_tl', 'num_actv_rev_tl',\n",
       "       'num_bc_sats', 'num_bc_tl', 'num_il_tl', 'num_op_rev_tl',\n",
       "       'num_rev_accts', 'num_rev_tl_bal_gt_0', 'num_sats',\n",
       "       'num_tl_120dpd_2m', 'num_tl_30dpd', 'num_tl_90g_dpd_24m',\n",
       "       'num_tl_op_past_12m', 'pct_tl_nvr_dlq', 'percent_bc_gt_75',\n",
       "       'pub_rec_bankruptcies', 'tax_liens', 'tot_hi_cred_lim',\n",
       "       'total_bal_ex_mort', 'total_bc_limit',\n",
       "       'total_il_high_credit_limit'], dtype=object)"
      ]
     },
     "execution_count": 6,
     "metadata": {},
     "output_type": "execute_result"
    }
   ],
   "source": [
    "#displaying column names\n",
    "loans.columns.values"
   ]
  },
  {
   "cell_type": "code",
   "execution_count": 7,
   "id": "a59e3773",
   "metadata": {
    "scrolled": false
   },
   "outputs": [
    {
     "name": "stdout",
     "output_type": "stream",
     "text": [
      "<class 'pandas.core.frame.DataFrame'>\n",
      "RangeIndex: 42538 entries, 0 to 42537\n",
      "Columns: 115 entries, id to total_il_high_credit_limit\n",
      "dtypes: float64(90), object(25)\n",
      "memory usage: 37.3+ MB\n"
     ]
    }
   ],
   "source": [
    "#Displaying column names and datatype per column.\n",
    "loans.info()"
   ]
  },
  {
   "cell_type": "markdown",
   "id": "9d90bc29",
   "metadata": {},
   "source": [
    "### General preprocessing of the data"
   ]
  },
  {
   "cell_type": "code",
   "execution_count": 8,
   "id": "e271b30d",
   "metadata": {
    "scrolled": true
   },
   "outputs": [
    {
     "data": {
      "text/html": [
       "<div>\n",
       "<style scoped>\n",
       "    .dataframe tbody tr th:only-of-type {\n",
       "        vertical-align: middle;\n",
       "    }\n",
       "\n",
       "    .dataframe tbody tr th {\n",
       "        vertical-align: top;\n",
       "    }\n",
       "\n",
       "    .dataframe thead th {\n",
       "        text-align: right;\n",
       "    }\n",
       "</style>\n",
       "<table border=\"1\" class=\"dataframe\">\n",
       "  <thead>\n",
       "    <tr style=\"text-align: right;\">\n",
       "      <th></th>\n",
       "      <th>Nulls</th>\n",
       "      <th>Num_of_nulls [qty]</th>\n",
       "      <th>Num_of_nulls [%]</th>\n",
       "    </tr>\n",
       "  </thead>\n",
       "  <tbody>\n",
       "    <tr>\n",
       "      <th>id</th>\n",
       "      <td>False</td>\n",
       "      <td>0</td>\n",
       "      <td>0.00</td>\n",
       "    </tr>\n",
       "    <tr>\n",
       "      <th>member_id</th>\n",
       "      <td>True</td>\n",
       "      <td>3</td>\n",
       "      <td>0.01</td>\n",
       "    </tr>\n",
       "    <tr>\n",
       "      <th>loan_amnt</th>\n",
       "      <td>True</td>\n",
       "      <td>3</td>\n",
       "      <td>0.01</td>\n",
       "    </tr>\n",
       "    <tr>\n",
       "      <th>funded_amnt</th>\n",
       "      <td>True</td>\n",
       "      <td>3</td>\n",
       "      <td>0.01</td>\n",
       "    </tr>\n",
       "    <tr>\n",
       "      <th>funded_amnt_inv</th>\n",
       "      <td>True</td>\n",
       "      <td>3</td>\n",
       "      <td>0.01</td>\n",
       "    </tr>\n",
       "  </tbody>\n",
       "</table>\n",
       "</div>"
      ],
      "text/plain": [
       "                 Nulls  Num_of_nulls [qty]  Num_of_nulls [%]\n",
       "id               False                   0              0.00\n",
       "member_id         True                   3              0.01\n",
       "loan_amnt         True                   3              0.01\n",
       "funded_amnt       True                   3              0.01\n",
       "funded_amnt_inv   True                   3              0.01"
      ]
     },
     "execution_count": 8,
     "metadata": {},
     "output_type": "execute_result"
    }
   ],
   "source": [
    "#checking the amount & % of null values in dataframe\n",
    "nulls_summary = pd.DataFrame(loans.isnull().any(), columns=['Nulls'])\n",
    "nulls_summary['Num_of_nulls [qty]'] = pd.DataFrame(loans.isnull().sum())\n",
    "nulls_summary['Num_of_nulls [%]'] = pd.DataFrame(round(loans.isnull().mean()*100,2))\n",
    "nulls_summary.head(5)"
   ]
  },
  {
   "cell_type": "code",
   "execution_count": 9,
   "id": "524fa81e",
   "metadata": {},
   "outputs": [],
   "source": [
    "# There is lots of columns with 50% or more data missing, I'm going to remove this column\n",
    "loans = loans.dropna(thresh=(len(loans)/2), axis=1)"
   ]
  },
  {
   "cell_type": "code",
   "execution_count": 10,
   "id": "84b9070e",
   "metadata": {
    "scrolled": true
   },
   "outputs": [
    {
     "data": {
      "text/plain": [
       "(42538, 58)"
      ]
     },
     "execution_count": 10,
     "metadata": {},
     "output_type": "execute_result"
    }
   ],
   "source": [
    "loans.shape"
   ]
  },
  {
   "cell_type": "markdown",
   "id": "837f678b",
   "metadata": {},
   "source": [
    "### Dictionary"
   ]
  },
  {
   "cell_type": "code",
   "execution_count": 11,
   "id": "5babf000",
   "metadata": {},
   "outputs": [
    {
     "data": {
      "text/html": [
       "<div>\n",
       "<style scoped>\n",
       "    .dataframe tbody tr th:only-of-type {\n",
       "        vertical-align: middle;\n",
       "    }\n",
       "\n",
       "    .dataframe tbody tr th {\n",
       "        vertical-align: top;\n",
       "    }\n",
       "\n",
       "    .dataframe thead th {\n",
       "        text-align: right;\n",
       "    }\n",
       "</style>\n",
       "<table border=\"1\" class=\"dataframe\">\n",
       "  <thead>\n",
       "    <tr style=\"text-align: right;\">\n",
       "      <th></th>\n",
       "      <th>name</th>\n",
       "      <th>description</th>\n",
       "    </tr>\n",
       "  </thead>\n",
       "  <tbody>\n",
       "    <tr>\n",
       "      <th>0</th>\n",
       "      <td>acc_now_delinq</td>\n",
       "      <td>The number of accounts on which the borrower is now delinquent.</td>\n",
       "    </tr>\n",
       "    <tr>\n",
       "      <th>1</th>\n",
       "      <td>acc_open_past_24mths</td>\n",
       "      <td>Number of trades opened in past 24 months.</td>\n",
       "    </tr>\n",
       "    <tr>\n",
       "      <th>2</th>\n",
       "      <td>addr_state</td>\n",
       "      <td>The state provided by the borrower in the loan application</td>\n",
       "    </tr>\n",
       "    <tr>\n",
       "      <th>3</th>\n",
       "      <td>all_util</td>\n",
       "      <td>Balance to credit limit on all trades</td>\n",
       "    </tr>\n",
       "    <tr>\n",
       "      <th>4</th>\n",
       "      <td>annual_inc</td>\n",
       "      <td>The self-reported annual income provided by the borrower during registration.</td>\n",
       "    </tr>\n",
       "  </tbody>\n",
       "</table>\n",
       "</div>"
      ],
      "text/plain": [
       "                   name  \\\n",
       "0        acc_now_delinq   \n",
       "1  acc_open_past_24mths   \n",
       "2            addr_state   \n",
       "3              all_util   \n",
       "4            annual_inc   \n",
       "\n",
       "                                                                     description  \n",
       "0                The number of accounts on which the borrower is now delinquent.  \n",
       "1                                     Number of trades opened in past 24 months.  \n",
       "2                     The state provided by the borrower in the loan application  \n",
       "3                                          Balance to credit limit on all trades  \n",
       "4  The self-reported annual income provided by the borrower during registration.  "
      ]
     },
     "execution_count": 11,
     "metadata": {},
     "output_type": "execute_result"
    }
   ],
   "source": [
    "#uploading the dictionary to bettter understand the data, renaming columns name so its easier to understand\n",
    "dictionary_DF = pd.read_csv('LCDataDictionary.csv')\n",
    "dictionary_DF = dictionary_DF.rename(columns={'LoanStatNew': 'name', 'Description': 'description'})\n",
    "dictionary_DF.head(5)"
   ]
  },
  {
   "cell_type": "code",
   "execution_count": null,
   "id": "ef084590",
   "metadata": {},
   "outputs": [],
   "source": [
    "dictionary_DF.shape"
   ]
  },
  {
   "cell_type": "code",
   "execution_count": 12,
   "id": "cf327a6c",
   "metadata": {},
   "outputs": [],
   "source": [
    "# as the uploaded dictionary has all 117 columns Im going to merge the first row fo loans to dictionary DF\n",
    "loans_dict = pd.DataFrame(loans.dtypes)\n",
    "loans_dict = loans_dict.reset_index()\n",
    "loans_dict['name'] = loans_dict['index']\n",
    "loans_dict = loans_dict[['name']]\n",
    "dictionary = loans_dict.merge(dictionary_DF, on='name', how='left')\n"
   ]
  },
  {
   "cell_type": "code",
   "execution_count": 13,
   "id": "d86447ab",
   "metadata": {},
   "outputs": [],
   "source": [
    "dictionary = dictionary.dropna()"
   ]
  },
  {
   "cell_type": "code",
   "execution_count": 14,
   "id": "fd58945f",
   "metadata": {},
   "outputs": [
    {
     "data": {
      "text/plain": [
       "(58, 2)"
      ]
     },
     "execution_count": 14,
     "metadata": {},
     "output_type": "execute_result"
    }
   ],
   "source": [
    "dictionary.shape"
   ]
  },
  {
   "cell_type": "code",
   "execution_count": 15,
   "id": "96fe8b7f",
   "metadata": {},
   "outputs": [
    {
     "data": {
      "text/html": [
       "<div>\n",
       "<style scoped>\n",
       "    .dataframe tbody tr th:only-of-type {\n",
       "        vertical-align: middle;\n",
       "    }\n",
       "\n",
       "    .dataframe tbody tr th {\n",
       "        vertical-align: top;\n",
       "    }\n",
       "\n",
       "    .dataframe thead th {\n",
       "        text-align: right;\n",
       "    }\n",
       "</style>\n",
       "<table border=\"1\" class=\"dataframe\">\n",
       "  <thead>\n",
       "    <tr style=\"text-align: right;\">\n",
       "      <th></th>\n",
       "      <th>name</th>\n",
       "      <th>description</th>\n",
       "    </tr>\n",
       "  </thead>\n",
       "  <tbody>\n",
       "    <tr>\n",
       "      <th>0</th>\n",
       "      <td>id</td>\n",
       "      <td>A unique LC assigned ID for the loan listing.</td>\n",
       "    </tr>\n",
       "    <tr>\n",
       "      <th>1</th>\n",
       "      <td>member_id</td>\n",
       "      <td>A unique LC assigned Id for the borrower member.</td>\n",
       "    </tr>\n",
       "    <tr>\n",
       "      <th>2</th>\n",
       "      <td>loan_amnt</td>\n",
       "      <td>The listed amount of the loan applied for by the borrower. If at some point in time, the credit department reduces the loan amount, then it will be reflected in this value.</td>\n",
       "    </tr>\n",
       "    <tr>\n",
       "      <th>3</th>\n",
       "      <td>funded_amnt</td>\n",
       "      <td>The total amount committed to that loan at that point in time.</td>\n",
       "    </tr>\n",
       "    <tr>\n",
       "      <th>4</th>\n",
       "      <td>funded_amnt_inv</td>\n",
       "      <td>The total amount committed by investors for that loan at that point in time.</td>\n",
       "    </tr>\n",
       "    <tr>\n",
       "      <th>5</th>\n",
       "      <td>term</td>\n",
       "      <td>The number of payments on the loan. Values are in months and can be either 36 or 60.</td>\n",
       "    </tr>\n",
       "    <tr>\n",
       "      <th>6</th>\n",
       "      <td>int_rate</td>\n",
       "      <td>Interest Rate on the loan</td>\n",
       "    </tr>\n",
       "    <tr>\n",
       "      <th>7</th>\n",
       "      <td>installment</td>\n",
       "      <td>The monthly payment owed by the borrower if the loan originates.</td>\n",
       "    </tr>\n",
       "    <tr>\n",
       "      <th>8</th>\n",
       "      <td>grade</td>\n",
       "      <td>LC assigned loan grade</td>\n",
       "    </tr>\n",
       "    <tr>\n",
       "      <th>9</th>\n",
       "      <td>sub_grade</td>\n",
       "      <td>LC assigned loan subgrade</td>\n",
       "    </tr>\n",
       "    <tr>\n",
       "      <th>10</th>\n",
       "      <td>emp_title</td>\n",
       "      <td>The job title supplied by the Borrower when applying for the loan.*</td>\n",
       "    </tr>\n",
       "    <tr>\n",
       "      <th>11</th>\n",
       "      <td>emp_length</td>\n",
       "      <td>Employment length in years. Possible values are between 0 and 10 where 0 means less than one year and 10 means ten or more years.</td>\n",
       "    </tr>\n",
       "    <tr>\n",
       "      <th>12</th>\n",
       "      <td>home_ownership</td>\n",
       "      <td>The home ownership status provided by the borrower during registration. Our values are: RENT, OWN, MORTGAGE, OTHER.</td>\n",
       "    </tr>\n",
       "    <tr>\n",
       "      <th>13</th>\n",
       "      <td>annual_inc</td>\n",
       "      <td>The self-reported annual income provided by the borrower during registration.</td>\n",
       "    </tr>\n",
       "    <tr>\n",
       "      <th>14</th>\n",
       "      <td>verification_status</td>\n",
       "      <td>Indicates if income was verified by LC, not verified, or if the income source was verified</td>\n",
       "    </tr>\n",
       "    <tr>\n",
       "      <th>15</th>\n",
       "      <td>issue_d</td>\n",
       "      <td>The month which the loan was funded</td>\n",
       "    </tr>\n",
       "    <tr>\n",
       "      <th>16</th>\n",
       "      <td>loan_status</td>\n",
       "      <td>Current status of the loan</td>\n",
       "    </tr>\n",
       "    <tr>\n",
       "      <th>17</th>\n",
       "      <td>pymnt_plan</td>\n",
       "      <td>Indicates if a payment plan has been put in place for the loan</td>\n",
       "    </tr>\n",
       "    <tr>\n",
       "      <th>18</th>\n",
       "      <td>url</td>\n",
       "      <td>URL for the LC page with listing data.</td>\n",
       "    </tr>\n",
       "    <tr>\n",
       "      <th>19</th>\n",
       "      <td>desc</td>\n",
       "      <td>Loan description provided by the borrower</td>\n",
       "    </tr>\n",
       "    <tr>\n",
       "      <th>20</th>\n",
       "      <td>purpose</td>\n",
       "      <td>A category provided by the borrower for the loan request.</td>\n",
       "    </tr>\n",
       "    <tr>\n",
       "      <th>21</th>\n",
       "      <td>title</td>\n",
       "      <td>The loan title provided by the borrower</td>\n",
       "    </tr>\n",
       "    <tr>\n",
       "      <th>22</th>\n",
       "      <td>zip_code</td>\n",
       "      <td>The first 3 numbers of the zip code provided by the borrower in the loan application.</td>\n",
       "    </tr>\n",
       "    <tr>\n",
       "      <th>23</th>\n",
       "      <td>addr_state</td>\n",
       "      <td>The state provided by the borrower in the loan application</td>\n",
       "    </tr>\n",
       "    <tr>\n",
       "      <th>24</th>\n",
       "      <td>dti</td>\n",
       "      <td>A ratio calculated using the borrower’s total monthly debt payments on the total debt obligations, excluding mortgage and the requested LC loan, divided by the borrower’s self-reported monthly income.</td>\n",
       "    </tr>\n",
       "    <tr>\n",
       "      <th>25</th>\n",
       "      <td>delinq_2yrs</td>\n",
       "      <td>The number of 30+ days past-due incidences of delinquency in the borrower's credit file for the past 2 years</td>\n",
       "    </tr>\n",
       "    <tr>\n",
       "      <th>26</th>\n",
       "      <td>earliest_cr_line</td>\n",
       "      <td>The month the borrower's earliest reported credit line was opened</td>\n",
       "    </tr>\n",
       "    <tr>\n",
       "      <th>27</th>\n",
       "      <td>fico_range_low</td>\n",
       "      <td>The lower boundary range the borrower’s FICO at loan origination belongs to.</td>\n",
       "    </tr>\n",
       "    <tr>\n",
       "      <th>28</th>\n",
       "      <td>fico_range_high</td>\n",
       "      <td>The upper boundary range the borrower’s FICO at loan origination belongs to.</td>\n",
       "    </tr>\n",
       "    <tr>\n",
       "      <th>29</th>\n",
       "      <td>inq_last_6mths</td>\n",
       "      <td>The number of inquiries in past 6 months (excluding auto and mortgage inquiries)</td>\n",
       "    </tr>\n",
       "    <tr>\n",
       "      <th>30</th>\n",
       "      <td>open_acc</td>\n",
       "      <td>The number of open credit lines in the borrower's credit file.</td>\n",
       "    </tr>\n",
       "    <tr>\n",
       "      <th>31</th>\n",
       "      <td>pub_rec</td>\n",
       "      <td>Number of derogatory public records</td>\n",
       "    </tr>\n",
       "    <tr>\n",
       "      <th>32</th>\n",
       "      <td>revol_bal</td>\n",
       "      <td>Total credit revolving balance</td>\n",
       "    </tr>\n",
       "    <tr>\n",
       "      <th>33</th>\n",
       "      <td>revol_util</td>\n",
       "      <td>Revolving line utilization rate, or the amount of credit the borrower is using relative to all available revolving credit.</td>\n",
       "    </tr>\n",
       "    <tr>\n",
       "      <th>34</th>\n",
       "      <td>total_acc</td>\n",
       "      <td>The total number of credit lines currently in the borrower's credit file</td>\n",
       "    </tr>\n",
       "    <tr>\n",
       "      <th>35</th>\n",
       "      <td>initial_list_status</td>\n",
       "      <td>The initial listing status of the loan. Possible values are – W, F</td>\n",
       "    </tr>\n",
       "    <tr>\n",
       "      <th>36</th>\n",
       "      <td>out_prncp</td>\n",
       "      <td>Remaining outstanding principal for total amount funded</td>\n",
       "    </tr>\n",
       "    <tr>\n",
       "      <th>37</th>\n",
       "      <td>out_prncp_inv</td>\n",
       "      <td>Remaining outstanding principal for portion of total amount funded by investors</td>\n",
       "    </tr>\n",
       "    <tr>\n",
       "      <th>38</th>\n",
       "      <td>total_pymnt</td>\n",
       "      <td>Payments received to date for total amount funded</td>\n",
       "    </tr>\n",
       "    <tr>\n",
       "      <th>39</th>\n",
       "      <td>total_pymnt_inv</td>\n",
       "      <td>Payments received to date for portion of total amount funded by investors</td>\n",
       "    </tr>\n",
       "    <tr>\n",
       "      <th>40</th>\n",
       "      <td>total_rec_prncp</td>\n",
       "      <td>Principal received to date</td>\n",
       "    </tr>\n",
       "    <tr>\n",
       "      <th>41</th>\n",
       "      <td>total_rec_int</td>\n",
       "      <td>Interest received to date</td>\n",
       "    </tr>\n",
       "    <tr>\n",
       "      <th>42</th>\n",
       "      <td>total_rec_late_fee</td>\n",
       "      <td>Late fees received to date</td>\n",
       "    </tr>\n",
       "    <tr>\n",
       "      <th>43</th>\n",
       "      <td>recoveries</td>\n",
       "      <td>post charge off gross recovery</td>\n",
       "    </tr>\n",
       "    <tr>\n",
       "      <th>44</th>\n",
       "      <td>collection_recovery_fee</td>\n",
       "      <td>post charge off collection fee</td>\n",
       "    </tr>\n",
       "    <tr>\n",
       "      <th>45</th>\n",
       "      <td>last_pymnt_d</td>\n",
       "      <td>Last month payment was received</td>\n",
       "    </tr>\n",
       "    <tr>\n",
       "      <th>46</th>\n",
       "      <td>last_pymnt_amnt</td>\n",
       "      <td>Last total payment amount received</td>\n",
       "    </tr>\n",
       "    <tr>\n",
       "      <th>47</th>\n",
       "      <td>last_credit_pull_d</td>\n",
       "      <td>The most recent month LC pulled credit for this loan</td>\n",
       "    </tr>\n",
       "    <tr>\n",
       "      <th>48</th>\n",
       "      <td>last_fico_range_high</td>\n",
       "      <td>The upper boundary range the borrower’s last FICO pulled belongs to.</td>\n",
       "    </tr>\n",
       "    <tr>\n",
       "      <th>49</th>\n",
       "      <td>last_fico_range_low</td>\n",
       "      <td>The lower boundary range the borrower’s last FICO pulled belongs to.</td>\n",
       "    </tr>\n",
       "    <tr>\n",
       "      <th>50</th>\n",
       "      <td>collections_12_mths_ex_med</td>\n",
       "      <td>Number of collections in 12 months excluding medical collections</td>\n",
       "    </tr>\n",
       "    <tr>\n",
       "      <th>51</th>\n",
       "      <td>policy_code</td>\n",
       "      <td>publicly available policy_code=1\\nnew products not publicly available policy_code=2</td>\n",
       "    </tr>\n",
       "    <tr>\n",
       "      <th>52</th>\n",
       "      <td>application_type</td>\n",
       "      <td>Indicates whether the loan is an individual application or a joint application with two co-borrowers</td>\n",
       "    </tr>\n",
       "    <tr>\n",
       "      <th>53</th>\n",
       "      <td>acc_now_delinq</td>\n",
       "      <td>The number of accounts on which the borrower is now delinquent.</td>\n",
       "    </tr>\n",
       "    <tr>\n",
       "      <th>54</th>\n",
       "      <td>chargeoff_within_12_mths</td>\n",
       "      <td>Number of charge-offs within 12 months</td>\n",
       "    </tr>\n",
       "    <tr>\n",
       "      <th>55</th>\n",
       "      <td>delinq_amnt</td>\n",
       "      <td>The past-due amount owed for the accounts on which the borrower is now delinquent.</td>\n",
       "    </tr>\n",
       "    <tr>\n",
       "      <th>56</th>\n",
       "      <td>pub_rec_bankruptcies</td>\n",
       "      <td>Number of public record bankruptcies</td>\n",
       "    </tr>\n",
       "    <tr>\n",
       "      <th>57</th>\n",
       "      <td>tax_liens</td>\n",
       "      <td>Number of tax liens</td>\n",
       "    </tr>\n",
       "  </tbody>\n",
       "</table>\n",
       "</div>"
      ],
      "text/plain": [
       "                          name  \\\n",
       "0                           id   \n",
       "1                    member_id   \n",
       "2                    loan_amnt   \n",
       "3                  funded_amnt   \n",
       "4              funded_amnt_inv   \n",
       "5                         term   \n",
       "6                     int_rate   \n",
       "7                  installment   \n",
       "8                        grade   \n",
       "9                    sub_grade   \n",
       "10                   emp_title   \n",
       "11                  emp_length   \n",
       "12              home_ownership   \n",
       "13                  annual_inc   \n",
       "14         verification_status   \n",
       "15                     issue_d   \n",
       "16                 loan_status   \n",
       "17                  pymnt_plan   \n",
       "18                         url   \n",
       "19                        desc   \n",
       "20                     purpose   \n",
       "21                       title   \n",
       "22                    zip_code   \n",
       "23                  addr_state   \n",
       "24                         dti   \n",
       "25                 delinq_2yrs   \n",
       "26            earliest_cr_line   \n",
       "27              fico_range_low   \n",
       "28             fico_range_high   \n",
       "29              inq_last_6mths   \n",
       "30                    open_acc   \n",
       "31                     pub_rec   \n",
       "32                   revol_bal   \n",
       "33                  revol_util   \n",
       "34                   total_acc   \n",
       "35         initial_list_status   \n",
       "36                   out_prncp   \n",
       "37               out_prncp_inv   \n",
       "38                 total_pymnt   \n",
       "39             total_pymnt_inv   \n",
       "40             total_rec_prncp   \n",
       "41               total_rec_int   \n",
       "42          total_rec_late_fee   \n",
       "43                  recoveries   \n",
       "44     collection_recovery_fee   \n",
       "45                last_pymnt_d   \n",
       "46             last_pymnt_amnt   \n",
       "47          last_credit_pull_d   \n",
       "48        last_fico_range_high   \n",
       "49         last_fico_range_low   \n",
       "50  collections_12_mths_ex_med   \n",
       "51                 policy_code   \n",
       "52            application_type   \n",
       "53              acc_now_delinq   \n",
       "54    chargeoff_within_12_mths   \n",
       "55                 delinq_amnt   \n",
       "56        pub_rec_bankruptcies   \n",
       "57                   tax_liens   \n",
       "\n",
       "                                                                                                                                                                                                 description  \n",
       "0                                                                                                                                                              A unique LC assigned ID for the loan listing.  \n",
       "1                                                                                                                                                           A unique LC assigned Id for the borrower member.  \n",
       "2                               The listed amount of the loan applied for by the borrower. If at some point in time, the credit department reduces the loan amount, then it will be reflected in this value.  \n",
       "3                                                                                                                                             The total amount committed to that loan at that point in time.  \n",
       "4                                                                                                                               The total amount committed by investors for that loan at that point in time.  \n",
       "5                                                                                                                       The number of payments on the loan. Values are in months and can be either 36 or 60.  \n",
       "6                                                                                                                                                                                  Interest Rate on the loan  \n",
       "7                                                                                                                                           The monthly payment owed by the borrower if the loan originates.  \n",
       "8                                                                                                                                                                                     LC assigned loan grade  \n",
       "9                                                                                                                                                                                  LC assigned loan subgrade  \n",
       "10                                                                                                                                       The job title supplied by the Borrower when applying for the loan.*  \n",
       "11                                                                        Employment length in years. Possible values are between 0 and 10 where 0 means less than one year and 10 means ten or more years.   \n",
       "12                                                                                       The home ownership status provided by the borrower during registration. Our values are: RENT, OWN, MORTGAGE, OTHER.  \n",
       "13                                                                                                                             The self-reported annual income provided by the borrower during registration.  \n",
       "14                                                                                                                Indicates if income was verified by LC, not verified, or if the income source was verified  \n",
       "15                                                                                                                                                                       The month which the loan was funded  \n",
       "16                                                                                                                                                                                Current status of the loan  \n",
       "17                                                                                                                                            Indicates if a payment plan has been put in place for the loan  \n",
       "18                                                                                                                                                                    URL for the LC page with listing data.  \n",
       "19                                                                                                                                                                 Loan description provided by the borrower  \n",
       "20                                                                                                                                                A category provided by the borrower for the loan request.   \n",
       "21                                                                                                                                                                   The loan title provided by the borrower  \n",
       "22                                                                                                                     The first 3 numbers of the zip code provided by the borrower in the loan application.  \n",
       "23                                                                                                                                                The state provided by the borrower in the loan application  \n",
       "24  A ratio calculated using the borrower’s total monthly debt payments on the total debt obligations, excluding mortgage and the requested LC loan, divided by the borrower’s self-reported monthly income.  \n",
       "25                                                                                              The number of 30+ days past-due incidences of delinquency in the borrower's credit file for the past 2 years  \n",
       "26                                                                                                                                         The month the borrower's earliest reported credit line was opened  \n",
       "27                                                                                                                              The lower boundary range the borrower’s FICO at loan origination belongs to.  \n",
       "28                                                                                                                              The upper boundary range the borrower’s FICO at loan origination belongs to.  \n",
       "29                                                                                                                          The number of inquiries in past 6 months (excluding auto and mortgage inquiries)  \n",
       "30                                                                                                                                            The number of open credit lines in the borrower's credit file.  \n",
       "31                                                                                                                                                                       Number of derogatory public records  \n",
       "32                                                                                                                                                                            Total credit revolving balance  \n",
       "33                                                                                Revolving line utilization rate, or the amount of credit the borrower is using relative to all available revolving credit.  \n",
       "34                                                                                                                                  The total number of credit lines currently in the borrower's credit file  \n",
       "35                                                                                                                                        The initial listing status of the loan. Possible values are – W, F  \n",
       "36                                                                                                                                                   Remaining outstanding principal for total amount funded  \n",
       "37                                                                                                                           Remaining outstanding principal for portion of total amount funded by investors  \n",
       "38                                                                                                                                                         Payments received to date for total amount funded  \n",
       "39                                                                                                                                 Payments received to date for portion of total amount funded by investors  \n",
       "40                                                                                                                                                                                Principal received to date  \n",
       "41                                                                                                                                                                                 Interest received to date  \n",
       "42                                                                                                                                                                                Late fees received to date  \n",
       "43                                                                                                                                                                            post charge off gross recovery  \n",
       "44                                                                                                                                                                            post charge off collection fee  \n",
       "45                                                                                                                                                                           Last month payment was received  \n",
       "46                                                                                                                                                                        Last total payment amount received  \n",
       "47                                                                                                                                                      The most recent month LC pulled credit for this loan  \n",
       "48                                                                                                                                      The upper boundary range the borrower’s last FICO pulled belongs to.  \n",
       "49                                                                                                                                      The lower boundary range the borrower’s last FICO pulled belongs to.  \n",
       "50                                                                                                                                          Number of collections in 12 months excluding medical collections  \n",
       "51                                                                                                                       publicly available policy_code=1\\nnew products not publicly available policy_code=2  \n",
       "52                                                                                                      Indicates whether the loan is an individual application or a joint application with two co-borrowers  \n",
       "53                                                                                                                                           The number of accounts on which the borrower is now delinquent.  \n",
       "54                                                                                                                                                                    Number of charge-offs within 12 months  \n",
       "55                                                                                                                        The past-due amount owed for the accounts on which the borrower is now delinquent.  \n",
       "56                                                                                                                                                                      Number of public record bankruptcies  \n",
       "57                                                                                                                                                                                       Number of tax liens  "
      ]
     },
     "execution_count": 15,
     "metadata": {},
     "output_type": "execute_result"
    }
   ],
   "source": [
    "dictionary"
   ]
  },
  {
   "cell_type": "markdown",
   "id": "fc70ece9",
   "metadata": {},
   "source": [
    "### I have 58 columns in my dataframe. Now I'm going to explore them to have a better understending of them. I need to remove any feature where:\n",
    "- has still missing data,\n",
    "- has information that is reduntand\n",
    "- information about loans that are already funded\n",
    "- has no effects on borrower's ability to repay the loan"
   ]
  },
  {
   "cell_type": "code",
   "execution_count": 16,
   "id": "da9dfeda",
   "metadata": {},
   "outputs": [],
   "source": [
    "#removing id & member_id as its used only by Lending Club for identification purposes\n",
    "loans = loans.drop(['id', 'member_id'], axis=1)"
   ]
  },
  {
   "cell_type": "code",
   "execution_count": 200,
   "id": "cd3292b0",
   "metadata": {},
   "outputs": [],
   "source": [
    "#removing funded_amnt & funded_amnt_inv as loan has been already funded\n",
    "loans = loans.drop(['funded_amnt', 'funded_amnt_inv'], axis=1)"
   ]
  },
  {
   "cell_type": "code",
   "execution_count": 18,
   "id": "6b3ecc53",
   "metadata": {},
   "outputs": [],
   "source": [
    "#removing sub_grade & 'int_rate' as both are included in grade column\n",
    "loans = loans.drop(['sub_grade', 'int_rate'], axis=1)"
   ]
  },
  {
   "cell_type": "code",
   "execution_count": 19,
   "id": "13627467",
   "metadata": {},
   "outputs": [
    {
     "name": "stdout",
     "output_type": "stream",
     "text": [
      "2629\n"
     ]
    }
   ],
   "source": [
    "print(loans['emp_title'].isnull().sum())"
   ]
  },
  {
   "cell_type": "code",
   "execution_count": 20,
   "id": "93439d27",
   "metadata": {},
   "outputs": [],
   "source": [
    "#removing emp_title as lots of missing values and it would take too much time to fill it\n",
    "loans = loans.drop(['emp_title'], axis=1)"
   ]
  },
  {
   "cell_type": "code",
   "execution_count": 21,
   "id": "85251741",
   "metadata": {},
   "outputs": [
    {
     "data": {
      "text/plain": [
       "n    42534\n",
       "y        1\n",
       "Name: pymnt_plan, dtype: int64"
      ]
     },
     "execution_count": 21,
     "metadata": {},
     "output_type": "execute_result"
    }
   ],
   "source": [
    "loans['pymnt_plan'].value_counts()"
   ]
  },
  {
   "cell_type": "code",
   "execution_count": 22,
   "id": "a8b01569",
   "metadata": {},
   "outputs": [],
   "source": [
    "#['pymnt_plan'] this columns has only 2 unique val, y & n, where y ocurres only once, doesn't bring anything of value\n",
    "loans = loans.drop(['pymnt_plan'], axis=1)"
   ]
  },
  {
   "cell_type": "code",
   "execution_count": 23,
   "id": "9ecb14e0",
   "metadata": {},
   "outputs": [],
   "source": [
    "#removing ['issue_d'] as related to loan that was already issued\n",
    "loans = loans.drop(['issue_d'], axis=1)"
   ]
  },
  {
   "cell_type": "code",
   "execution_count": 24,
   "id": "0c815924",
   "metadata": {},
   "outputs": [],
   "source": [
    "#removing ['url'] as its just an url for a member to login\n",
    "loans = loans.drop(['url'], axis=1)"
   ]
  },
  {
   "cell_type": "code",
   "execution_count": 25,
   "id": "651ddfb8",
   "metadata": {},
   "outputs": [],
   "source": [
    "#removing ['desc'], its a desription of what the money will be used for,not needed\n",
    "loans = loans.drop(['desc'], axis=1)"
   ]
  },
  {
   "cell_type": "code",
   "execution_count": 26,
   "id": "1ca9522f",
   "metadata": {},
   "outputs": [],
   "source": [
    "#this is just a title given by customer describing the purpose of the loan\n",
    "loans = loans.drop(['title'], axis=1)"
   ]
  },
  {
   "cell_type": "code",
   "execution_count": 27,
   "id": "666f26ae",
   "metadata": {},
   "outputs": [],
   "source": [
    "#only a partial zipcode, 3 out of 5 digits\n",
    "loans = loans.drop(['zip_code'], axis=1)"
   ]
  },
  {
   "cell_type": "code",
   "execution_count": 28,
   "id": "5e6d8aa8",
   "metadata": {},
   "outputs": [],
   "source": [
    "#The initial listing status of the loan, only 1 constant value f for all obesrvation\n",
    "loans = loans.drop(['initial_list_status'], axis=1)"
   ]
  },
  {
   "cell_type": "code",
   "execution_count": 29,
   "id": "741b1cf1",
   "metadata": {},
   "outputs": [],
   "source": [
    "# ['out_prncp'], ['out_prncp_inv'], ['total_pymnt'], ['total_pymnt_inv'] -> all of them are  \n",
    "#related to loans that have been already funded and the borrower started to pay it off \n",
    "\n",
    "to_drop = ['out_prncp', 'out_prncp_inv', 'total_pymnt', 'total_pymnt_inv']\n",
    "loans = loans.drop(to_drop, axis=1)\n"
   ]
  },
  {
   "cell_type": "code",
   "execution_count": 30,
   "id": "afde6d57",
   "metadata": {},
   "outputs": [],
   "source": [
    "# all below colums are related to varius payments received up to date, not needed\n",
    "to_drop2 = ['total_rec_prncp', 'total_rec_int', 'total_rec_late_fee',\n",
    "            'recoveries', 'collection_recovery_fee', 'last_pymnt_d', 'last_pymnt_amnt']\n",
    "loans = loans.drop(to_drop2, axis=1)"
   ]
  },
  {
   "cell_type": "code",
   "execution_count": 31,
   "id": "c1074701",
   "metadata": {},
   "outputs": [],
   "source": [
    "#collections_12_mths_ex_med gives only 1 value 0.0\n",
    "loans = loans.drop(['collections_12_mths_ex_med'], axis=1)"
   ]
  },
  {
   "cell_type": "code",
   "execution_count": 32,
   "id": "1e5d9d4f",
   "metadata": {
    "scrolled": true
   },
   "outputs": [
    {
     "data": {
      "text/plain": [
       "0    Sep-2016\n",
       "1    Sep-2016\n",
       "2    Sep-2016\n",
       "3    Apr-2016\n",
       "4    Sep-2016\n",
       "Name: last_credit_pull_d, dtype: object"
      ]
     },
     "execution_count": 32,
     "metadata": {},
     "output_type": "execute_result"
    }
   ],
   "source": [
    "loans['last_credit_pull_d'].head()"
   ]
  },
  {
   "cell_type": "code",
   "execution_count": 33,
   "id": "0c760853",
   "metadata": {},
   "outputs": [],
   "source": [
    "#I'm removing this column as it's not needed\n",
    "loans = loans.drop(['last_credit_pull_d'], axis=1)"
   ]
  },
  {
   "cell_type": "code",
   "execution_count": 34,
   "id": "9466f7af",
   "metadata": {},
   "outputs": [],
   "source": [
    "#policy_code also only 1 value 1.0\n",
    "loans = loans.drop(['policy_code'], axis=1)"
   ]
  },
  {
   "cell_type": "code",
   "execution_count": 35,
   "id": "33fe61f5",
   "metadata": {},
   "outputs": [],
   "source": [
    "#'installment', removing as already included in grade\n",
    "loans = loans.drop(['installment'], axis=1)"
   ]
  },
  {
   "cell_type": "code",
   "execution_count": 36,
   "id": "adc32e13",
   "metadata": {},
   "outputs": [],
   "source": [
    "# removing as already included in FICO\n",
    "loans = loans.drop(['delinq_2yrs'], axis=1)"
   ]
  },
  {
   "cell_type": "code",
   "execution_count": 37,
   "id": "2022af49",
   "metadata": {},
   "outputs": [],
   "source": [
    "#removing 'revol_bal' as its similar to 'revol_util' column, which Im keeping\n",
    "loans= loans.drop(['revol_bal'], axis=1)"
   ]
  },
  {
   "cell_type": "code",
   "execution_count": 38,
   "id": "7f6ddbb7",
   "metadata": {},
   "outputs": [
    {
     "name": "stdout",
     "output_type": "stream",
     "text": [
      "[ 0. nan  1.]\n"
     ]
    }
   ],
   "source": [
    "#checking unique val of acc_now_delinq column\n",
    "print(loans['acc_now_delinq'].unique())"
   ]
  },
  {
   "cell_type": "code",
   "execution_count": 39,
   "id": "4e9e820f",
   "metadata": {},
   "outputs": [],
   "source": [
    "#only 1 unique val, removing\n",
    "loans = loans.drop(['acc_now_delinq'], axis=1)"
   ]
  },
  {
   "cell_type": "code",
   "execution_count": 40,
   "id": "81928ded",
   "metadata": {},
   "outputs": [
    {
     "name": "stdout",
     "output_type": "stream",
     "text": [
      "[ 0. nan]\n"
     ]
    }
   ],
   "source": [
    "#checking unique val  of 'chargeoff_within_12_mths'\n",
    "print(loans['chargeoff_within_12_mths'].unique())"
   ]
  },
  {
   "cell_type": "code",
   "execution_count": 41,
   "id": "f0518b8d",
   "metadata": {},
   "outputs": [],
   "source": [
    "#2 unique val: 0 & nan, removing\n",
    "loans = loans.drop(['chargeoff_within_12_mths'], axis=1)"
   ]
  },
  {
   "cell_type": "code",
   "execution_count": 42,
   "id": "d3dcc8d9",
   "metadata": {},
   "outputs": [
    {
     "name": "stdout",
     "output_type": "stream",
     "text": [
      "[   0.   nan   27. 6053.]\n"
     ]
    }
   ],
   "source": [
    "#checking unique val  of 'delinq_amnt'\n",
    "print(loans['delinq_amnt'].unique())"
   ]
  },
  {
   "cell_type": "code",
   "execution_count": 43,
   "id": "a9429acb",
   "metadata": {},
   "outputs": [],
   "source": [
    "# only 1 unique val, removing\n",
    "loans = loans.drop(['delinq_amnt'], axis=1)"
   ]
  },
  {
   "cell_type": "code",
   "execution_count": 44,
   "id": "10e9be5f",
   "metadata": {},
   "outputs": [
    {
     "name": "stdout",
     "output_type": "stream",
     "text": [
      "[ 0. nan  1.]\n"
     ]
    }
   ],
   "source": [
    "#checking unique val  of 'tax_liens'\n",
    "print(loans['tax_liens'].unique())"
   ]
  },
  {
   "cell_type": "code",
   "execution_count": 45,
   "id": "09050fb2",
   "metadata": {},
   "outputs": [],
   "source": [
    "# only 1 unique val, removing column\n",
    "loans = loans.drop(['tax_liens'], axis=1)"
   ]
  },
  {
   "cell_type": "code",
   "execution_count": 274,
   "id": "aff2881f",
   "metadata": {},
   "outputs": [
    {
     "data": {
      "text/plain": [
       "(37140, 39)"
      ]
     },
     "execution_count": 274,
     "metadata": {},
     "output_type": "execute_result"
    }
   ],
   "source": [
    "loans.shape"
   ]
  },
  {
   "cell_type": "markdown",
   "id": "1c1d6109",
   "metadata": {},
   "source": [
    "### EDA"
   ]
  },
  {
   "cell_type": "markdown",
   "id": "24c05daa",
   "metadata": {},
   "source": [
    "I have been able to remove over 20 columns, my dataset is much cleaner and more usful. Now Im going to investigate a bit more in depth:"
   ]
  },
  {
   "cell_type": "markdown",
   "id": "bb87ff68",
   "metadata": {},
   "source": [
    "### 'loan_satus' column - my target variable"
   ]
  },
  {
   "cell_type": "markdown",
   "id": "ce9c5b3b",
   "metadata": {},
   "source": [
    "*Loan_status' column describes what is the current status of the loan. It has 9 different possible values. At the moment the column has text values which i will need to convert to numerical values*\n"
   ]
  },
  {
   "cell_type": "code",
   "execution_count": 46,
   "id": "897d3566",
   "metadata": {},
   "outputs": [
    {
     "data": {
      "text/plain": [
       "array(['Fully Paid', 'Charged Off', 'Current', 'In Grace Period',\n",
       "       'Late (31-120 days)', 'Late (16-30 days)', 'Default', nan,\n",
       "       'Does not meet the credit policy. Status:Fully Paid',\n",
       "       'Does not meet the credit policy. Status:Charged Off'],\n",
       "      dtype=object)"
      ]
     },
     "execution_count": 46,
     "metadata": {},
     "output_type": "execute_result"
    }
   ],
   "source": [
    "loans['loan_status'].unique()"
   ]
  },
  {
   "cell_type": "code",
   "execution_count": 47,
   "id": "ff9e8d83",
   "metadata": {},
   "outputs": [
    {
     "data": {
      "text/plain": [
       "Fully Paid                                             33586\n",
       "Charged Off                                             5653\n",
       "Does not meet the credit policy. Status:Fully Paid      1988\n",
       "Does not meet the credit policy. Status:Charged Off      761\n",
       "Current                                                  513\n",
       "In Grace Period                                           16\n",
       "Late (31-120 days)                                        12\n",
       "Late (16-30 days)                                          5\n",
       "Default                                                    1\n",
       "Name: loan_status, dtype: int64"
      ]
     },
     "execution_count": 47,
     "metadata": {},
     "output_type": "execute_result"
    }
   ],
   "source": [
    "loans['loan_status'].value_counts()"
   ]
  },
  {
   "cell_type": "code",
   "execution_count": 48,
   "id": "a4aca402",
   "metadata": {},
   "outputs": [
    {
     "data": {
      "text/plain": [
       "Fully Paid                                             0.789609\n",
       "Charged Off                                            0.132902\n",
       "Does not meet the credit policy. Status:Fully Paid     0.046738\n",
       "Does not meet the credit policy. Status:Charged Off    0.017891\n",
       "Current                                                0.012061\n",
       "In Grace Period                                        0.000376\n",
       "Late (31-120 days)                                     0.000282\n",
       "Late (16-30 days)                                      0.000118\n",
       "Default                                                0.000024\n",
       "Name: loan_status, dtype: float64"
      ]
     },
     "execution_count": 48,
     "metadata": {},
     "output_type": "execute_result"
    }
   ],
   "source": [
    "#getting the proportion of observations for each unique value of a variable\n",
    "loans['loan_status'].value_counts() / loans['loan_status'].count()"
   ]
  },
  {
   "cell_type": "code",
   "execution_count": 49,
   "id": "6634855f",
   "metadata": {},
   "outputs": [
    {
     "data": {
      "text/html": [
       "<div>\n",
       "<style scoped>\n",
       "    .dataframe tbody tr th:only-of-type {\n",
       "        vertical-align: middle;\n",
       "    }\n",
       "\n",
       "    .dataframe tbody tr th {\n",
       "        vertical-align: top;\n",
       "    }\n",
       "\n",
       "    .dataframe thead th {\n",
       "        text-align: right;\n",
       "    }\n",
       "</style>\n",
       "<table border=\"1\" class=\"dataframe\">\n",
       "  <thead>\n",
       "    <tr style=\"text-align: right;\">\n",
       "      <th></th>\n",
       "      <th>Loan Status</th>\n",
       "      <th>Description</th>\n",
       "    </tr>\n",
       "  </thead>\n",
       "  <tbody>\n",
       "    <tr>\n",
       "      <th>0</th>\n",
       "      <td>Fully Paid</td>\n",
       "      <td>Loan has been fully repaid.</td>\n",
       "    </tr>\n",
       "    <tr>\n",
       "      <th>1</th>\n",
       "      <td>Charged Off</td>\n",
       "      <td>Loan for which there is no longer a reasonable expectation of further payments</td>\n",
       "    </tr>\n",
       "    <tr>\n",
       "      <th>2</th>\n",
       "      <td>Does not meet the credit policy. Status:Fully Paid</td>\n",
       "      <td>Loan has been consolidated and paid off, however the application does not meet the credit policy and won't be approved.</td>\n",
       "    </tr>\n",
       "    <tr>\n",
       "      <th>3</th>\n",
       "      <td>Does not meet the credit policy. Status:Charged Off</td>\n",
       "      <td>Loan status was charged off  and the application does not meet the credit policy and won't be approved.</td>\n",
       "    </tr>\n",
       "    <tr>\n",
       "      <th>4</th>\n",
       "      <td>Current</td>\n",
       "      <td>Loan is up to date on all outstanding payments.</td>\n",
       "    </tr>\n",
       "  </tbody>\n",
       "</table>\n",
       "</div>"
      ],
      "text/plain": [
       "                                           Loan Status  \\\n",
       "0                                           Fully Paid   \n",
       "1                                          Charged Off   \n",
       "2   Does not meet the credit policy. Status:Fully Paid   \n",
       "3  Does not meet the credit policy. Status:Charged Off   \n",
       "4                                              Current   \n",
       "\n",
       "                                                                                                               Description  \n",
       "0                                                                                              Loan has been fully repaid.  \n",
       "1                                           Loan for which there is no longer a reasonable expectation of further payments  \n",
       "2  Loan has been consolidated and paid off, however the application does not meet the credit policy and won't be approved.  \n",
       "3                  Loan status was charged off  and the application does not meet the credit policy and won't be approved.  \n",
       "4                                                                          Loan is up to date on all outstanding payments.  "
      ]
     },
     "execution_count": 49,
     "metadata": {},
     "output_type": "execute_result"
    }
   ],
   "source": [
    "#printing the description for the different types of statuses to understand it better\n",
    "#(https://help.lendingclub.com/hc/en-us/articles/215488038-What-do-the-different-Note-statuses-mean-)\n",
    "\n",
    "description = [\n",
    "\"Loan has been fully repaid.\",\n",
    "\"Loan for which there is no longer a reasonable expectation of further payments\",\n",
    "\"Loan has been consolidated and paid off, however the application does not meet the credit policy and won't be approved.\",\n",
    "\"Loan status was charged off  and the application does not meet the credit policy and won't be approved.\",\n",
    "\"Loan is up to date on all outstanding payments.\",\n",
    "\"Loan is past due but within the 15-day grace period.\",\n",
    "\"Loan has not been current for 31 to 120 days(meaning late on current repayment).\",\n",
    "\"Loan has not been current for 16 to 30 days (meaning late on current repayment).\",\n",
    "\"Loan has not been current for an extended period of time.\"]\n",
    "\n",
    "status = loans[\"loan_status\"].value_counts().index\n",
    "loan_status = pd.DataFrame({'Loan Status': status, 'Description': description})[['Loan Status','Description']]\n",
    "loan_status.head()"
   ]
  },
  {
   "cell_type": "code",
   "execution_count": 50,
   "id": "8fa2d144",
   "metadata": {},
   "outputs": [],
   "source": [
    "#selecting only 'Charged Off' & 'Fully Paid' categories\n",
    "loans = loans.loc[loans['loan_status'].isin(['Charged Off', 'Fully Paid'])]"
   ]
  },
  {
   "cell_type": "code",
   "execution_count": 51,
   "id": "ec85ee9b",
   "metadata": {},
   "outputs": [],
   "source": [
    "#by using np.where Im assigning to'loan_status' value of 1 if condition is met and 0 if it's not\n",
    "loans['loan_status'] = np.where(loans['loan_status'].isin(['Charged Off']), 1, 0)"
   ]
  },
  {
   "cell_type": "code",
   "execution_count": 52,
   "id": "ab195b52",
   "metadata": {},
   "outputs": [
    {
     "data": {
      "text/plain": [
       "0        0\n",
       "1        1\n",
       "2        0\n",
       "3        0\n",
       "5        0\n",
       "        ..\n",
       "39781    0\n",
       "39782    0\n",
       "39783    0\n",
       "39784    0\n",
       "39785    0\n",
       "Name: loan_status, Length: 39239, dtype: int64"
      ]
     },
     "execution_count": 52,
     "metadata": {},
     "output_type": "execute_result"
    }
   ],
   "source": [
    "loans['loan_status']"
   ]
  },
  {
   "cell_type": "code",
   "execution_count": 57,
   "id": "39eb7321",
   "metadata": {},
   "outputs": [
    {
     "data": {
      "text/plain": [
       "0    33586\n",
       "1     5653\n",
       "Name: loan_status, dtype: int64"
      ]
     },
     "execution_count": 57,
     "metadata": {},
     "output_type": "execute_result"
    }
   ],
   "source": [
    "loans['loan_status'].value_counts()"
   ]
  },
  {
   "cell_type": "code",
   "execution_count": null,
   "id": "3c284f42",
   "metadata": {
    "collapsed": true
   },
   "outputs": [],
   "source": []
  },
  {
   "cell_type": "code",
   "execution_count": 58,
   "id": "9b0f04c2",
   "metadata": {},
   "outputs": [
    {
     "data": {
      "text/plain": [
       "0    0.855934\n",
       "1    0.144066\n",
       "Name: loan_status, dtype: float64"
      ]
     },
     "execution_count": 58,
     "metadata": {},
     "output_type": "execute_result"
    }
   ],
   "source": [
    "#checking the ratio of my two categories\n",
    "loans['loan_status'].value_counts() / loans['loan_status'].count()"
   ]
  },
  {
   "cell_type": "code",
   "execution_count": 54,
   "id": "70b8ee4a",
   "metadata": {
    "scrolled": true
   },
   "outputs": [
    {
     "data": {
      "text/plain": [
       "<AxesSubplot:xlabel='loan_status', ylabel='count'>"
      ]
     },
     "execution_count": 54,
     "metadata": {},
     "output_type": "execute_result"
    },
    {
     "data": {
      "image/png": "[encoded data removed]",
      "text/plain": [
       "<Figure size 720x360 with 1 Axes>"
      ]
     },
     "metadata": {
      "needs_background": "light"
     },
     "output_type": "display_data"
    }
   ],
   "source": [
    "fig = plt.subplots(figsize=(10,5))\n",
    "sns.countplot(x=loans['loan_status'], data=loans, palette='husl')"
   ]
  },
  {
   "cell_type": "markdown",
   "id": "5e5d5f89",
   "metadata": {},
   "source": [
    "My data is largely imbalanced, the ratio is 86% for fully paid loans & only 14% for charged off loans. I will need to deal with it later."
   ]
  },
  {
   "cell_type": "markdown",
   "id": "0d353b6b",
   "metadata": {},
   "source": [
    "### looking at FICO score columns"
   ]
  },
  {
   "cell_type": "markdown",
   "id": "d69ed037",
   "metadata": {},
   "source": [
    "*FICO credit scores are a method of quantifying and evaluating an individual’s creditworthiness. Scores range from 300 to 850, with scores in the 670 to 739 range considered to be “good” credit history. FICO scores take into account data in five areas to determine creditworthiness: payment history, current level of indebtedness, types of credit used, length of credit history, and new credit accounts. Lenders use borrowers’ FICO scores along with other details on borrowers’ credit reports to assess credit risk and determine whether to extend credit.* (https://www.listendata.com/2019/08/datasets-for-credit-risk-modeling.html)"
   ]
  },
  {
   "cell_type": "code",
   "execution_count": 59,
   "id": "440fefa8",
   "metadata": {
    "scrolled": true
   },
   "outputs": [
    {
     "name": "stdout",
     "output_type": "stream",
     "text": [
      "[735. 740. 690. 730. 660. 675. 725. 695. 710. 705. 720. 665. 670. 760.\n",
      " 685. 755. 680. 700. 790. 750. 715. 765. 745. 770. 780. 775. 795. 810.\n",
      " 800. 815. 785. 805. 825. 820. 630. 625.]\n",
      "\n",
      "[739. 744. 694. 734. 664. 679. 729. 699. 714. 709. 724. 669. 674. 764.\n",
      " 689. 759. 684. 704. 794. 754. 719. 769. 749. 774. 784. 779. 799. 814.\n",
      " 804. 819. 789. 809. 829. 824. 634. 629.]\n"
     ]
    }
   ],
   "source": [
    "print(loans['fico_range_low'].unique())\n",
    "print()\n",
    "print(loans['fico_range_high'].unique())"
   ]
  },
  {
   "cell_type": "code",
   "execution_count": 60,
   "id": "366a5379",
   "metadata": {},
   "outputs": [
    {
     "name": "stdout",
     "output_type": "stream",
     "text": [
      "count    39239.000000\n",
      "mean       715.000765\n",
      "std         35.868102\n",
      "min        625.000000\n",
      "25%        685.000000\n",
      "50%        710.000000\n",
      "75%        740.000000\n",
      "max        825.000000\n",
      "Name: fico_range_low, dtype: float64\n",
      "\n",
      "count    39239.000000\n",
      "mean       719.000765\n",
      "std         35.868102\n",
      "min        629.000000\n",
      "25%        689.000000\n",
      "50%        714.000000\n",
      "75%        744.000000\n",
      "max        829.000000\n",
      "Name: fico_range_high, dtype: float64\n"
     ]
    }
   ],
   "source": [
    "print(loans['fico_range_low'].describe())\n",
    "print()\n",
    "print(loans['fico_range_high'].describe())"
   ]
  },
  {
   "cell_type": "markdown",
   "id": "ef63fe34",
   "metadata": {},
   "source": [
    "The Lending club data does not contain the exact value of the FICO score. It contains a FICO score over four points with lower and upper boundaries, also both fico_range_high and fico_range_low have similar mean and standard deviation. I took the mean of these two variables and created a new variabe 'fico_range_avg'."
   ]
  },
  {
   "cell_type": "code",
   "execution_count": 61,
   "id": "00a6d6f3",
   "metadata": {
    "scrolled": true
   },
   "outputs": [],
   "source": [
    "loans['fico_range_avg'] = (loans['fico_range_high'] + loans['fico_range_low']) / 2\n"
   ]
  },
  {
   "cell_type": "code",
   "execution_count": 62,
   "id": "3d036e24",
   "metadata": {},
   "outputs": [
    {
     "data": {
      "text/plain": [
       "0"
      ]
     },
     "execution_count": 62,
     "metadata": {},
     "output_type": "execute_result"
    }
   ],
   "source": [
    "loans['fico_range_avg'].isnull().sum()"
   ]
  },
  {
   "cell_type": "code",
   "execution_count": 63,
   "id": "d343df27",
   "metadata": {},
   "outputs": [
    {
     "data": {
      "text/plain": [
       "count    39239.000000\n",
       "mean       717.000765\n",
       "std         35.868102\n",
       "min        627.000000\n",
       "25%        687.000000\n",
       "50%        712.000000\n",
       "75%        742.000000\n",
       "max        827.000000\n",
       "Name: fico_range_avg, dtype: float64"
      ]
     },
     "execution_count": 63,
     "metadata": {},
     "output_type": "execute_result"
    }
   ],
   "source": [
    "loans['fico_range_avg'].describe()"
   ]
  },
  {
   "cell_type": "code",
   "execution_count": 64,
   "id": "8d13ef4d",
   "metadata": {},
   "outputs": [],
   "source": [
    "#now I can drop 'fico_range_high' & 'fico_range_low'\n",
    "loans = loans.drop(['fico_range_high', 'fico_range_low'], axis=1)"
   ]
  },
  {
   "cell_type": "code",
   "execution_count": 65,
   "id": "b97c0e04",
   "metadata": {},
   "outputs": [
    {
     "data": {
      "text/plain": [
       "<seaborn.axisgrid.FacetGrid at 0x7fde12ea41f0>"
      ]
     },
     "execution_count": 65,
     "metadata": {},
     "output_type": "execute_result"
    },
    {
     "data": {
      "text/plain": [
       "<Figure size 4200x2100 with 0 Axes>"
      ]
     },
     "metadata": {},
     "output_type": "display_data"
    },
    {
     "data": {
      "image/png": "[encoded data removed]",
      "text/plain": [
       "<Figure size 929.125x288 with 1 Axes>"
      ]
     },
     "metadata": {
      "needs_background": "light"
     },
     "output_type": "display_data"
    }
   ],
   "source": [
    "# lets see what is the distribution of cust who paid the loan & cust who didn't\n",
    "plt.figure(figsize=(14,7), dpi=300)\n",
    "sns.displot(data=loans, x='fico_range_avg', hue='loan_status', bins=80, height=4,\n",
    "            aspect=3, kde=True, palette='husl')"
   ]
  },
  {
   "cell_type": "code",
   "execution_count": 66,
   "id": "2e285843",
   "metadata": {},
   "outputs": [
    {
     "data": {
      "text/plain": [
       "<AxesSubplot:xlabel='loan_status', ylabel='fico_range_avg'>"
      ]
     },
     "execution_count": 66,
     "metadata": {},
     "output_type": "execute_result"
    },
    {
     "data": {
      "image/png": "[encoded data removed]",
      "text/plain": [
       "<Figure size 864x576 with 1 Axes>"
      ]
     },
     "metadata": {
      "needs_background": "light"
     },
     "output_type": "display_data"
    }
   ],
   "source": [
    "# plt.figure(figsize=(20,10), dpi=70)\n",
    "sns.boxplot(data=loans, x = 'loan_status', y ='fico_range_avg', palette='husl')"
   ]
  },
  {
   "cell_type": "markdown",
   "id": "a0a51f62",
   "metadata": {},
   "source": [
    "*We can see a vsible difference between customers who fully paid off and who did not*"
   ]
  },
  {
   "cell_type": "code",
   "execution_count": 67,
   "id": "93c09312",
   "metadata": {},
   "outputs": [],
   "source": [
    "# I can also remove last_fico_range_low', 'last_fico_range_high'\n",
    "loans = loans.drop(['last_fico_range_low', 'last_fico_range_high'], axis=1)"
   ]
  },
  {
   "cell_type": "markdown",
   "id": "bb61b54e",
   "metadata": {},
   "source": [
    "*From the plot w ecan see that the highest group of customers to apply for a loan is the one with employment length 10+*"
   ]
  },
  {
   "cell_type": "code",
   "execution_count": 68,
   "id": "276a673a",
   "metadata": {},
   "outputs": [
    {
     "data": {
      "text/plain": [
       "(39239, 22)"
      ]
     },
     "execution_count": 68,
     "metadata": {},
     "output_type": "execute_result"
    }
   ],
   "source": [
    "loans.shape"
   ]
  },
  {
   "cell_type": "markdown",
   "id": "57c8dcaf",
   "metadata": {},
   "source": [
    "Grouping columns by object and number"
   ]
  },
  {
   "cell_type": "code",
   "execution_count": 69,
   "id": "03105950",
   "metadata": {
    "scrolled": false
   },
   "outputs": [
    {
     "name": "stdout",
     "output_type": "stream",
     "text": [
      "term                     36 months\n",
      "grade                            B\n",
      "emp_length               10+ years\n",
      "home_ownership                RENT\n",
      "verification_status       Verified\n",
      "purpose                credit_card\n",
      "addr_state                      AZ\n",
      "earliest_cr_line          Jan-1985\n",
      "revol_util                   83.7%\n",
      "application_type        INDIVIDUAL\n",
      "Name: 0, dtype: object\n",
      "\n",
      "loan_amnt                5000.00\n",
      "funded_amnt              5000.00\n",
      "funded_amnt_inv          4975.00\n",
      "annual_inc              24000.00\n",
      "loan_status                 0.00\n",
      "dti                        27.65\n",
      "inq_last_6mths              1.00\n",
      "open_acc                    3.00\n",
      "pub_rec                     0.00\n",
      "total_acc                   9.00\n",
      "pub_rec_bankruptcies        0.00\n",
      "fico_range_avg            737.00\n",
      "Name: 0, dtype: float64\n"
     ]
    }
   ],
   "source": [
    "object_columns = loans.select_dtypes(include=['object'])\n",
    "number_columns = loans.select_dtypes(include=['number'])\n",
    "print(object_columns.iloc[0])\n",
    "print()\n",
    "print(number_columns.iloc[0])"
   ]
  },
  {
   "cell_type": "markdown",
   "id": "25fadbfe",
   "metadata": {},
   "source": [
    "### 'term' \n",
    "The number of payments on the loan. Values are in months and can be either 36 or 60."
   ]
  },
  {
   "cell_type": "code",
   "execution_count": 70,
   "id": "fd3b8102",
   "metadata": {
    "scrolled": true
   },
   "outputs": [
    {
     "name": "stdout",
     "output_type": "stream",
     "text": [
      "[' 36 months' ' 60 months']\n",
      "0\n"
     ]
    }
   ],
   "source": [
    "print(loans['term'].unique())\n",
    "print(loans['term'].isnull().sum())"
   ]
  },
  {
   "cell_type": "code",
   "execution_count": 71,
   "id": "6ae699a0",
   "metadata": {},
   "outputs": [],
   "source": [
    "#I'm replacing months with an epty string & converting str to numerics \n",
    "loans['term'] = pd.to_numeric(loans['term'].str.replace('months', ''))"
   ]
  },
  {
   "cell_type": "code",
   "execution_count": 72,
   "id": "46b2c0b4",
   "metadata": {},
   "outputs": [
    {
     "data": {
      "text/plain": [
       "numpy.int64"
      ]
     },
     "execution_count": 72,
     "metadata": {},
     "output_type": "execute_result"
    }
   ],
   "source": [
    "type(loans['term'][0])"
   ]
  },
  {
   "cell_type": "code",
   "execution_count": 73,
   "id": "e0406476",
   "metadata": {
    "scrolled": true
   },
   "outputs": [
    {
     "data": {
      "text/html": [
       "<div>\n",
       "<style scoped>\n",
       "    .dataframe tbody tr th:only-of-type {\n",
       "        vertical-align: middle;\n",
       "    }\n",
       "\n",
       "    .dataframe tbody tr th {\n",
       "        vertical-align: top;\n",
       "    }\n",
       "\n",
       "    .dataframe thead th {\n",
       "        text-align: right;\n",
       "    }\n",
       "</style>\n",
       "<table border=\"1\" class=\"dataframe\">\n",
       "  <thead>\n",
       "    <tr style=\"text-align: right;\">\n",
       "      <th>loan_status</th>\n",
       "      <th>0</th>\n",
       "      <th>1</th>\n",
       "    </tr>\n",
       "    <tr>\n",
       "      <th>term</th>\n",
       "      <th></th>\n",
       "      <th></th>\n",
       "    </tr>\n",
       "  </thead>\n",
       "  <tbody>\n",
       "    <tr>\n",
       "      <th>36</th>\n",
       "      <td>25869</td>\n",
       "      <td>3227</td>\n",
       "    </tr>\n",
       "    <tr>\n",
       "      <th>60</th>\n",
       "      <td>7717</td>\n",
       "      <td>2426</td>\n",
       "    </tr>\n",
       "  </tbody>\n",
       "</table>\n",
       "</div>"
      ],
      "text/plain": [
       "loan_status      0     1\n",
       "term                    \n",
       "36           25869  3227\n",
       "60            7717  2426"
      ]
     },
     "execution_count": 73,
     "metadata": {},
     "output_type": "execute_result"
    }
   ],
   "source": [
    "#computing a frequency table of 'term' & 'loan_status'\n",
    "pd.crosstab(loans['term'], loans['loan_status'])"
   ]
  },
  {
   "cell_type": "code",
   "execution_count": 74,
   "id": "23eed507",
   "metadata": {},
   "outputs": [
    {
     "data": {
      "text/plain": [
       "0.11"
      ]
     },
     "execution_count": 74,
     "metadata": {},
     "output_type": "execute_result"
    }
   ],
   "source": [
    "#I want to see what is the ratio of charged off loans regarding the term:\n",
    "\n",
    "term36 = loans['loan_status'][loans['term'] == 36].value_counts()\n",
    "term36_default = round(term36[1] / (term36[0]+term36[1]), 2)\n",
    "term36_default"
   ]
  },
  {
   "cell_type": "code",
   "execution_count": 75,
   "id": "1015c977",
   "metadata": {},
   "outputs": [
    {
     "data": {
      "text/plain": [
       "0.24"
      ]
     },
     "execution_count": 75,
     "metadata": {},
     "output_type": "execute_result"
    }
   ],
   "source": [
    "term60 = loans['loan_status'][loans['term'] == 60].value_counts()\n",
    "term60_default = round(term60[1] / (term60[0]+term60[1]), 2)\n",
    "term60_default"
   ]
  },
  {
   "cell_type": "code",
   "execution_count": 76,
   "id": "9c12bde2",
   "metadata": {},
   "outputs": [
    {
     "data": {
      "text/plain": [
       "<AxesSubplot:xlabel='term'>"
      ]
     },
     "execution_count": 76,
     "metadata": {},
     "output_type": "execute_result"
    },
    {
     "data": {
      "image/png": "[encoded data removed]",
      "text/plain": [
       "<Figure size 864x576 with 1 Axes>"
      ]
     },
     "metadata": {
      "needs_background": "light"
     },
     "output_type": "display_data"
    }
   ],
   "source": [
    "pd.crosstab(loans[\"term\"], loans[\"loan_status\"]).plot(kind=\"bar\")"
   ]
  },
  {
   "cell_type": "markdown",
   "id": "5fcf77e5",
   "metadata": {},
   "source": [
    "* clients with a longer term loan, default on loans more often than those with a shorter term *"
   ]
  },
  {
   "cell_type": "markdown",
   "id": "d515ffbb",
   "metadata": {},
   "source": [
    "### 'emp_length'\n",
    "describes how long borrower has been employed befor the applyng for a lona. It's a categorical variable. Im going to make this this variable continues going from 0 to 10."
   ]
  },
  {
   "cell_type": "code",
   "execution_count": 77,
   "id": "86b507c0",
   "metadata": {},
   "outputs": [
    {
     "name": "stdout",
     "output_type": "stream",
     "text": [
      "['10+ years' '< 1 year' '3 years' '8 years' '9 years' '4 years' '5 years'\n",
      " '1 year' '6 years' '2 years' '7 years' nan]\n",
      "1057\n"
     ]
    }
   ],
   "source": [
    "print(loans['emp_length'].unique())\n",
    "print(loans['emp_length'].isnull().sum())"
   ]
  },
  {
   "cell_type": "code",
   "execution_count": 78,
   "id": "15f89e4e",
   "metadata": {},
   "outputs": [
    {
     "data": {
      "text/plain": [
       "10+ years    8717\n",
       "< 1 year     4556\n",
       "2 years      4349\n",
       "3 years      4054\n",
       "4 years      3394\n",
       "5 years      3250\n",
       "1 year       3214\n",
       "6 years      2202\n",
       "7 years      1742\n",
       "8 years      1459\n",
       "9 years      1245\n",
       "Name: emp_length, dtype: int64"
      ]
     },
     "execution_count": 78,
     "metadata": {},
     "output_type": "execute_result"
    }
   ],
   "source": [
    "loans['emp_length'].value_counts()\n"
   ]
  },
  {
   "cell_type": "code",
   "execution_count": 79,
   "id": "539b5dfd",
   "metadata": {},
   "outputs": [],
   "source": [
    "#I'm creating a dictionary to replace string caraters and leaving only integers\n",
    "sorted_empLength = {'emp_length':{'10+ years': 10,\n",
    "                             '9 years': 9,\n",
    "                             '8 years': 8,\n",
    "                             '7 years': 7,\n",
    "                             '6 years': 6,\n",
    "                             '5 years': 5,\n",
    "                             '4 years': 4,\n",
    "                             '3 years': 3,\n",
    "                             '2 years': 2,\n",
    "                             '1 year': 1,\n",
    "                              '< 1 year': 0}}\n",
    "loans = loans.replace(sorted_empLength)"
   ]
  },
  {
   "cell_type": "code",
   "execution_count": 80,
   "id": "f9aa869c",
   "metadata": {},
   "outputs": [
    {
     "data": {
      "text/plain": [
       "0    827\n",
       "1    230\n",
       "Name: loan_status, dtype: int64"
      ]
     },
     "execution_count": 80,
     "metadata": {},
     "output_type": "execute_result"
    }
   ],
   "source": [
    "#I have over a thousand missing values, I'm checking what is the proportion of miss val\n",
    "loans['loan_status'][loans['emp_length'].isnull()].value_counts()"
   ]
  },
  {
   "cell_type": "code",
   "execution_count": 81,
   "id": "39fb9566",
   "metadata": {},
   "outputs": [
    {
     "data": {
      "text/plain": [
       "4.959221622754177"
      ]
     },
     "execution_count": 81,
     "metadata": {},
     "output_type": "execute_result"
    }
   ],
   "source": [
    "#calculating mean of 'emp_length'\n",
    "loans['emp_length'].mean()"
   ]
  },
  {
   "cell_type": "code",
   "execution_count": 82,
   "id": "2e7f9278",
   "metadata": {},
   "outputs": [],
   "source": [
    "#I'm going to replacing nan values with a mean of 'emp_length' ~ 5 years\n",
    "loans['emp_length'] = loans['emp_length'].fillna(5)"
   ]
  },
  {
   "cell_type": "code",
   "execution_count": 83,
   "id": "ea53c6e0",
   "metadata": {},
   "outputs": [
    {
     "data": {
      "text/plain": [
       "numpy.float64"
      ]
     },
     "execution_count": 83,
     "metadata": {},
     "output_type": "execute_result"
    }
   ],
   "source": [
    "type(loans['emp_length'][0])"
   ]
  },
  {
   "cell_type": "code",
   "execution_count": 84,
   "id": "33560492",
   "metadata": {
    "scrolled": false
   },
   "outputs": [
    {
     "name": "stdout",
     "output_type": "stream",
     "text": [
      "0    10.0\n",
      "1     0.0\n",
      "2    10.0\n",
      "3    10.0\n",
      "5     3.0\n",
      "Name: emp_length, dtype: float64\n",
      "0\n"
     ]
    }
   ],
   "source": [
    "print(loans['emp_length'].head(5))\n",
    "print(loans['emp_length'].isnull().sum())"
   ]
  },
  {
   "cell_type": "code",
   "execution_count": 280,
   "id": "f4600d43",
   "metadata": {},
   "outputs": [
    {
     "data": {
      "text/plain": [
       "10.0    8034\n",
       "0.0     4367\n",
       "2.0     4135\n",
       "5.0     4111\n",
       "3.0     3885\n",
       "4.0     3238\n",
       "1.0     3072\n",
       "6.0     2104\n",
       "7.0     1656\n",
       "8.0     1366\n",
       "9.0     1172\n",
       "Name: emp_length, dtype: int64"
      ]
     },
     "execution_count": 280,
     "metadata": {},
     "output_type": "execute_result"
    }
   ],
   "source": [
    "loans['emp_length'].value_counts()"
   ]
  },
  {
   "cell_type": "code",
   "execution_count": 85,
   "id": "1c6812ed",
   "metadata": {
    "scrolled": true
   },
   "outputs": [
    {
     "data": {
      "text/plain": [
       "<AxesSubplot:xlabel='emp_length'>"
      ]
     },
     "execution_count": 85,
     "metadata": {},
     "output_type": "execute_result"
    },
    {
     "data": {
      "image/png": "[encoded data removed]",
      "text/plain": [
       "<Figure size 864x576 with 1 Axes>"
      ]
     },
     "metadata": {
      "needs_background": "light"
     },
     "output_type": "display_data"
    }
   ],
   "source": [
    "pd.crosstab(loans['emp_length'], loans['loan_status']).plot(kind='bar')"
   ]
  },
  {
   "cell_type": "markdown",
   "id": "e2265f53",
   "metadata": {},
   "source": [
    "Highest group of people who are applying for a loan "
   ]
  },
  {
   "cell_type": "markdown",
   "id": "54660bba",
   "metadata": {},
   "source": [
    "### 'revol_util'\n",
    "Revolving line utilization rate, or the amount of credit the borrower is using relative to all available revolving credit."
   ]
  },
  {
   "cell_type": "code",
   "execution_count": 86,
   "id": "f230f868",
   "metadata": {
    "scrolled": false
   },
   "outputs": [
    {
     "name": "stdout",
     "output_type": "stream",
     "text": [
      "['83.7%' '9.4%' '98.5%' ... '49.63%' '0.04%' '7.28%']\n",
      "50\n",
      "<class 'str'>\n"
     ]
    }
   ],
   "source": [
    "print(loans['revol_util'].unique())\n",
    "print(loans['revol_util'].isnull().sum())\n",
    "print(type(loans['revol_util'][0]))"
   ]
  },
  {
   "cell_type": "code",
   "execution_count": 87,
   "id": "bf28ba19",
   "metadata": {},
   "outputs": [],
   "source": [
    "#I'm replacing % with an epty string & converting str to numerics \n",
    "loans['revol_util'] = pd.to_numeric(loans['revol_util'].str.replace('%', ''))"
   ]
  },
  {
   "cell_type": "code",
   "execution_count": 91,
   "id": "d0d1e1f2",
   "metadata": {},
   "outputs": [],
   "source": [
    "#replacing nan values with mean of non mising values\n",
    "loans['revol_util'] = loans['revol_util'].fillna(loans['revol_util'].mean())"
   ]
  },
  {
   "cell_type": "code",
   "execution_count": 92,
   "id": "5a34ff37",
   "metadata": {
    "scrolled": false
   },
   "outputs": [
    {
     "data": {
      "image/png": "[encoded data removed]",
      "text/plain": [
       "<Figure size 1728x432 with 1 Axes>"
      ]
     },
     "metadata": {
      "needs_background": "light"
     },
     "output_type": "display_data"
    }
   ],
   "source": [
    "plt.figure(figsize=(24,6))\n",
    "sns.histplot(data=loans, x='revol_util', bins=88, palette='husl');"
   ]
  },
  {
   "cell_type": "code",
   "execution_count": 93,
   "id": "c220038e",
   "metadata": {},
   "outputs": [
    {
     "data": {
      "text/plain": [
       "0    83.7\n",
       "1     9.4\n",
       "2    98.5\n",
       "3    21.0\n",
       "5    28.3\n",
       "Name: revol_util, dtype: float64"
      ]
     },
     "execution_count": 93,
     "metadata": {},
     "output_type": "execute_result"
    }
   ],
   "source": [
    "loans['revol_util'].head()"
   ]
  },
  {
   "cell_type": "code",
   "execution_count": 94,
   "id": "a0780f30",
   "metadata": {},
   "outputs": [
    {
     "data": {
      "text/plain": [
       "count    39239.000000\n",
       "mean        48.737661\n",
       "std         28.332853\n",
       "min          0.000000\n",
       "25%         25.300000\n",
       "50%         49.100000\n",
       "75%         72.300000\n",
       "max         99.900000\n",
       "Name: revol_util, dtype: float64"
      ]
     },
     "execution_count": 94,
     "metadata": {},
     "output_type": "execute_result"
    }
   ],
   "source": [
    "loans['revol_util'].describe()"
   ]
  },
  {
   "cell_type": "code",
   "execution_count": 95,
   "id": "afcd383d",
   "metadata": {},
   "outputs": [
    {
     "data": {
      "text/html": [
       "<div>\n",
       "<style scoped>\n",
       "    .dataframe tbody tr th:only-of-type {\n",
       "        vertical-align: middle;\n",
       "    }\n",
       "\n",
       "    .dataframe tbody tr th {\n",
       "        vertical-align: top;\n",
       "    }\n",
       "\n",
       "    .dataframe thead th {\n",
       "        text-align: right;\n",
       "    }\n",
       "</style>\n",
       "<table border=\"1\" class=\"dataframe\">\n",
       "  <thead>\n",
       "    <tr style=\"text-align: right;\">\n",
       "      <th>loan_status</th>\n",
       "      <th>0</th>\n",
       "      <th>1</th>\n",
       "    </tr>\n",
       "    <tr>\n",
       "      <th>revol_util</th>\n",
       "      <th></th>\n",
       "      <th></th>\n",
       "    </tr>\n",
       "  </thead>\n",
       "  <tbody>\n",
       "    <tr>\n",
       "      <th>0.00</th>\n",
       "      <td>827</td>\n",
       "      <td>145</td>\n",
       "    </tr>\n",
       "    <tr>\n",
       "      <th>0.01</th>\n",
       "      <td>1</td>\n",
       "      <td>0</td>\n",
       "    </tr>\n",
       "    <tr>\n",
       "      <th>0.03</th>\n",
       "      <td>1</td>\n",
       "      <td>0</td>\n",
       "    </tr>\n",
       "    <tr>\n",
       "      <th>0.04</th>\n",
       "      <td>1</td>\n",
       "      <td>0</td>\n",
       "    </tr>\n",
       "    <tr>\n",
       "      <th>0.05</th>\n",
       "      <td>1</td>\n",
       "      <td>0</td>\n",
       "    </tr>\n",
       "    <tr>\n",
       "      <th>...</th>\n",
       "      <td>...</td>\n",
       "      <td>...</td>\n",
       "    </tr>\n",
       "    <tr>\n",
       "      <th>99.50</th>\n",
       "      <td>18</td>\n",
       "      <td>6</td>\n",
       "    </tr>\n",
       "    <tr>\n",
       "      <th>99.60</th>\n",
       "      <td>18</td>\n",
       "      <td>4</td>\n",
       "    </tr>\n",
       "    <tr>\n",
       "      <th>99.70</th>\n",
       "      <td>29</td>\n",
       "      <td>1</td>\n",
       "    </tr>\n",
       "    <tr>\n",
       "      <th>99.80</th>\n",
       "      <td>17</td>\n",
       "      <td>6</td>\n",
       "    </tr>\n",
       "    <tr>\n",
       "      <th>99.90</th>\n",
       "      <td>16</td>\n",
       "      <td>9</td>\n",
       "    </tr>\n",
       "  </tbody>\n",
       "</table>\n",
       "<p>1090 rows × 2 columns</p>\n",
       "</div>"
      ],
      "text/plain": [
       "loan_status    0    1\n",
       "revol_util           \n",
       "0.00         827  145\n",
       "0.01           1    0\n",
       "0.03           1    0\n",
       "0.04           1    0\n",
       "0.05           1    0\n",
       "...          ...  ...\n",
       "99.50         18    6\n",
       "99.60         18    4\n",
       "99.70         29    1\n",
       "99.80         17    6\n",
       "99.90         16    9\n",
       "\n",
       "[1090 rows x 2 columns]"
      ]
     },
     "execution_count": 95,
     "metadata": {},
     "output_type": "execute_result"
    }
   ],
   "source": [
    "pd.crosstab(loans['revol_util'], loans['loan_status'])"
   ]
  },
  {
   "cell_type": "code",
   "execution_count": 201,
   "id": "ef81882f",
   "metadata": {
    "scrolled": true
   },
   "outputs": [
    {
     "data": {
      "text/plain": [
       "<AxesSubplot:xlabel='revol_util', ylabel='Count'>"
      ]
     },
     "execution_count": 201,
     "metadata": {},
     "output_type": "execute_result"
    },
    {
     "data": {
      "image/png": "[encoded data removed]",
      "text/plain": [
       "<Figure size 1440x576 with 1 Axes>"
      ]
     },
     "metadata": {
      "needs_background": "light"
     },
     "output_type": "display_data"
    }
   ],
   "source": [
    "plt.figure(figsize=(20,8))\n",
    "sns.histplot(data=loans, x='revol_util', hue='loan_status', bins=88, palette='husl')"
   ]
  },
  {
   "cell_type": "code",
   "execution_count": 97,
   "id": "f739446b",
   "metadata": {
    "scrolled": true
   },
   "outputs": [
    {
     "data": {
      "text/plain": [
       "<AxesSubplot:xlabel='loan_status', ylabel='revol_util'>"
      ]
     },
     "execution_count": 97,
     "metadata": {},
     "output_type": "execute_result"
    },
    {
     "data": {
      "image/png": "[encoded data removed]",
      "text/plain": [
       "<Figure size 720x360 with 1 Axes>"
      ]
     },
     "metadata": {
      "needs_background": "light"
     },
     "output_type": "display_data"
    }
   ],
   "source": [
    "plt.figure(figsize=(10,5))\n",
    "sns.boxplot(data=loans, x='loan_status', y='revol_util', palette='husl')"
   ]
  },
  {
   "cell_type": "markdown",
   "id": "418ef4fe",
   "metadata": {},
   "source": [
    "I can see that charged off customers have higher utilization rate than the other group."
   ]
  },
  {
   "cell_type": "markdown",
   "id": "dc791c7c",
   "metadata": {},
   "source": [
    "### 'earliest_cr_line' \n",
    "The month the borrower's earliest reported credit line was opened"
   ]
  },
  {
   "cell_type": "code",
   "execution_count": 98,
   "id": "b80a989e",
   "metadata": {},
   "outputs": [
    {
     "name": "stdout",
     "output_type": "stream",
     "text": [
      "0\n",
      "object\n"
     ]
    }
   ],
   "source": [
    "#checking for misssing values & what datatype it is\n",
    "print(loans['earliest_cr_line'].isnull().sum())\n",
    "print(loans['earliest_cr_line'].dtypes)"
   ]
  },
  {
   "cell_type": "code",
   "execution_count": 99,
   "id": "9932ac21",
   "metadata": {},
   "outputs": [
    {
     "data": {
      "text/plain": [
       "0        Jan-1985\n",
       "1        Apr-1999\n",
       "2        Nov-2001\n",
       "3        Feb-1996\n",
       "5        Nov-2004\n",
       "           ...   \n",
       "39781    Nov-1990\n",
       "39782    Dec-1986\n",
       "39783    Oct-1998\n",
       "39784    Nov-1988\n",
       "39785    Oct-2003\n",
       "Name: earliest_cr_line, Length: 39239, dtype: object"
      ]
     },
     "execution_count": 99,
     "metadata": {},
     "output_type": "execute_result"
    }
   ],
   "source": [
    "loans['earliest_cr_line']"
   ]
  },
  {
   "cell_type": "code",
   "execution_count": 101,
   "id": "50870c74",
   "metadata": {},
   "outputs": [],
   "source": [
    "#converting strings into timeframes & saving it to new var 'date_earliest_cr_line'\n",
    "loans['date_earliest_cr_line'] = pd.to_datetime(loans['earliest_cr_line'], format='%b-%Y')"
   ]
  },
  {
   "cell_type": "code",
   "execution_count": 102,
   "id": "b7bec4c1",
   "metadata": {},
   "outputs": [
    {
     "data": {
      "text/plain": [
       "0       12022 days\n",
       "1        6819 days\n",
       "2        5874 days\n",
       "3        7974 days\n",
       "5        4778 days\n",
       "           ...    \n",
       "39781    9892 days\n",
       "39782   11323 days\n",
       "39783    7001 days\n",
       "39784   10622 days\n",
       "39785    5175 days\n",
       "Name: date_earliest_cr_line, Length: 39239, dtype: timedelta64[ns]"
      ]
     },
     "execution_count": 102,
     "metadata": {},
     "output_type": "execute_result"
    }
   ],
   "source": [
    "# I'm calculating the difference between two dates and times.\n",
    "pd.to_datetime('2017-12-01') - loans['date_earliest_cr_line']"
   ]
  },
  {
   "cell_type": "code",
   "execution_count": 103,
   "id": "d9ec37eb",
   "metadata": {},
   "outputs": [],
   "source": [
    "# I want to get the diff in months(easier for calculation), then turn it to numerics &round it, \n",
    "#also creating new var 'inMonths_earliest_cr_line'\n",
    "loans['inMonths_earliest_cr_line']=round(pd.to_numeric((pd.to_datetime('2017-12-01')-loans['date_earliest_cr_line'])/np.timedelta64(1,'M')))"
   ]
  },
  {
   "cell_type": "code",
   "execution_count": 104,
   "id": "5f506920",
   "metadata": {
    "scrolled": true
   },
   "outputs": [
    {
     "data": {
      "text/plain": [
       "count    39239.000000\n",
       "mean       250.209511\n",
       "std         81.999418\n",
       "min        109.000000\n",
       "25%        195.000000\n",
       "50%        235.000000\n",
       "75%        288.000000\n",
       "max        863.000000\n",
       "Name: inMonths_earliest_cr_line, dtype: float64"
      ]
     },
     "execution_count": 104,
     "metadata": {},
     "output_type": "execute_result"
    }
   ],
   "source": [
    "#checking some descriptive stat\n",
    "loans['inMonths_earliest_cr_line'].describe()"
   ]
  },
  {
   "cell_type": "code",
   "execution_count": 105,
   "id": "2c6fdce8",
   "metadata": {},
   "outputs": [
    {
     "data": {
      "image/png": "[encoded data removed]",
      "text/plain": [
       "<Figure size 929.125x288 with 1 Axes>"
      ]
     },
     "metadata": {
      "needs_background": "light"
     },
     "output_type": "display_data"
    }
   ],
   "source": [
    "#checking the distribution\n",
    "sns.displot(data=loans, x='inMonths_earliest_cr_line', hue='loan_status', bins=100, height=4, aspect=3, kde=True, palette='husl');"
   ]
  },
  {
   "cell_type": "code",
   "execution_count": 106,
   "id": "ce275546",
   "metadata": {
    "scrolled": true
   },
   "outputs": [
    {
     "data": {
      "text/plain": [
       "<AxesSubplot:xlabel='loan_status', ylabel='inMonths_earliest_cr_line'>"
      ]
     },
     "execution_count": 106,
     "metadata": {},
     "output_type": "execute_result"
    },
    {
     "data": {
      "image/png": "[encoded data removed]",
      "text/plain": [
       "<Figure size 1080x576 with 1 Axes>"
      ]
     },
     "metadata": {
      "needs_background": "light"
     },
     "output_type": "display_data"
    }
   ],
   "source": [
    "plt.figure(figsize=(15,8))\n",
    "sns.boxplot(data=loans, y='inMonths_earliest_cr_line', x='loan_status', palette='husl')"
   ]
  },
  {
   "cell_type": "markdown",
   "id": "538e4266",
   "metadata": {},
   "source": [
    "From the above plots I can see that there is not much difference between customers who paid the loans and the once that where charged off. Also boxplot shows that there is a loarge amount of outlires, I've decided to drop the columns."
   ]
  },
  {
   "cell_type": "code",
   "execution_count": 107,
   "id": "4232e0cb",
   "metadata": {},
   "outputs": [],
   "source": [
    "to_drop = ['earliest_cr_line', 'date_earliest_cr_line', 'inMonths_earliest_cr_line']\n",
    "loans = loans.drop(to_drop, axis=1)"
   ]
  },
  {
   "cell_type": "code",
   "execution_count": 108,
   "id": "ef05a2dd",
   "metadata": {},
   "outputs": [
    {
     "data": {
      "text/plain": [
       "(39239, 21)"
      ]
     },
     "execution_count": 108,
     "metadata": {},
     "output_type": "execute_result"
    }
   ],
   "source": [
    "loans.shape"
   ]
  },
  {
   "cell_type": "markdown",
   "id": "6d604ed6",
   "metadata": {},
   "source": [
    "### 'grade'\n",
    "LC assigned loan grade.\n",
    "The loan grade is the result of a formula that takes into account not only credit score, but also a combination of several indicators of credit risk from the credit report and loan application. The grade indicates what % will be applied to the loan. Where A is the lowest % and G the highest."
   ]
  },
  {
   "cell_type": "code",
   "execution_count": 109,
   "id": "8834dd89",
   "metadata": {},
   "outputs": [
    {
     "name": "stdout",
     "output_type": "stream",
     "text": [
      "['B' 'C' 'A' 'E' 'F' 'D' 'G']\n",
      "0\n"
     ]
    }
   ],
   "source": [
    "print(loans['grade'].unique())\n",
    "print(loans['grade'].isnull().sum())"
   ]
  },
  {
   "cell_type": "code",
   "execution_count": 110,
   "id": "2d00c38a",
   "metadata": {},
   "outputs": [
    {
     "data": {
      "image/png": "[encoded data removed]",
      "text/plain": [
       "<Figure size 720x360 with 1 Axes>"
      ]
     },
     "metadata": {
      "needs_background": "light"
     },
     "output_type": "display_data"
    }
   ],
   "source": [
    "# plotting cutomers number separated by grade and based on their loan_status\n",
    "plt.figure(figsize=(10,5))\n",
    "sns.countplot(x='grade',data=loans,hue='loan_status', order=sorted(loans['grade'].unique()), palette='husl');"
   ]
  },
  {
   "cell_type": "code",
   "execution_count": 111,
   "id": "6b3ea5ea",
   "metadata": {},
   "outputs": [
    {
     "data": {
      "text/html": [
       "<div>\n",
       "<style scoped>\n",
       "    .dataframe tbody tr th:only-of-type {\n",
       "        vertical-align: middle;\n",
       "    }\n",
       "\n",
       "    .dataframe tbody tr th {\n",
       "        vertical-align: top;\n",
       "    }\n",
       "\n",
       "    .dataframe thead th {\n",
       "        text-align: right;\n",
       "    }\n",
       "</style>\n",
       "<table border=\"1\" class=\"dataframe\">\n",
       "  <thead>\n",
       "    <tr style=\"text-align: right;\">\n",
       "      <th></th>\n",
       "      <th>grade:A</th>\n",
       "      <th>grade:B</th>\n",
       "      <th>grade:C</th>\n",
       "      <th>grade:D</th>\n",
       "      <th>grade:E</th>\n",
       "      <th>grade:F</th>\n",
       "      <th>grade:G</th>\n",
       "    </tr>\n",
       "  </thead>\n",
       "  <tbody>\n",
       "    <tr>\n",
       "      <th>0</th>\n",
       "      <td>0</td>\n",
       "      <td>1</td>\n",
       "      <td>0</td>\n",
       "      <td>0</td>\n",
       "      <td>0</td>\n",
       "      <td>0</td>\n",
       "      <td>0</td>\n",
       "    </tr>\n",
       "    <tr>\n",
       "      <th>1</th>\n",
       "      <td>0</td>\n",
       "      <td>0</td>\n",
       "      <td>1</td>\n",
       "      <td>0</td>\n",
       "      <td>0</td>\n",
       "      <td>0</td>\n",
       "      <td>0</td>\n",
       "    </tr>\n",
       "  </tbody>\n",
       "</table>\n",
       "</div>"
      ],
      "text/plain": [
       "   grade:A  grade:B  grade:C  grade:D  grade:E  grade:F  grade:G\n",
       "0        0        1        0        0        0        0        0\n",
       "1        0        0        1        0        0        0        0"
      ]
     },
     "execution_count": 111,
     "metadata": {},
     "output_type": "execute_result"
    }
   ],
   "source": [
    "#creating a new dummy variable &making more descreptive by adding grade in front of the letter\n",
    "dummy_grade = pd.get_dummies(loans['grade'], prefix='grade', prefix_sep=':')\n",
    "dummy_grade.head(2)"
   ]
  },
  {
   "cell_type": "code",
   "execution_count": 275,
   "id": "8671b6b2",
   "metadata": {},
   "outputs": [
    {
     "ename": "KeyError",
     "evalue": "\"['grade'] not found in axis\"",
     "output_type": "error",
     "traceback": [
      "\u001b[0;31m---------------------------------------------------------------------------\u001b[0m",
      "\u001b[0;31mKeyError\u001b[0m                                  Traceback (most recent call last)",
      "\u001b[0;32m/var/folders/ws/vn0jztw53833gc5bvf0w2skm0000gn/T/ipykernel_27483/3635806486.py\u001b[0m in \u001b[0;36m<module>\u001b[0;34m\u001b[0m\n\u001b[1;32m      1\u001b[0m \u001b[0;31m#dropping column 'grade' & concating the 'dummy_grade'\u001b[0m\u001b[0;34m\u001b[0m\u001b[0;34m\u001b[0m\u001b[0m\n\u001b[0;32m----> 2\u001b[0;31m \u001b[0mloans\u001b[0m \u001b[0;34m=\u001b[0m \u001b[0mpd\u001b[0m\u001b[0;34m.\u001b[0m\u001b[0mconcat\u001b[0m\u001b[0;34m(\u001b[0m\u001b[0;34m[\u001b[0m\u001b[0mloans\u001b[0m\u001b[0;34m.\u001b[0m\u001b[0mdrop\u001b[0m\u001b[0;34m(\u001b[0m\u001b[0;34m'grade'\u001b[0m\u001b[0;34m,\u001b[0m \u001b[0maxis\u001b[0m\u001b[0;34m=\u001b[0m\u001b[0;36m1\u001b[0m\u001b[0;34m)\u001b[0m\u001b[0;34m,\u001b[0m \u001b[0mdummy_grade\u001b[0m\u001b[0;34m]\u001b[0m\u001b[0;34m,\u001b[0m \u001b[0maxis\u001b[0m\u001b[0;34m=\u001b[0m\u001b[0;36m1\u001b[0m\u001b[0;34m)\u001b[0m\u001b[0;34m\u001b[0m\u001b[0;34m\u001b[0m\u001b[0m\n\u001b[0m",
      "\u001b[0;32m~/opt/anaconda3/lib/python3.9/site-packages/pandas/util/_decorators.py\u001b[0m in \u001b[0;36mwrapper\u001b[0;34m(*args, **kwargs)\u001b[0m\n\u001b[1;32m    309\u001b[0m                     \u001b[0mstacklevel\u001b[0m\u001b[0;34m=\u001b[0m\u001b[0mstacklevel\u001b[0m\u001b[0;34m,\u001b[0m\u001b[0;34m\u001b[0m\u001b[0;34m\u001b[0m\u001b[0m\n\u001b[1;32m    310\u001b[0m                 )\n\u001b[0;32m--> 311\u001b[0;31m             \u001b[0;32mreturn\u001b[0m \u001b[0mfunc\u001b[0m\u001b[0;34m(\u001b[0m\u001b[0;34m*\u001b[0m\u001b[0margs\u001b[0m\u001b[0;34m,\u001b[0m \u001b[0;34m**\u001b[0m\u001b[0mkwargs\u001b[0m\u001b[0;34m)\u001b[0m\u001b[0;34m\u001b[0m\u001b[0;34m\u001b[0m\u001b[0m\n\u001b[0m\u001b[1;32m    312\u001b[0m \u001b[0;34m\u001b[0m\u001b[0m\n\u001b[1;32m    313\u001b[0m         \u001b[0;32mreturn\u001b[0m \u001b[0mwrapper\u001b[0m\u001b[0;34m\u001b[0m\u001b[0;34m\u001b[0m\u001b[0m\n",
      "\u001b[0;32m~/opt/anaconda3/lib/python3.9/site-packages/pandas/core/frame.py\u001b[0m in \u001b[0;36mdrop\u001b[0;34m(self, labels, axis, index, columns, level, inplace, errors)\u001b[0m\n\u001b[1;32m   4904\u001b[0m                 \u001b[0mweight\u001b[0m  \u001b[0;36m1.0\u001b[0m     \u001b[0;36m0.8\u001b[0m\u001b[0;34m\u001b[0m\u001b[0;34m\u001b[0m\u001b[0m\n\u001b[1;32m   4905\u001b[0m         \"\"\"\n\u001b[0;32m-> 4906\u001b[0;31m         return super().drop(\n\u001b[0m\u001b[1;32m   4907\u001b[0m             \u001b[0mlabels\u001b[0m\u001b[0;34m=\u001b[0m\u001b[0mlabels\u001b[0m\u001b[0;34m,\u001b[0m\u001b[0;34m\u001b[0m\u001b[0;34m\u001b[0m\u001b[0m\n\u001b[1;32m   4908\u001b[0m             \u001b[0maxis\u001b[0m\u001b[0;34m=\u001b[0m\u001b[0maxis\u001b[0m\u001b[0;34m,\u001b[0m\u001b[0;34m\u001b[0m\u001b[0;34m\u001b[0m\u001b[0m\n",
      "\u001b[0;32m~/opt/anaconda3/lib/python3.9/site-packages/pandas/core/generic.py\u001b[0m in \u001b[0;36mdrop\u001b[0;34m(self, labels, axis, index, columns, level, inplace, errors)\u001b[0m\n\u001b[1;32m   4148\u001b[0m         \u001b[0;32mfor\u001b[0m \u001b[0maxis\u001b[0m\u001b[0;34m,\u001b[0m \u001b[0mlabels\u001b[0m \u001b[0;32min\u001b[0m \u001b[0maxes\u001b[0m\u001b[0;34m.\u001b[0m\u001b[0mitems\u001b[0m\u001b[0;34m(\u001b[0m\u001b[0;34m)\u001b[0m\u001b[0;34m:\u001b[0m\u001b[0;34m\u001b[0m\u001b[0;34m\u001b[0m\u001b[0m\n\u001b[1;32m   4149\u001b[0m             \u001b[0;32mif\u001b[0m \u001b[0mlabels\u001b[0m \u001b[0;32mis\u001b[0m \u001b[0;32mnot\u001b[0m \u001b[0;32mNone\u001b[0m\u001b[0;34m:\u001b[0m\u001b[0;34m\u001b[0m\u001b[0;34m\u001b[0m\u001b[0m\n\u001b[0;32m-> 4150\u001b[0;31m                 \u001b[0mobj\u001b[0m \u001b[0;34m=\u001b[0m \u001b[0mobj\u001b[0m\u001b[0;34m.\u001b[0m\u001b[0m_drop_axis\u001b[0m\u001b[0;34m(\u001b[0m\u001b[0mlabels\u001b[0m\u001b[0;34m,\u001b[0m \u001b[0maxis\u001b[0m\u001b[0;34m,\u001b[0m \u001b[0mlevel\u001b[0m\u001b[0;34m=\u001b[0m\u001b[0mlevel\u001b[0m\u001b[0;34m,\u001b[0m \u001b[0merrors\u001b[0m\u001b[0;34m=\u001b[0m\u001b[0merrors\u001b[0m\u001b[0;34m)\u001b[0m\u001b[0;34m\u001b[0m\u001b[0;34m\u001b[0m\u001b[0m\n\u001b[0m\u001b[1;32m   4151\u001b[0m \u001b[0;34m\u001b[0m\u001b[0m\n\u001b[1;32m   4152\u001b[0m         \u001b[0;32mif\u001b[0m \u001b[0minplace\u001b[0m\u001b[0;34m:\u001b[0m\u001b[0;34m\u001b[0m\u001b[0;34m\u001b[0m\u001b[0m\n",
      "\u001b[0;32m~/opt/anaconda3/lib/python3.9/site-packages/pandas/core/generic.py\u001b[0m in \u001b[0;36m_drop_axis\u001b[0;34m(self, labels, axis, level, errors)\u001b[0m\n\u001b[1;32m   4183\u001b[0m                 \u001b[0mnew_axis\u001b[0m \u001b[0;34m=\u001b[0m \u001b[0maxis\u001b[0m\u001b[0;34m.\u001b[0m\u001b[0mdrop\u001b[0m\u001b[0;34m(\u001b[0m\u001b[0mlabels\u001b[0m\u001b[0;34m,\u001b[0m \u001b[0mlevel\u001b[0m\u001b[0;34m=\u001b[0m\u001b[0mlevel\u001b[0m\u001b[0;34m,\u001b[0m \u001b[0merrors\u001b[0m\u001b[0;34m=\u001b[0m\u001b[0merrors\u001b[0m\u001b[0;34m)\u001b[0m\u001b[0;34m\u001b[0m\u001b[0;34m\u001b[0m\u001b[0m\n\u001b[1;32m   4184\u001b[0m             \u001b[0;32melse\u001b[0m\u001b[0;34m:\u001b[0m\u001b[0;34m\u001b[0m\u001b[0;34m\u001b[0m\u001b[0m\n\u001b[0;32m-> 4185\u001b[0;31m                 \u001b[0mnew_axis\u001b[0m \u001b[0;34m=\u001b[0m \u001b[0maxis\u001b[0m\u001b[0;34m.\u001b[0m\u001b[0mdrop\u001b[0m\u001b[0;34m(\u001b[0m\u001b[0mlabels\u001b[0m\u001b[0;34m,\u001b[0m \u001b[0merrors\u001b[0m\u001b[0;34m=\u001b[0m\u001b[0merrors\u001b[0m\u001b[0;34m)\u001b[0m\u001b[0;34m\u001b[0m\u001b[0;34m\u001b[0m\u001b[0m\n\u001b[0m\u001b[1;32m   4186\u001b[0m             \u001b[0mresult\u001b[0m \u001b[0;34m=\u001b[0m \u001b[0mself\u001b[0m\u001b[0;34m.\u001b[0m\u001b[0mreindex\u001b[0m\u001b[0;34m(\u001b[0m\u001b[0;34m**\u001b[0m\u001b[0;34m{\u001b[0m\u001b[0maxis_name\u001b[0m\u001b[0;34m:\u001b[0m \u001b[0mnew_axis\u001b[0m\u001b[0;34m}\u001b[0m\u001b[0;34m)\u001b[0m\u001b[0;34m\u001b[0m\u001b[0;34m\u001b[0m\u001b[0m\n\u001b[1;32m   4187\u001b[0m \u001b[0;34m\u001b[0m\u001b[0m\n",
      "\u001b[0;32m~/opt/anaconda3/lib/python3.9/site-packages/pandas/core/indexes/base.py\u001b[0m in \u001b[0;36mdrop\u001b[0;34m(self, labels, errors)\u001b[0m\n\u001b[1;32m   6015\u001b[0m         \u001b[0;32mif\u001b[0m \u001b[0mmask\u001b[0m\u001b[0;34m.\u001b[0m\u001b[0many\u001b[0m\u001b[0;34m(\u001b[0m\u001b[0;34m)\u001b[0m\u001b[0;34m:\u001b[0m\u001b[0;34m\u001b[0m\u001b[0;34m\u001b[0m\u001b[0m\n\u001b[1;32m   6016\u001b[0m             \u001b[0;32mif\u001b[0m \u001b[0merrors\u001b[0m \u001b[0;34m!=\u001b[0m \u001b[0;34m\"ignore\"\u001b[0m\u001b[0;34m:\u001b[0m\u001b[0;34m\u001b[0m\u001b[0;34m\u001b[0m\u001b[0m\n\u001b[0;32m-> 6017\u001b[0;31m                 \u001b[0;32mraise\u001b[0m \u001b[0mKeyError\u001b[0m\u001b[0;34m(\u001b[0m\u001b[0;34mf\"{labels[mask]} not found in axis\"\u001b[0m\u001b[0;34m)\u001b[0m\u001b[0;34m\u001b[0m\u001b[0;34m\u001b[0m\u001b[0m\n\u001b[0m\u001b[1;32m   6018\u001b[0m             \u001b[0mindexer\u001b[0m \u001b[0;34m=\u001b[0m \u001b[0mindexer\u001b[0m\u001b[0;34m[\u001b[0m\u001b[0;34m~\u001b[0m\u001b[0mmask\u001b[0m\u001b[0;34m]\u001b[0m\u001b[0;34m\u001b[0m\u001b[0;34m\u001b[0m\u001b[0m\n\u001b[1;32m   6019\u001b[0m         \u001b[0;32mreturn\u001b[0m \u001b[0mself\u001b[0m\u001b[0;34m.\u001b[0m\u001b[0mdelete\u001b[0m\u001b[0;34m(\u001b[0m\u001b[0mindexer\u001b[0m\u001b[0;34m)\u001b[0m\u001b[0;34m\u001b[0m\u001b[0;34m\u001b[0m\u001b[0m\n",
      "\u001b[0;31mKeyError\u001b[0m: \"['grade'] not found in axis\""
     ]
    }
   ],
   "source": [
    "#dropping column 'grade' & concating the 'dummy_grade'\n",
    "loans = pd.concat([loans.drop('grade', axis=1), dummy_grade], axis=1)"
   ]
  },
  {
   "cell_type": "markdown",
   "id": "1539694e",
   "metadata": {},
   "source": [
    "charged off loans have higher grade"
   ]
  },
  {
   "cell_type": "markdown",
   "id": "99a2d5b2",
   "metadata": {},
   "source": [
    "### 'home_ownership'\n",
    "The home ownership status provided by the borrower during registration. Our values are: RENT, OWN, MORTGAGE, OTHER."
   ]
  },
  {
   "cell_type": "code",
   "execution_count": 113,
   "id": "1b477a23",
   "metadata": {
    "scrolled": false
   },
   "outputs": [
    {
     "name": "stdout",
     "output_type": "stream",
     "text": [
      "0\n"
     ]
    }
   ],
   "source": [
    "print(loans['home_ownership'].isnull().sum())"
   ]
  },
  {
   "cell_type": "code",
   "execution_count": 114,
   "id": "da8f8ffe",
   "metadata": {
    "scrolled": true
   },
   "outputs": [
    {
     "data": {
      "text/html": [
       "<div>\n",
       "<style scoped>\n",
       "    .dataframe tbody tr th:only-of-type {\n",
       "        vertical-align: middle;\n",
       "    }\n",
       "\n",
       "    .dataframe tbody tr th {\n",
       "        vertical-align: top;\n",
       "    }\n",
       "\n",
       "    .dataframe thead th {\n",
       "        text-align: right;\n",
       "    }\n",
       "</style>\n",
       "<table border=\"1\" class=\"dataframe\">\n",
       "  <thead>\n",
       "    <tr style=\"text-align: right;\">\n",
       "      <th>loan_status</th>\n",
       "      <th>0</th>\n",
       "      <th>1</th>\n",
       "    </tr>\n",
       "    <tr>\n",
       "      <th>home_ownership</th>\n",
       "      <th></th>\n",
       "      <th></th>\n",
       "    </tr>\n",
       "  </thead>\n",
       "  <tbody>\n",
       "    <tr>\n",
       "      <th>MORTGAGE</th>\n",
       "      <td>15052</td>\n",
       "      <td>2344</td>\n",
       "    </tr>\n",
       "    <tr>\n",
       "      <th>NONE</th>\n",
       "      <td>3</td>\n",
       "      <td>0</td>\n",
       "    </tr>\n",
       "    <tr>\n",
       "      <th>OTHER</th>\n",
       "      <td>80</td>\n",
       "      <td>18</td>\n",
       "    </tr>\n",
       "    <tr>\n",
       "      <th>OWN</th>\n",
       "      <td>2583</td>\n",
       "      <td>445</td>\n",
       "    </tr>\n",
       "    <tr>\n",
       "      <th>RENT</th>\n",
       "      <td>15868</td>\n",
       "      <td>2846</td>\n",
       "    </tr>\n",
       "  </tbody>\n",
       "</table>\n",
       "</div>"
      ],
      "text/plain": [
       "loan_status         0     1\n",
       "home_ownership             \n",
       "MORTGAGE        15052  2344\n",
       "NONE                3     0\n",
       "OTHER              80    18\n",
       "OWN              2583   445\n",
       "RENT            15868  2846"
      ]
     },
     "execution_count": 114,
     "metadata": {},
     "output_type": "execute_result"
    }
   ],
   "source": [
    "pd.crosstab(loans['home_ownership'], loans['loan_status'])"
   ]
  },
  {
   "cell_type": "code",
   "execution_count": 115,
   "id": "f035c576",
   "metadata": {},
   "outputs": [],
   "source": [
    "#I'm going to merge other & none categories with rent \n",
    "loans['home_ownership'] = loans['home_ownership'].replace(['NONE', 'OTHER'], 'RENT')"
   ]
  },
  {
   "cell_type": "code",
   "execution_count": 116,
   "id": "be74f046",
   "metadata": {
    "scrolled": true
   },
   "outputs": [
    {
     "data": {
      "text/plain": [
       "array(['RENT', 'OWN', 'MORTGAGE'], dtype=object)"
      ]
     },
     "execution_count": 116,
     "metadata": {},
     "output_type": "execute_result"
    }
   ],
   "source": [
    "loans['home_ownership'].unique()"
   ]
  },
  {
   "cell_type": "code",
   "execution_count": 117,
   "id": "42d5c51b",
   "metadata": {
    "scrolled": true
   },
   "outputs": [
    {
     "data": {
      "text/plain": [
       "<AxesSubplot:xlabel='home_ownership', ylabel='count'>"
      ]
     },
     "execution_count": 117,
     "metadata": {},
     "output_type": "execute_result"
    },
    {
     "data": {
      "image/png": "[encoded data removed]",
      "text/plain": [
       "<Figure size 720x360 with 1 Axes>"
      ]
     },
     "metadata": {
      "needs_background": "light"
     },
     "output_type": "display_data"
    }
   ],
   "source": [
    "plt.figure(figsize=(10,5))\n",
    "sns.countplot(x='home_ownership',data=loans,hue='loan_status', palette='husl')"
   ]
  },
  {
   "cell_type": "code",
   "execution_count": 118,
   "id": "8c679a71",
   "metadata": {},
   "outputs": [
    {
     "data": {
      "text/html": [
       "<div>\n",
       "<style scoped>\n",
       "    .dataframe tbody tr th:only-of-type {\n",
       "        vertical-align: middle;\n",
       "    }\n",
       "\n",
       "    .dataframe tbody tr th {\n",
       "        vertical-align: top;\n",
       "    }\n",
       "\n",
       "    .dataframe thead th {\n",
       "        text-align: right;\n",
       "    }\n",
       "</style>\n",
       "<table border=\"1\" class=\"dataframe\">\n",
       "  <thead>\n",
       "    <tr style=\"text-align: right;\">\n",
       "      <th></th>\n",
       "      <th>home_ownership:MORTGAGE</th>\n",
       "      <th>home_ownership:OWN</th>\n",
       "      <th>home_ownership:RENT</th>\n",
       "    </tr>\n",
       "  </thead>\n",
       "  <tbody>\n",
       "    <tr>\n",
       "      <th>0</th>\n",
       "      <td>0</td>\n",
       "      <td>0</td>\n",
       "      <td>1</td>\n",
       "    </tr>\n",
       "    <tr>\n",
       "      <th>1</th>\n",
       "      <td>0</td>\n",
       "      <td>0</td>\n",
       "      <td>1</td>\n",
       "    </tr>\n",
       "  </tbody>\n",
       "</table>\n",
       "</div>"
      ],
      "text/plain": [
       "   home_ownership:MORTGAGE  home_ownership:OWN  home_ownership:RENT\n",
       "0                        0                   0                    1\n",
       "1                        0                   0                    1"
      ]
     },
     "execution_count": 118,
     "metadata": {},
     "output_type": "execute_result"
    }
   ],
   "source": [
    "#creating a new dummy variable &making it more descreptive by adding home_ownership in front of the letter\n",
    "dummy_home_ownership = pd.get_dummies(loans['home_ownership'], prefix='home_ownership', prefix_sep=':')\n",
    "dummy_home_ownership.head(2)"
   ]
  },
  {
   "cell_type": "code",
   "execution_count": 119,
   "id": "7d971276",
   "metadata": {},
   "outputs": [],
   "source": [
    "#dropping column 'home_ownership' & concating the 'dummy_home_ownership'\n",
    "loans = pd.concat([loans.drop('home_ownership', axis=1), dummy_home_ownership], axis=1)"
   ]
  },
  {
   "cell_type": "code",
   "execution_count": null,
   "id": "15d7221f",
   "metadata": {},
   "outputs": [],
   "source": []
  },
  {
   "cell_type": "markdown",
   "id": "9669bd8b",
   "metadata": {},
   "source": [
    "### 'verification_status'\n",
    "Indicates if income was verified by LC, not verified, or if the income source was verified"
   ]
  },
  {
   "cell_type": "code",
   "execution_count": 120,
   "id": "3ba731ce",
   "metadata": {
    "scrolled": true
   },
   "outputs": [
    {
     "name": "stdout",
     "output_type": "stream",
     "text": [
      "['Verified' 'Source Verified' 'Not Verified']\n",
      "0\n"
     ]
    }
   ],
   "source": [
    "print(loans['verification_status'].unique())\n",
    "print(loans['verification_status'].isnull().sum())"
   ]
  },
  {
   "cell_type": "code",
   "execution_count": 121,
   "id": "a66b9535",
   "metadata": {},
   "outputs": [
    {
     "data": {
      "text/html": [
       "<div>\n",
       "<style scoped>\n",
       "    .dataframe tbody tr th:only-of-type {\n",
       "        vertical-align: middle;\n",
       "    }\n",
       "\n",
       "    .dataframe tbody tr th {\n",
       "        vertical-align: top;\n",
       "    }\n",
       "\n",
       "    .dataframe thead th {\n",
       "        text-align: right;\n",
       "    }\n",
       "</style>\n",
       "<table border=\"1\" class=\"dataframe\">\n",
       "  <thead>\n",
       "    <tr style=\"text-align: right;\">\n",
       "      <th>loan_status</th>\n",
       "      <th>0</th>\n",
       "      <th>1</th>\n",
       "    </tr>\n",
       "    <tr>\n",
       "      <th>verification_status</th>\n",
       "      <th></th>\n",
       "      <th></th>\n",
       "    </tr>\n",
       "  </thead>\n",
       "  <tbody>\n",
       "    <tr>\n",
       "      <th>Not Verified</th>\n",
       "      <td>14701</td>\n",
       "      <td>2144</td>\n",
       "    </tr>\n",
       "    <tr>\n",
       "      <th>Source Verified</th>\n",
       "      <td>8424</td>\n",
       "      <td>1444</td>\n",
       "    </tr>\n",
       "    <tr>\n",
       "      <th>Verified</th>\n",
       "      <td>10461</td>\n",
       "      <td>2065</td>\n",
       "    </tr>\n",
       "  </tbody>\n",
       "</table>\n",
       "</div>"
      ],
      "text/plain": [
       "loan_status              0     1\n",
       "verification_status             \n",
       "Not Verified         14701  2144\n",
       "Source Verified       8424  1444\n",
       "Verified             10461  2065"
      ]
     },
     "execution_count": 121,
     "metadata": {},
     "output_type": "execute_result"
    }
   ],
   "source": [
    "pd.crosstab(loans['verification_status'], loans['loan_status'])"
   ]
  },
  {
   "cell_type": "code",
   "execution_count": 122,
   "id": "4ab02442",
   "metadata": {},
   "outputs": [
    {
     "data": {
      "text/plain": [
       "<AxesSubplot:xlabel='verification_status', ylabel='count'>"
      ]
     },
     "execution_count": 122,
     "metadata": {},
     "output_type": "execute_result"
    },
    {
     "data": {
      "image/png": "[encoded data removed]",
      "text/plain": [
       "<Figure size 720x360 with 1 Axes>"
      ]
     },
     "metadata": {
      "needs_background": "light"
     },
     "output_type": "display_data"
    }
   ],
   "source": [
    "plt.figure(figsize=(10,5))\n",
    "sns.countplot(data=loans, x='verification_status', hue='loan_status', palette='husl')"
   ]
  },
  {
   "cell_type": "code",
   "execution_count": 123,
   "id": "7df9e3e4",
   "metadata": {},
   "outputs": [
    {
     "data": {
      "text/html": [
       "<div>\n",
       "<style scoped>\n",
       "    .dataframe tbody tr th:only-of-type {\n",
       "        vertical-align: middle;\n",
       "    }\n",
       "\n",
       "    .dataframe tbody tr th {\n",
       "        vertical-align: top;\n",
       "    }\n",
       "\n",
       "    .dataframe thead th {\n",
       "        text-align: right;\n",
       "    }\n",
       "</style>\n",
       "<table border=\"1\" class=\"dataframe\">\n",
       "  <thead>\n",
       "    <tr style=\"text-align: right;\">\n",
       "      <th></th>\n",
       "      <th>verification_status:Not Verified</th>\n",
       "      <th>verification_status:Source Verified</th>\n",
       "      <th>verification_status:Verified</th>\n",
       "    </tr>\n",
       "  </thead>\n",
       "  <tbody>\n",
       "    <tr>\n",
       "      <th>0</th>\n",
       "      <td>0</td>\n",
       "      <td>0</td>\n",
       "      <td>1</td>\n",
       "    </tr>\n",
       "    <tr>\n",
       "      <th>1</th>\n",
       "      <td>0</td>\n",
       "      <td>1</td>\n",
       "      <td>0</td>\n",
       "    </tr>\n",
       "  </tbody>\n",
       "</table>\n",
       "</div>"
      ],
      "text/plain": [
       "   verification_status:Not Verified  verification_status:Source Verified  \\\n",
       "0                                 0                                    0   \n",
       "1                                 0                                    1   \n",
       "\n",
       "   verification_status:Verified  \n",
       "0                             1  \n",
       "1                             0  "
      ]
     },
     "execution_count": 123,
     "metadata": {},
     "output_type": "execute_result"
    }
   ],
   "source": [
    "#creating a new dummy variable & making it more descreptive by adding home_ownership in front of the different source statuses\n",
    "dummy_verification_status = pd.get_dummies(loans['verification_status'], prefix='verification_status', prefix_sep=':')\n",
    "dummy_verification_status.head(2)"
   ]
  },
  {
   "cell_type": "code",
   "execution_count": 124,
   "id": "b1113235",
   "metadata": {},
   "outputs": [],
   "source": [
    "#dropping column 'verification_status' & concating the 'dummy_verification_status'\n",
    "loans = pd.concat([loans.drop('verification_status', axis=1), dummy_verification_status], axis=1)"
   ]
  },
  {
   "cell_type": "markdown",
   "id": "572b48cf",
   "metadata": {},
   "source": [
    "### 'purpose'\n",
    "A category provided by the borrower for the loan request."
   ]
  },
  {
   "cell_type": "code",
   "execution_count": 125,
   "id": "ba7e7381",
   "metadata": {},
   "outputs": [
    {
     "name": "stdout",
     "output_type": "stream",
     "text": [
      "['credit_card' 'car' 'small_business' 'other' 'wedding'\n",
      " 'debt_consolidation' 'home_improvement' 'major_purchase' 'medical'\n",
      " 'moving' 'vacation' 'house' 'renewable_energy' 'educational']\n",
      "0\n"
     ]
    }
   ],
   "source": [
    "print(loans['purpose'].unique())\n",
    "print(loans['purpose'].isnull().sum())"
   ]
  },
  {
   "cell_type": "code",
   "execution_count": 126,
   "id": "e6f0f26f",
   "metadata": {},
   "outputs": [
    {
     "data": {
      "image/png": "[encoded data removed]",
      "text/plain": [
       "<Figure size 1152x576 with 1 Axes>"
      ]
     },
     "metadata": {
      "needs_background": "light"
     },
     "output_type": "display_data"
    }
   ],
   "source": [
    "plt.figure(figsize=(16,8))\n",
    "sns.countplot(data=loans, x='purpose', hue='loan_status', palette='husl')\n",
    "plt.xticks(rotation=60);"
   ]
  },
  {
   "cell_type": "code",
   "execution_count": 127,
   "id": "1ad5cf01",
   "metadata": {
    "scrolled": true
   },
   "outputs": [
    {
     "data": {
      "text/html": [
       "<div>\n",
       "<style scoped>\n",
       "    .dataframe tbody tr th:only-of-type {\n",
       "        vertical-align: middle;\n",
       "    }\n",
       "\n",
       "    .dataframe tbody tr th {\n",
       "        vertical-align: top;\n",
       "    }\n",
       "\n",
       "    .dataframe thead th {\n",
       "        text-align: right;\n",
       "    }\n",
       "</style>\n",
       "<table border=\"1\" class=\"dataframe\">\n",
       "  <thead>\n",
       "    <tr style=\"text-align: right;\">\n",
       "      <th>loan_status</th>\n",
       "      <th>0</th>\n",
       "      <th>1</th>\n",
       "    </tr>\n",
       "    <tr>\n",
       "      <th>purpose</th>\n",
       "      <th></th>\n",
       "      <th></th>\n",
       "    </tr>\n",
       "  </thead>\n",
       "  <tbody>\n",
       "    <tr>\n",
       "      <th>car</th>\n",
       "      <td>1376</td>\n",
       "      <td>160</td>\n",
       "    </tr>\n",
       "    <tr>\n",
       "      <th>credit_card</th>\n",
       "      <td>4531</td>\n",
       "      <td>545</td>\n",
       "    </tr>\n",
       "    <tr>\n",
       "      <th>debt_consolidation</th>\n",
       "      <td>15585</td>\n",
       "      <td>2785</td>\n",
       "    </tr>\n",
       "    <tr>\n",
       "      <th>educational</th>\n",
       "      <td>269</td>\n",
       "      <td>56</td>\n",
       "    </tr>\n",
       "    <tr>\n",
       "      <th>home_improvement</th>\n",
       "      <td>2600</td>\n",
       "      <td>349</td>\n",
       "    </tr>\n",
       "    <tr>\n",
       "      <th>house</th>\n",
       "      <td>313</td>\n",
       "      <td>59</td>\n",
       "    </tr>\n",
       "    <tr>\n",
       "      <th>major_purchase</th>\n",
       "      <td>1962</td>\n",
       "      <td>222</td>\n",
       "    </tr>\n",
       "    <tr>\n",
       "      <th>medical</th>\n",
       "      <td>584</td>\n",
       "      <td>106</td>\n",
       "    </tr>\n",
       "    <tr>\n",
       "      <th>moving</th>\n",
       "      <td>490</td>\n",
       "      <td>92</td>\n",
       "    </tr>\n",
       "    <tr>\n",
       "      <th>other</th>\n",
       "      <td>3302</td>\n",
       "      <td>635</td>\n",
       "    </tr>\n",
       "    <tr>\n",
       "      <th>renewable_energy</th>\n",
       "      <td>84</td>\n",
       "      <td>19</td>\n",
       "    </tr>\n",
       "    <tr>\n",
       "      <th>small_business</th>\n",
       "      <td>1320</td>\n",
       "      <td>476</td>\n",
       "    </tr>\n",
       "    <tr>\n",
       "      <th>vacation</th>\n",
       "      <td>325</td>\n",
       "      <td>53</td>\n",
       "    </tr>\n",
       "    <tr>\n",
       "      <th>wedding</th>\n",
       "      <td>845</td>\n",
       "      <td>96</td>\n",
       "    </tr>\n",
       "  </tbody>\n",
       "</table>\n",
       "</div>"
      ],
      "text/plain": [
       "loan_status             0     1\n",
       "purpose                        \n",
       "car                  1376   160\n",
       "credit_card          4531   545\n",
       "debt_consolidation  15585  2785\n",
       "educational           269    56\n",
       "home_improvement     2600   349\n",
       "house                 313    59\n",
       "major_purchase       1962   222\n",
       "medical               584   106\n",
       "moving                490    92\n",
       "other                3302   635\n",
       "renewable_energy       84    19\n",
       "small_business       1320   476\n",
       "vacation              325    53\n",
       "wedding               845    96"
      ]
     },
     "execution_count": 127,
     "metadata": {},
     "output_type": "execute_result"
    }
   ],
   "source": [
    "pd.crosstab(loans['purpose'], loans['loan_status'])"
   ]
  },
  {
   "cell_type": "code",
   "execution_count": 128,
   "id": "7cbe9ecd",
   "metadata": {},
   "outputs": [
    {
     "data": {
      "text/plain": [
       "debt_consolidation    0.468157\n",
       "credit_card           0.129361\n",
       "other                 0.100334\n",
       "home_improvement      0.075155\n",
       "major_purchase        0.055659\n",
       "small_business        0.045771\n",
       "car                   0.039145\n",
       "wedding               0.023981\n",
       "medical               0.017585\n",
       "moving                0.014832\n",
       "vacation              0.009633\n",
       "house                 0.009480\n",
       "educational           0.008283\n",
       "renewable_energy      0.002625\n",
       "Name: purpose, dtype: float64"
      ]
     },
     "execution_count": 128,
     "metadata": {},
     "output_type": "execute_result"
    }
   ],
   "source": [
    "loans['purpose'].value_counts() / loans['purpose'].count()"
   ]
  },
  {
   "cell_type": "code",
   "execution_count": 129,
   "id": "c67d3754",
   "metadata": {
    "scrolled": true
   },
   "outputs": [],
   "source": [
    "#creating a new dummy variable & making it more descreptive by adding purpose in front of the categories\n",
    "dummy_purpose = pd.get_dummies(loans['purpose'], prefix='purpose', prefix_sep=':')"
   ]
  },
  {
   "cell_type": "code",
   "execution_count": 130,
   "id": "54fc5df7",
   "metadata": {},
   "outputs": [],
   "source": [
    "#dropping column 'purpose' & concating the 'dummy_purpose'\n",
    "loans = pd.concat([loans.drop('purpose', axis=1), dummy_purpose], axis=1)"
   ]
  },
  {
   "cell_type": "markdown",
   "id": "1e8226e1",
   "metadata": {},
   "source": [
    "### addr_state\n",
    "The state provided by the borrower in the loan application."
   ]
  },
  {
   "cell_type": "code",
   "execution_count": 131,
   "id": "a6f95e87",
   "metadata": {
    "scrolled": true
   },
   "outputs": [
    {
     "name": "stdout",
     "output_type": "stream",
     "text": [
      "['AZ' 'GA' 'IL' 'CA' 'NC' 'TX' 'VA' 'MO' 'CT' 'UT' 'FL' 'NY' 'PA' 'MN'\n",
      " 'NJ' 'OR' 'KY' 'OH' 'SC' 'RI' 'LA' 'MA' 'WA' 'WI' 'AL' 'KS' 'NV' 'AK'\n",
      " 'CO' 'MD' 'WV' 'VT' 'MI' 'DC' 'SD' 'NH' 'AR' 'NM' 'MT' 'HI' 'WY' 'OK'\n",
      " 'DE' 'MS' 'TN' 'IA' 'NE' 'ID' 'IN' 'ME']\n",
      "0\n",
      "50\n"
     ]
    }
   ],
   "source": [
    "print(loans['addr_state'].unique())\n",
    "print(loans['addr_state'].isnull().sum())\n",
    "print(len(loans['addr_state'].unique()))"
   ]
  },
  {
   "cell_type": "code",
   "execution_count": 132,
   "id": "ff4bf322",
   "metadata": {},
   "outputs": [
    {
     "data": {
      "text/plain": [
       "CA    7029\n",
       "NY    3759\n",
       "FL    2834\n",
       "TX    2698\n",
       "NJ    1830\n",
       "IL    1514\n",
       "PA    1497\n",
       "VA    1389\n",
       "GA    1381\n",
       "MA    1323\n",
       "OH    1202\n",
       "MD    1041\n",
       "AZ     867\n",
       "WA     831\n",
       "CO     778\n",
       "NC     773\n",
       "CT     738\n",
       "MI     718\n",
       "MO     678\n",
       "MN     611\n",
       "NV     489\n",
       "SC     469\n",
       "WI     448\n",
       "OR     442\n",
       "AL     442\n",
       "LA     432\n",
       "KY     319\n",
       "OK     295\n",
       "KS     265\n",
       "UT     255\n",
       "AR     242\n",
       "DC     213\n",
       "RI     197\n",
       "NM     187\n",
       "WV     174\n",
       "HI     171\n",
       "NH     169\n",
       "DE     114\n",
       "MT      84\n",
       "WY      83\n",
       "AK      79\n",
       "SD      62\n",
       "VT      53\n",
       "MS      19\n",
       "TN      17\n",
       "IN       9\n",
       "ID       6\n",
       "IA       5\n",
       "NE       5\n",
       "ME       3\n",
       "Name: addr_state, dtype: int64"
      ]
     },
     "execution_count": 132,
     "metadata": {},
     "output_type": "execute_result"
    }
   ],
   "source": [
    "loans['addr_state'].value_counts()"
   ]
  },
  {
   "cell_type": "markdown",
   "id": "42264de4",
   "metadata": {},
   "source": [
    "I was thinking of dummifying 'addr_state column' column, as which contains categorical values but it has too many unique val so I've decided to drop it."
   ]
  },
  {
   "cell_type": "code",
   "execution_count": 133,
   "id": "b62ebeb4",
   "metadata": {},
   "outputs": [],
   "source": [
    "loans = loans.drop(['addr_state'], axis=1)"
   ]
  },
  {
   "cell_type": "markdown",
   "id": "624809dd",
   "metadata": {},
   "source": [
    "### 'application_type' \n",
    "Indicates whether the loan is an individual application or a joint application with two co-borrowers"
   ]
  },
  {
   "cell_type": "code",
   "execution_count": 134,
   "id": "7efe1a19",
   "metadata": {},
   "outputs": [
    {
     "name": "stdout",
     "output_type": "stream",
     "text": [
      "['INDIVIDUAL']\n",
      "0\n",
      "INDIVIDUAL    39239\n",
      "Name: application_type, dtype: int64\n"
     ]
    }
   ],
   "source": [
    "print(loans['application_type'].unique())\n",
    "print(loans['application_type'].isnull().sum())\n",
    "print(loans['application_type'].value_counts())"
   ]
  },
  {
   "cell_type": "code",
   "execution_count": 135,
   "id": "1ab0bb2c",
   "metadata": {},
   "outputs": [],
   "source": [
    "#I'm dropping this column as there is only 1 unique value, all loans are for individuals\n",
    "loans = loans.drop(['application_type'], axis=1)"
   ]
  },
  {
   "cell_type": "markdown",
   "id": "c8beac66",
   "metadata": {},
   "source": [
    "### 'loan_amnt'\n",
    "The listed amount of the loan applied for by the borrower. If at some point in time, the credit department reduces the loan amount, then it will be reflected in this value."
   ]
  },
  {
   "cell_type": "code",
   "execution_count": 276,
   "id": "0ccc11df",
   "metadata": {},
   "outputs": [
    {
     "name": "stdout",
     "output_type": "stream",
     "text": [
      "0\n"
     ]
    }
   ],
   "source": [
    "print(loans['loan_amnt'].isnull().sum())"
   ]
  },
  {
   "cell_type": "code",
   "execution_count": 137,
   "id": "b8549f9d",
   "metadata": {
    "scrolled": true
   },
   "outputs": [
    {
     "data": {
      "text/plain": [
       "count    39239.000000\n",
       "mean     11134.730115\n",
       "std       7398.238030\n",
       "min        500.000000\n",
       "25%       5400.000000\n",
       "50%      10000.000000\n",
       "75%      15000.000000\n",
       "max      35000.000000\n",
       "Name: loan_amnt, dtype: float64"
      ]
     },
     "execution_count": 137,
     "metadata": {},
     "output_type": "execute_result"
    }
   ],
   "source": [
    "loans['loan_amnt'].describe()"
   ]
  },
  {
   "cell_type": "code",
   "execution_count": 202,
   "id": "de8c300f",
   "metadata": {},
   "outputs": [
    {
     "data": {
      "text/html": [
       "<div>\n",
       "<style scoped>\n",
       "    .dataframe tbody tr th:only-of-type {\n",
       "        vertical-align: middle;\n",
       "    }\n",
       "\n",
       "    .dataframe tbody tr th {\n",
       "        vertical-align: top;\n",
       "    }\n",
       "\n",
       "    .dataframe thead th {\n",
       "        text-align: right;\n",
       "    }\n",
       "</style>\n",
       "<table border=\"1\" class=\"dataframe\">\n",
       "  <thead>\n",
       "    <tr style=\"text-align: right;\">\n",
       "      <th></th>\n",
       "      <th>count</th>\n",
       "      <th>mean</th>\n",
       "      <th>std</th>\n",
       "      <th>min</th>\n",
       "      <th>25%</th>\n",
       "      <th>50%</th>\n",
       "      <th>75%</th>\n",
       "      <th>max</th>\n",
       "    </tr>\n",
       "    <tr>\n",
       "      <th>loan_status</th>\n",
       "      <th></th>\n",
       "      <th></th>\n",
       "      <th></th>\n",
       "      <th></th>\n",
       "      <th></th>\n",
       "      <th></th>\n",
       "      <th></th>\n",
       "      <th></th>\n",
       "    </tr>\n",
       "  </thead>\n",
       "  <tbody>\n",
       "    <tr>\n",
       "      <th>0</th>\n",
       "      <td>31775.0</td>\n",
       "      <td>10717.287175</td>\n",
       "      <td>7055.624838</td>\n",
       "      <td>500.0</td>\n",
       "      <td>5000.0</td>\n",
       "      <td>9325.0</td>\n",
       "      <td>15000.0</td>\n",
       "      <td>35000.0</td>\n",
       "    </tr>\n",
       "    <tr>\n",
       "      <th>1</th>\n",
       "      <td>5365.0</td>\n",
       "      <td>11884.231128</td>\n",
       "      <td>7963.521722</td>\n",
       "      <td>900.0</td>\n",
       "      <td>5500.0</td>\n",
       "      <td>10000.0</td>\n",
       "      <td>16000.0</td>\n",
       "      <td>35000.0</td>\n",
       "    </tr>\n",
       "  </tbody>\n",
       "</table>\n",
       "</div>"
      ],
      "text/plain": [
       "               count          mean          std    min     25%      50%  \\\n",
       "loan_status                                                               \n",
       "0            31775.0  10717.287175  7055.624838  500.0  5000.0   9325.0   \n",
       "1             5365.0  11884.231128  7963.521722  900.0  5500.0  10000.0   \n",
       "\n",
       "                 75%      max  \n",
       "loan_status                    \n",
       "0            15000.0  35000.0  \n",
       "1            16000.0  35000.0  "
      ]
     },
     "execution_count": 202,
     "metadata": {},
     "output_type": "execute_result"
    }
   ],
   "source": [
    "loans.groupby('loan_status')['loan_amnt'].describe()"
   ]
  },
  {
   "cell_type": "code",
   "execution_count": 139,
   "id": "e7a0c7a0",
   "metadata": {
    "scrolled": true
   },
   "outputs": [
    {
     "data": {
      "text/plain": [
       "<AxesSubplot:xlabel='loan_status', ylabel='loan_amnt'>"
      ]
     },
     "execution_count": 139,
     "metadata": {},
     "output_type": "execute_result"
    },
    {
     "data": {
      "image/png": "[encoded data removed]",
      "text/plain": [
       "<Figure size 864x576 with 1 Axes>"
      ]
     },
     "metadata": {
      "needs_background": "light"
     },
     "output_type": "display_data"
    }
   ],
   "source": [
    "sns.boxplot(data=loans, y='loan_amnt', x='loan_status', palette='husl')"
   ]
  },
  {
   "cell_type": "markdown",
   "id": "2430a2d8",
   "metadata": {},
   "source": [
    "From loan amount mean, it can be seen that the group of customers with charged off status took larger loans, that the other group."
   ]
  },
  {
   "cell_type": "markdown",
   "id": "78f54ba3",
   "metadata": {},
   "source": [
    "### 'annual_inc'\n",
    "The self-reported annual income provided by the borrower during registration"
   ]
  },
  {
   "cell_type": "code",
   "execution_count": 140,
   "id": "8f91ee7a",
   "metadata": {},
   "outputs": [
    {
     "data": {
      "text/plain": [
       "0"
      ]
     },
     "execution_count": 140,
     "metadata": {},
     "output_type": "execute_result"
    }
   ],
   "source": [
    "loans['annual_inc'].isnull().sum()"
   ]
  },
  {
   "cell_type": "code",
   "execution_count": 141,
   "id": "fa6ba7cf",
   "metadata": {},
   "outputs": [
    {
     "data": {
      "text/plain": [
       "count    3.923900e+04\n",
       "mean     6.888432e+04\n",
       "std      6.400031e+04\n",
       "min      4.000000e+03\n",
       "25%      4.001400e+04\n",
       "50%      5.900000e+04\n",
       "75%      8.200000e+04\n",
       "max      6.000000e+06\n",
       "Name: annual_inc, dtype: float64"
      ]
     },
     "execution_count": 141,
     "metadata": {},
     "output_type": "execute_result"
    }
   ],
   "source": [
    "loans['annual_inc'].describe()"
   ]
  },
  {
   "cell_type": "code",
   "execution_count": 142,
   "id": "b9620cdc",
   "metadata": {},
   "outputs": [
    {
     "data": {
      "text/plain": [
       "<AxesSubplot:xlabel='annual_inc'>"
      ]
     },
     "execution_count": 142,
     "metadata": {},
     "output_type": "execute_result"
    },
    {
     "data": {
      "image/png": "[encoded data removed]",
      "text/plain": [
       "<Figure size 864x576 with 1 Axes>"
      ]
     },
     "metadata": {
      "needs_background": "light"
     },
     "output_type": "display_data"
    }
   ],
   "source": [
    "sns.boxplot(loans['annual_inc'])"
   ]
  },
  {
   "cell_type": "code",
   "execution_count": 143,
   "id": "8ca31f0d",
   "metadata": {},
   "outputs": [
    {
     "name": "stdout",
     "output_type": "stream",
     "text": [
      "Q1 : 40014.0\n",
      "Q3 : 82000.0\n",
      "IQR : 41986.0\n",
      "Low_outliers : -22965.0\n",
      "High_outliers : 144979.0\n"
     ]
    }
   ],
   "source": [
    "#boxpolt shows that there is a good few outliers, lets detect them\n",
    "Q1 = np.quantile(loans[\"annual_inc\"],0.25)\n",
    "Q3 = np.quantile(loans[\"annual_inc\"],0.75)\n",
    "IQR = Q3 - Q1\n",
    "\n",
    "Low_outliers = Q1-1.5*IQR\n",
    "High_outliers = Q3+1.5*IQR\n",
    "\n",
    "print(\"Q1 :\",Q1)\n",
    "print(\"Q3 :\", Q3)\n",
    "print(\"IQR :\", IQR)\n",
    "print(\"Low_outliers :\", round(Low_outliers,4))\n",
    "print(\"High_outliers :\", round(High_outliers,4))"
   ]
  },
  {
   "cell_type": "code",
   "execution_count": 144,
   "id": "a5e83327",
   "metadata": {},
   "outputs": [
    {
     "data": {
      "text/plain": [
       "1986"
      ]
     },
     "execution_count": 144,
     "metadata": {},
     "output_type": "execute_result"
    }
   ],
   "source": [
    "#checking how customers have income of 140k or higer\n",
    "len(loans[loans['annual_inc']>140000])"
   ]
  },
  {
   "cell_type": "code",
   "execution_count": 145,
   "id": "1f784eac",
   "metadata": {},
   "outputs": [
    {
     "data": {
      "text/plain": [
       "5.061291062463366"
      ]
     },
     "execution_count": 145,
     "metadata": {},
     "output_type": "execute_result"
    }
   ],
   "source": [
    "#checking the % of rows with annual income of 140k\n",
    "income140 = 1986*100/len(loans)\n",
    "income140"
   ]
  },
  {
   "cell_type": "code",
   "execution_count": 146,
   "id": "fe836693",
   "metadata": {},
   "outputs": [
    {
     "data": {
      "text/plain": [
       "970"
      ]
     },
     "execution_count": 146,
     "metadata": {},
     "output_type": "execute_result"
    }
   ],
   "source": [
    "#checking how customers have income of 200k or higer\n",
    "len(loans[loans['annual_inc']>175000])"
   ]
  },
  {
   "cell_type": "code",
   "execution_count": 147,
   "id": "63e899b2",
   "metadata": {},
   "outputs": [
    {
     "data": {
      "text/plain": [
       "2.4720303779403143"
      ]
     },
     "execution_count": 147,
     "metadata": {},
     "output_type": "execute_result"
    }
   ],
   "source": [
    "income175 = 970*100/len(loans)\n",
    "income175"
   ]
  },
  {
   "cell_type": "code",
   "execution_count": 148,
   "id": "5ef33b82",
   "metadata": {},
   "outputs": [],
   "source": [
    "# 5.06% of my data is quite a lot, I will remove only annual income above 175k \n",
    "loans = loans[loans['annual_inc']<=175000]"
   ]
  },
  {
   "cell_type": "code",
   "execution_count": 149,
   "id": "04838e21",
   "metadata": {},
   "outputs": [
    {
     "data": {
      "text/plain": [
       "38269"
      ]
     },
     "execution_count": 149,
     "metadata": {},
     "output_type": "execute_result"
    }
   ],
   "source": [
    "len(loans)"
   ]
  },
  {
   "cell_type": "code",
   "execution_count": 150,
   "id": "9116af88",
   "metadata": {
    "scrolled": true
   },
   "outputs": [
    {
     "data": {
      "text/plain": [
       "<AxesSubplot:xlabel='annual_inc', ylabel='Density'>"
      ]
     },
     "execution_count": 150,
     "metadata": {},
     "output_type": "execute_result"
    },
    {
     "data": {
      "image/png": "[encoded data removed]",
      "text/plain": [
       "<Figure size 1560x650 with 1 Axes>"
      ]
     },
     "metadata": {
      "needs_background": "light"
     },
     "output_type": "display_data"
    }
   ],
   "source": [
    "#checking the distribution after removing some of the outlires\n",
    "plt.figure(figsize=(12,5), dpi=130)\n",
    "sns.distplot(loans['annual_inc'])"
   ]
  },
  {
   "cell_type": "markdown",
   "id": "49e7fc87",
   "metadata": {},
   "source": [
    "The distribution is not perfect but definitely much better than before."
   ]
  },
  {
   "cell_type": "code",
   "execution_count": 151,
   "id": "903e46a4",
   "metadata": {},
   "outputs": [
    {
     "data": {
      "text/plain": [
       "<AxesSubplot:xlabel='annual_inc', ylabel='Count'>"
      ]
     },
     "execution_count": 151,
     "metadata": {},
     "output_type": "execute_result"
    },
    {
     "data": {
      "image/png": "[encoded data removed]",
      "text/plain": [
       "<Figure size 1440x576 with 1 Axes>"
      ]
     },
     "metadata": {
      "needs_background": "light"
     },
     "output_type": "display_data"
    }
   ],
   "source": [
    "plt.figure(figsize=(20,8))\n",
    "sns.histplot(data=loans, x='annual_inc', hue='loan_status', bins=88, palette='husl')"
   ]
  },
  {
   "cell_type": "code",
   "execution_count": 152,
   "id": "41168657",
   "metadata": {},
   "outputs": [
    {
     "data": {
      "text/html": [
       "<div>\n",
       "<style scoped>\n",
       "    .dataframe tbody tr th:only-of-type {\n",
       "        vertical-align: middle;\n",
       "    }\n",
       "\n",
       "    .dataframe tbody tr th {\n",
       "        vertical-align: top;\n",
       "    }\n",
       "\n",
       "    .dataframe thead th {\n",
       "        text-align: right;\n",
       "    }\n",
       "</style>\n",
       "<table border=\"1\" class=\"dataframe\">\n",
       "  <thead>\n",
       "    <tr style=\"text-align: right;\">\n",
       "      <th></th>\n",
       "      <th>count</th>\n",
       "      <th>mean</th>\n",
       "      <th>std</th>\n",
       "      <th>min</th>\n",
       "      <th>25%</th>\n",
       "      <th>50%</th>\n",
       "      <th>75%</th>\n",
       "      <th>max</th>\n",
       "    </tr>\n",
       "    <tr>\n",
       "      <th>loan_status</th>\n",
       "      <th></th>\n",
       "      <th></th>\n",
       "      <th></th>\n",
       "      <th></th>\n",
       "      <th></th>\n",
       "      <th></th>\n",
       "      <th></th>\n",
       "      <th></th>\n",
       "    </tr>\n",
       "  </thead>\n",
       "  <tbody>\n",
       "    <tr>\n",
       "      <th>0</th>\n",
       "      <td>32721.0</td>\n",
       "      <td>64279.200976</td>\n",
       "      <td>31574.866044</td>\n",
       "      <td>4000.0</td>\n",
       "      <td>40800.0</td>\n",
       "      <td>58800.0</td>\n",
       "      <td>80004.0</td>\n",
       "      <td>175000.0</td>\n",
       "    </tr>\n",
       "    <tr>\n",
       "      <th>1</th>\n",
       "      <td>5548.0</td>\n",
       "      <td>58388.939652</td>\n",
       "      <td>29661.365486</td>\n",
       "      <td>4080.0</td>\n",
       "      <td>36999.0</td>\n",
       "      <td>52000.0</td>\n",
       "      <td>73000.0</td>\n",
       "      <td>175000.0</td>\n",
       "    </tr>\n",
       "  </tbody>\n",
       "</table>\n",
       "</div>"
      ],
      "text/plain": [
       "               count          mean           std     min      25%      50%  \\\n",
       "loan_status                                                                  \n",
       "0            32721.0  64279.200976  31574.866044  4000.0  40800.0  58800.0   \n",
       "1             5548.0  58388.939652  29661.365486  4080.0  36999.0  52000.0   \n",
       "\n",
       "                 75%       max  \n",
       "loan_status                     \n",
       "0            80004.0  175000.0  \n",
       "1            73000.0  175000.0  "
      ]
     },
     "execution_count": 152,
     "metadata": {},
     "output_type": "execute_result"
    }
   ],
   "source": [
    "loans.groupby('loan_status')['annual_inc'].describe()"
   ]
  },
  {
   "cell_type": "markdown",
   "id": "e0541e87",
   "metadata": {},
   "source": [
    "The avarage income of cusomers who paid their loan and the once who did not differ by more than 6k, meaning that people who defaulted on a loan earn less by around 6k. "
   ]
  },
  {
   "cell_type": "markdown",
   "id": "2e28a6c4",
   "metadata": {},
   "source": [
    "### dti \n",
    "A ratio calculated using the borrower’s total monthly debt payments on the total debt obligations, excluding mortgage and the requested LC loan, divided by the borrower’s self-reported monthly income."
   ]
  },
  {
   "cell_type": "code",
   "execution_count": 153,
   "id": "24aeef61",
   "metadata": {},
   "outputs": [
    {
     "name": "stdout",
     "output_type": "stream",
     "text": [
      "[27.65  1.    8.72 ...  0.09  0.12 25.43]\n",
      "0\n"
     ]
    }
   ],
   "source": [
    "print(loans['dti'].unique())\n",
    "print(loans['dti'].isnull().sum())"
   ]
  },
  {
   "cell_type": "code",
   "execution_count": 154,
   "id": "3074ecc9",
   "metadata": {
    "scrolled": true
   },
   "outputs": [
    {
     "data": {
      "text/plain": [
       "count    38269.000000\n",
       "mean        13.403896\n",
       "std          6.662980\n",
       "min          0.000000\n",
       "25%          8.290000\n",
       "50%         13.510000\n",
       "75%         18.670000\n",
       "max         29.990000\n",
       "Name: dti, dtype: float64"
      ]
     },
     "execution_count": 154,
     "metadata": {},
     "output_type": "execute_result"
    }
   ],
   "source": [
    "loans['dti'].describe()"
   ]
  },
  {
   "cell_type": "code",
   "execution_count": 158,
   "id": "d983817b",
   "metadata": {},
   "outputs": [
    {
     "data": {
      "text/plain": [
       "<AxesSubplot:xlabel='dti', ylabel='Count'>"
      ]
     },
     "execution_count": 158,
     "metadata": {},
     "output_type": "execute_result"
    },
    {
     "data": {
      "image/png": "[encoded data removed]",
      "text/plain": [
       "<Figure size 1440x576 with 1 Axes>"
      ]
     },
     "metadata": {
      "needs_background": "light"
     },
     "output_type": "display_data"
    }
   ],
   "source": [
    "plt.figure(figsize=(20,8))\n",
    "sns.histplot(data=loans, x='dti', hue='loan_status', bins=88, palette='husl')"
   ]
  },
  {
   "cell_type": "code",
   "execution_count": 159,
   "id": "3c038220",
   "metadata": {},
   "outputs": [
    {
     "data": {
      "text/plain": [
       "<AxesSubplot:xlabel='loan_status', ylabel='dti'>"
      ]
     },
     "execution_count": 159,
     "metadata": {},
     "output_type": "execute_result"
    },
    {
     "data": {
      "image/png": "[encoded data removed]",
      "text/plain": [
       "<Figure size 864x576 with 1 Axes>"
      ]
     },
     "metadata": {
      "needs_background": "light"
     },
     "output_type": "display_data"
    }
   ],
   "source": [
    "sns.boxplot(data = loans, x ='loan_status', y='dti', palette='husl')"
   ]
  },
  {
   "cell_type": "code",
   "execution_count": 160,
   "id": "850d1979",
   "metadata": {},
   "outputs": [
    {
     "data": {
      "text/html": [
       "<div>\n",
       "<style scoped>\n",
       "    .dataframe tbody tr th:only-of-type {\n",
       "        vertical-align: middle;\n",
       "    }\n",
       "\n",
       "    .dataframe tbody tr th {\n",
       "        vertical-align: top;\n",
       "    }\n",
       "\n",
       "    .dataframe thead th {\n",
       "        text-align: right;\n",
       "    }\n",
       "</style>\n",
       "<table border=\"1\" class=\"dataframe\">\n",
       "  <thead>\n",
       "    <tr style=\"text-align: right;\">\n",
       "      <th></th>\n",
       "      <th>count</th>\n",
       "      <th>mean</th>\n",
       "      <th>std</th>\n",
       "      <th>min</th>\n",
       "      <th>25%</th>\n",
       "      <th>50%</th>\n",
       "      <th>75%</th>\n",
       "      <th>max</th>\n",
       "    </tr>\n",
       "    <tr>\n",
       "      <th>loan_status</th>\n",
       "      <th></th>\n",
       "      <th></th>\n",
       "      <th></th>\n",
       "      <th></th>\n",
       "      <th></th>\n",
       "      <th></th>\n",
       "      <th></th>\n",
       "      <th></th>\n",
       "    </tr>\n",
       "  </thead>\n",
       "  <tbody>\n",
       "    <tr>\n",
       "      <th>0</th>\n",
       "      <td>32721.0</td>\n",
       "      <td>13.287914</td>\n",
       "      <td>6.671524</td>\n",
       "      <td>0.0</td>\n",
       "      <td>8.14</td>\n",
       "      <td>13.37</td>\n",
       "      <td>18.54</td>\n",
       "      <td>29.99</td>\n",
       "    </tr>\n",
       "    <tr>\n",
       "      <th>1</th>\n",
       "      <td>5548.0</td>\n",
       "      <td>14.087933</td>\n",
       "      <td>6.571447</td>\n",
       "      <td>0.0</td>\n",
       "      <td>9.17</td>\n",
       "      <td>14.40</td>\n",
       "      <td>19.36</td>\n",
       "      <td>29.85</td>\n",
       "    </tr>\n",
       "  </tbody>\n",
       "</table>\n",
       "</div>"
      ],
      "text/plain": [
       "               count       mean       std  min   25%    50%    75%    max\n",
       "loan_status                                                              \n",
       "0            32721.0  13.287914  6.671524  0.0  8.14  13.37  18.54  29.99\n",
       "1             5548.0  14.087933  6.571447  0.0  9.17  14.40  19.36  29.85"
      ]
     },
     "execution_count": 160,
     "metadata": {},
     "output_type": "execute_result"
    }
   ],
   "source": [
    "loans.groupby('loan_status')['dti'].describe()"
   ]
  },
  {
   "cell_type": "markdown",
   "id": "205a0f72",
   "metadata": {},
   "source": [
    "We can see that 'dti' ratio of customers who fully paid is lower than the other group by over 1%."
   ]
  },
  {
   "cell_type": "markdown",
   "id": "4e789e29",
   "metadata": {},
   "source": [
    "### 'inq_last_6mths'\n",
    "The number of inquiries in past 6 months (excluding auto and mortgage inquiries)"
   ]
  },
  {
   "cell_type": "code",
   "execution_count": 161,
   "id": "83a95abf",
   "metadata": {},
   "outputs": [
    {
     "name": "stdout",
     "output_type": "stream",
     "text": [
      "[1. 5. 2. 3. 0. 4. 6. 7. 8.]\n",
      "0\n"
     ]
    }
   ],
   "source": [
    "print(loans['inq_last_6mths'].unique())\n",
    "print(loans['inq_last_6mths'].isnull().sum())"
   ]
  },
  {
   "cell_type": "code",
   "execution_count": 162,
   "id": "a4ad003a",
   "metadata": {
    "scrolled": true
   },
   "outputs": [
    {
     "data": {
      "text/plain": [
       "<AxesSubplot:xlabel='inq_last_6mths'>"
      ]
     },
     "execution_count": 162,
     "metadata": {},
     "output_type": "execute_result"
    },
    {
     "data": {
      "image/png": "[encoded data removed]",
      "text/plain": [
       "<Figure size 864x576 with 1 Axes>"
      ]
     },
     "metadata": {
      "needs_background": "light"
     },
     "output_type": "display_data"
    }
   ],
   "source": [
    "pd.crosstab(loans['inq_last_6mths'], loans['loan_status']).plot(kind='bar')"
   ]
  },
  {
   "cell_type": "code",
   "execution_count": 163,
   "id": "73816e33",
   "metadata": {},
   "outputs": [
    {
     "data": {
      "text/plain": [
       "<AxesSubplot:xlabel='inq_last_6mths'>"
      ]
     },
     "execution_count": 163,
     "metadata": {},
     "output_type": "execute_result"
    },
    {
     "data": {
      "image/png": "[encoded data removed]",
      "text/plain": [
       "<Figure size 864x576 with 1 Axes>"
      ]
     },
     "metadata": {
      "needs_background": "light"
     },
     "output_type": "display_data"
    }
   ],
   "source": [
    "sns.boxplot(loans['inq_last_6mths'])"
   ]
  },
  {
   "cell_type": "code",
   "execution_count": 164,
   "id": "716d48f1",
   "metadata": {},
   "outputs": [
    {
     "name": "stdout",
     "output_type": "stream",
     "text": [
      "Q1 : 0.0\n",
      "Q3 : 1.0\n",
      "IQR : 1.0\n",
      "Low_outliers : -1.5\n",
      "High_outliers : 2.5\n"
     ]
    }
   ],
   "source": [
    "#boxpolt shows that there is a good few outliers, lets detect them\n",
    "Q1 = np.quantile(loans['inq_last_6mths'],0.25)\n",
    "Q3 = np.quantile(loans['inq_last_6mths'],0.75)\n",
    "IQR = Q3 - Q1\n",
    "\n",
    "Low_outliers = Q1-1.5*IQR\n",
    "High_outliers = Q3+1.5*IQR\n",
    "\n",
    "print(\"Q1 :\",Q1)\n",
    "print(\"Q3 :\", Q3)\n",
    "print(\"IQR :\", IQR)\n",
    "print(\"Low_outliers :\", round(Low_outliers,4))\n",
    "print(\"High_outliers :\", round(High_outliers,4))"
   ]
  },
  {
   "cell_type": "code",
   "execution_count": 165,
   "id": "739858ae",
   "metadata": {},
   "outputs": [
    {
     "data": {
      "text/plain": [
       "551"
      ]
     },
     "execution_count": 165,
     "metadata": {},
     "output_type": "execute_result"
    }
   ],
   "source": [
    "\n",
    "len(loans[loans['inq_last_6mths']>3])"
   ]
  },
  {
   "cell_type": "code",
   "execution_count": 166,
   "id": "f823ff36",
   "metadata": {},
   "outputs": [],
   "source": [
    "#Im removing rows with inq greater than 3\n",
    "loans = loans[loans['inq_last_6mths']<=4]"
   ]
  },
  {
   "cell_type": "code",
   "execution_count": 167,
   "id": "59a42aeb",
   "metadata": {},
   "outputs": [
    {
     "data": {
      "text/plain": [
       "(38028, 42)"
      ]
     },
     "execution_count": 167,
     "metadata": {},
     "output_type": "execute_result"
    }
   ],
   "source": [
    "loans.shape"
   ]
  },
  {
   "cell_type": "code",
   "execution_count": 168,
   "id": "57971a05",
   "metadata": {
    "scrolled": true
   },
   "outputs": [
    {
     "data": {
      "text/plain": [
       "<AxesSubplot:xlabel='inq_last_6mths'>"
      ]
     },
     "execution_count": 168,
     "metadata": {},
     "output_type": "execute_result"
    },
    {
     "data": {
      "image/png": "[encoded data removed]",
      "text/plain": [
       "<Figure size 864x576 with 1 Axes>"
      ]
     },
     "metadata": {
      "needs_background": "light"
     },
     "output_type": "display_data"
    }
   ],
   "source": [
    "sns.boxplot(loans['inq_last_6mths'])"
   ]
  },
  {
   "cell_type": "code",
   "execution_count": 169,
   "id": "3e9db63b",
   "metadata": {
    "scrolled": true
   },
   "outputs": [
    {
     "data": {
      "text/html": [
       "<div>\n",
       "<style scoped>\n",
       "    .dataframe tbody tr th:only-of-type {\n",
       "        vertical-align: middle;\n",
       "    }\n",
       "\n",
       "    .dataframe tbody tr th {\n",
       "        vertical-align: top;\n",
       "    }\n",
       "\n",
       "    .dataframe thead th {\n",
       "        text-align: right;\n",
       "    }\n",
       "</style>\n",
       "<table border=\"1\" class=\"dataframe\">\n",
       "  <thead>\n",
       "    <tr style=\"text-align: right;\">\n",
       "      <th></th>\n",
       "      <th>count</th>\n",
       "      <th>mean</th>\n",
       "      <th>std</th>\n",
       "      <th>min</th>\n",
       "      <th>25%</th>\n",
       "      <th>50%</th>\n",
       "      <th>75%</th>\n",
       "      <th>max</th>\n",
       "    </tr>\n",
       "    <tr>\n",
       "      <th>loan_status</th>\n",
       "      <th></th>\n",
       "      <th></th>\n",
       "      <th></th>\n",
       "      <th></th>\n",
       "      <th></th>\n",
       "      <th></th>\n",
       "      <th></th>\n",
       "      <th></th>\n",
       "    </tr>\n",
       "  </thead>\n",
       "  <tbody>\n",
       "    <tr>\n",
       "      <th>0</th>\n",
       "      <td>32534.0</td>\n",
       "      <td>0.805649</td>\n",
       "      <td>0.982779</td>\n",
       "      <td>0.0</td>\n",
       "      <td>0.0</td>\n",
       "      <td>0.0</td>\n",
       "      <td>1.0</td>\n",
       "      <td>4.0</td>\n",
       "    </tr>\n",
       "    <tr>\n",
       "      <th>1</th>\n",
       "      <td>5494.0</td>\n",
       "      <td>1.006189</td>\n",
       "      <td>1.050499</td>\n",
       "      <td>0.0</td>\n",
       "      <td>0.0</td>\n",
       "      <td>1.0</td>\n",
       "      <td>2.0</td>\n",
       "      <td>4.0</td>\n",
       "    </tr>\n",
       "  </tbody>\n",
       "</table>\n",
       "</div>"
      ],
      "text/plain": [
       "               count      mean       std  min  25%  50%  75%  max\n",
       "loan_status                                                      \n",
       "0            32534.0  0.805649  0.982779  0.0  0.0  0.0  1.0  4.0\n",
       "1             5494.0  1.006189  1.050499  0.0  0.0  1.0  2.0  4.0"
      ]
     },
     "execution_count": 169,
     "metadata": {},
     "output_type": "execute_result"
    }
   ],
   "source": [
    "loans.groupby('loan_status')['inq_last_6mths'].describe()"
   ]
  },
  {
   "cell_type": "code",
   "execution_count": null,
   "id": "f62031c3",
   "metadata": {},
   "outputs": [],
   "source": []
  },
  {
   "cell_type": "markdown",
   "id": "de64cdc3",
   "metadata": {},
   "source": [
    "People who defaulted on loans inquired about credit more often than the other group"
   ]
  },
  {
   "cell_type": "markdown",
   "id": "ce8cbaa4",
   "metadata": {},
   "source": [
    "### 'open_acc'\n",
    "The number of open credit lines in the borrower's credit file."
   ]
  },
  {
   "cell_type": "code",
   "execution_count": 170,
   "id": "5546a339",
   "metadata": {},
   "outputs": [
    {
     "name": "stdout",
     "output_type": "stream",
     "text": [
      "[ 3.  2. 10.  9.  7.  4. 11. 14. 12. 20.  8.  6. 15. 17.  5. 13. 16. 30.\n",
      " 21. 18. 19. 27. 23. 34. 25. 22. 24. 26. 32. 28. 29. 33. 31. 39. 36. 38.\n",
      " 35. 44. 41. 42.]\n",
      "0\n"
     ]
    }
   ],
   "source": [
    "print(loans['open_acc'].unique())\n",
    "print(loans['open_acc'].isnull().sum())"
   ]
  },
  {
   "cell_type": "code",
   "execution_count": 171,
   "id": "c742b0a4",
   "metadata": {
    "scrolled": true
   },
   "outputs": [
    {
     "data": {
      "text/plain": [
       "<AxesSubplot:xlabel='open_acc'>"
      ]
     },
     "execution_count": 171,
     "metadata": {},
     "output_type": "execute_result"
    },
    {
     "data": {
      "image/png": "[encoded data removed]",
      "text/plain": [
       "<Figure size 864x576 with 1 Axes>"
      ]
     },
     "metadata": {
      "needs_background": "light"
     },
     "output_type": "display_data"
    }
   ],
   "source": [
    "#checking the distribution\n",
    "pd.crosstab(loans['open_acc'], loans['loan_status']).plot(kind='bar')"
   ]
  },
  {
   "cell_type": "code",
   "execution_count": 172,
   "id": "b705823c",
   "metadata": {
    "scrolled": true
   },
   "outputs": [
    {
     "data": {
      "text/plain": [
       "<AxesSubplot:xlabel='open_acc'>"
      ]
     },
     "execution_count": 172,
     "metadata": {},
     "output_type": "execute_result"
    },
    {
     "data": {
      "image/png": "[encoded data removed]",
      "text/plain": [
       "<Figure size 864x576 with 1 Axes>"
      ]
     },
     "metadata": {
      "needs_background": "light"
     },
     "output_type": "display_data"
    }
   ],
   "source": [
    "sns.boxplot(loans['open_acc'])"
   ]
  },
  {
   "cell_type": "code",
   "execution_count": 173,
   "id": "1b1dbd12",
   "metadata": {
    "scrolled": true
   },
   "outputs": [
    {
     "name": "stdout",
     "output_type": "stream",
     "text": [
      "Q1 : 6.0\n",
      "Q3 : 12.0\n",
      "IQR : 6.0\n",
      "Low_outliers : -3.0\n",
      "High_outliers : 21.0\n"
     ]
    }
   ],
   "source": [
    "#boxpolt shows that there is a good few outliers, lets detect them\n",
    "Q1 = np.quantile(loans['open_acc'],0.25)\n",
    "Q3 = np.quantile(loans['open_acc'],0.75)\n",
    "IQR = Q3 - Q1\n",
    "\n",
    "Low_outliers = Q1-1.5*IQR\n",
    "High_outliers = Q3+1.5*IQR\n",
    "\n",
    "print(\"Q1 :\",Q1)\n",
    "print(\"Q3 :\", Q3)\n",
    "print(\"IQR :\", IQR)\n",
    "print(\"Low_outliers :\", round(Low_outliers,4))\n",
    "print(\"High_outliers :\", round(High_outliers,4))"
   ]
  },
  {
   "cell_type": "code",
   "execution_count": 174,
   "id": "5b783564",
   "metadata": {},
   "outputs": [
    {
     "data": {
      "text/plain": [
       "471"
      ]
     },
     "execution_count": 174,
     "metadata": {},
     "output_type": "execute_result"
    }
   ],
   "source": [
    "len(loans[loans['open_acc']>21])"
   ]
  },
  {
   "cell_type": "code",
   "execution_count": 175,
   "id": "b6572ee0",
   "metadata": {},
   "outputs": [],
   "source": [
    "#removing rows with 21 or more acc opened\n",
    "loans = loans[loans['open_acc']<=21]"
   ]
  },
  {
   "cell_type": "code",
   "execution_count": 176,
   "id": "9ce3c619",
   "metadata": {},
   "outputs": [
    {
     "data": {
      "text/plain": [
       "<AxesSubplot:xlabel='open_acc'>"
      ]
     },
     "execution_count": 176,
     "metadata": {},
     "output_type": "execute_result"
    },
    {
     "data": {
      "image/png": "[encoded data removed]",
      "text/plain": [
       "<Figure size 864x576 with 1 Axes>"
      ]
     },
     "metadata": {
      "needs_background": "light"
     },
     "output_type": "display_data"
    }
   ],
   "source": [
    "sns.boxplot(loans['open_acc'])"
   ]
  },
  {
   "cell_type": "code",
   "execution_count": 177,
   "id": "2188368d",
   "metadata": {},
   "outputs": [
    {
     "data": {
      "text/html": [
       "<div>\n",
       "<style scoped>\n",
       "    .dataframe tbody tr th:only-of-type {\n",
       "        vertical-align: middle;\n",
       "    }\n",
       "\n",
       "    .dataframe tbody tr th {\n",
       "        vertical-align: top;\n",
       "    }\n",
       "\n",
       "    .dataframe thead th {\n",
       "        text-align: right;\n",
       "    }\n",
       "</style>\n",
       "<table border=\"1\" class=\"dataframe\">\n",
       "  <thead>\n",
       "    <tr style=\"text-align: right;\">\n",
       "      <th></th>\n",
       "      <th>count</th>\n",
       "      <th>mean</th>\n",
       "      <th>std</th>\n",
       "      <th>min</th>\n",
       "      <th>25%</th>\n",
       "      <th>50%</th>\n",
       "      <th>75%</th>\n",
       "      <th>max</th>\n",
       "    </tr>\n",
       "    <tr>\n",
       "      <th>loan_status</th>\n",
       "      <th></th>\n",
       "      <th></th>\n",
       "      <th></th>\n",
       "      <th></th>\n",
       "      <th></th>\n",
       "      <th></th>\n",
       "      <th></th>\n",
       "      <th></th>\n",
       "    </tr>\n",
       "  </thead>\n",
       "  <tbody>\n",
       "    <tr>\n",
       "      <th>0</th>\n",
       "      <td>32138.0</td>\n",
       "      <td>9.052212</td>\n",
       "      <td>4.010598</td>\n",
       "      <td>2.0</td>\n",
       "      <td>6.0</td>\n",
       "      <td>8.0</td>\n",
       "      <td>12.0</td>\n",
       "      <td>21.0</td>\n",
       "    </tr>\n",
       "    <tr>\n",
       "      <th>1</th>\n",
       "      <td>5419.0</td>\n",
       "      <td>8.909946</td>\n",
       "      <td>4.080766</td>\n",
       "      <td>2.0</td>\n",
       "      <td>6.0</td>\n",
       "      <td>8.0</td>\n",
       "      <td>11.0</td>\n",
       "      <td>21.0</td>\n",
       "    </tr>\n",
       "  </tbody>\n",
       "</table>\n",
       "</div>"
      ],
      "text/plain": [
       "               count      mean       std  min  25%  50%   75%   max\n",
       "loan_status                                                        \n",
       "0            32138.0  9.052212  4.010598  2.0  6.0  8.0  12.0  21.0\n",
       "1             5419.0  8.909946  4.080766  2.0  6.0  8.0  11.0  21.0"
      ]
     },
     "execution_count": 177,
     "metadata": {},
     "output_type": "execute_result"
    }
   ],
   "source": [
    "loans.groupby('loan_status')['open_acc'].describe()\n"
   ]
  },
  {
   "cell_type": "markdown",
   "id": "7d705547",
   "metadata": {},
   "source": [
    "There is no much difference between two groups in relation to open credit lines. But decided to keep it."
   ]
  },
  {
   "cell_type": "markdown",
   "id": "5a11ccba",
   "metadata": {},
   "source": [
    "### 'pub_rec'\n",
    "Number of derogatory public records."
   ]
  },
  {
   "cell_type": "code",
   "execution_count": 178,
   "id": "1be579b9",
   "metadata": {},
   "outputs": [
    {
     "name": "stdout",
     "output_type": "stream",
     "text": [
      "[0. 1. 2. 3. 4.]\n",
      "0\n"
     ]
    }
   ],
   "source": [
    "print(loans['pub_rec'].unique())\n",
    "print(loans['pub_rec'].isnull().sum())"
   ]
  },
  {
   "cell_type": "code",
   "execution_count": 179,
   "id": "4c10a962",
   "metadata": {},
   "outputs": [
    {
     "data": {
      "text/plain": [
       "count    37557.000000\n",
       "mean         0.056394\n",
       "std          0.239630\n",
       "min          0.000000\n",
       "25%          0.000000\n",
       "50%          0.000000\n",
       "75%          0.000000\n",
       "max          4.000000\n",
       "Name: pub_rec, dtype: float64"
      ]
     },
     "execution_count": 179,
     "metadata": {},
     "output_type": "execute_result"
    }
   ],
   "source": [
    "loans['pub_rec'].describe()"
   ]
  },
  {
   "cell_type": "code",
   "execution_count": 180,
   "id": "a0ea369a",
   "metadata": {
    "scrolled": true
   },
   "outputs": [
    {
     "data": {
      "text/plain": [
       "<AxesSubplot:xlabel='pub_rec'>"
      ]
     },
     "execution_count": 180,
     "metadata": {},
     "output_type": "execute_result"
    },
    {
     "data": {
      "image/png": "[encoded data removed]",
      "text/plain": [
       "<Figure size 864x576 with 1 Axes>"
      ]
     },
     "metadata": {
      "needs_background": "light"
     },
     "output_type": "display_data"
    }
   ],
   "source": [
    "pd.crosstab(loans['pub_rec'], loans['loan_status']).plot(kind='bar')"
   ]
  },
  {
   "cell_type": "code",
   "execution_count": 181,
   "id": "042f4328",
   "metadata": {},
   "outputs": [
    {
     "data": {
      "text/plain": [
       "<AxesSubplot:xlabel='pub_rec'>"
      ]
     },
     "execution_count": 181,
     "metadata": {},
     "output_type": "execute_result"
    },
    {
     "data": {
      "image/png": "[encoded data removed]",
      "text/plain": [
       "<Figure size 864x576 with 1 Axes>"
      ]
     },
     "metadata": {
      "needs_background": "light"
     },
     "output_type": "display_data"
    }
   ],
   "source": [
    "sns.boxenplot(loans['pub_rec'])"
   ]
  },
  {
   "cell_type": "code",
   "execution_count": 182,
   "id": "485f3ed0",
   "metadata": {},
   "outputs": [
    {
     "data": {
      "text/plain": [
       "9"
      ]
     },
     "execution_count": 182,
     "metadata": {},
     "output_type": "execute_result"
    }
   ],
   "source": [
    "# I'm going to drop ouliers,all rows where customers have 'pub_rec' greater than 2\n",
    "# but first I'm going to check how many customer has 'pub_rec' greater than 2\n",
    "\n",
    "len(loans[loans['pub_rec']>2])\n"
   ]
  },
  {
   "cell_type": "code",
   "execution_count": 183,
   "id": "6b13effd",
   "metadata": {},
   "outputs": [],
   "source": [
    "loans = loans[loans['pub_rec'] < 3]"
   ]
  },
  {
   "cell_type": "code",
   "execution_count": 184,
   "id": "610d549b",
   "metadata": {},
   "outputs": [
    {
     "data": {
      "text/html": [
       "<div>\n",
       "<style scoped>\n",
       "    .dataframe tbody tr th:only-of-type {\n",
       "        vertical-align: middle;\n",
       "    }\n",
       "\n",
       "    .dataframe tbody tr th {\n",
       "        vertical-align: top;\n",
       "    }\n",
       "\n",
       "    .dataframe thead th {\n",
       "        text-align: right;\n",
       "    }\n",
       "</style>\n",
       "<table border=\"1\" class=\"dataframe\">\n",
       "  <thead>\n",
       "    <tr style=\"text-align: right;\">\n",
       "      <th></th>\n",
       "      <th>count</th>\n",
       "      <th>mean</th>\n",
       "      <th>std</th>\n",
       "      <th>min</th>\n",
       "      <th>25%</th>\n",
       "      <th>50%</th>\n",
       "      <th>75%</th>\n",
       "      <th>max</th>\n",
       "    </tr>\n",
       "    <tr>\n",
       "      <th>loan_status</th>\n",
       "      <th></th>\n",
       "      <th></th>\n",
       "      <th></th>\n",
       "      <th></th>\n",
       "      <th></th>\n",
       "      <th></th>\n",
       "      <th></th>\n",
       "      <th></th>\n",
       "    </tr>\n",
       "  </thead>\n",
       "  <tbody>\n",
       "    <tr>\n",
       "      <th>0</th>\n",
       "      <td>32129.0</td>\n",
       "      <td>0.050484</td>\n",
       "      <td>0.224004</td>\n",
       "      <td>0.0</td>\n",
       "      <td>0.0</td>\n",
       "      <td>0.0</td>\n",
       "      <td>0.0</td>\n",
       "      <td>2.0</td>\n",
       "    </tr>\n",
       "    <tr>\n",
       "      <th>1</th>\n",
       "      <td>5419.0</td>\n",
       "      <td>0.086178</td>\n",
       "      <td>0.287154</td>\n",
       "      <td>0.0</td>\n",
       "      <td>0.0</td>\n",
       "      <td>0.0</td>\n",
       "      <td>0.0</td>\n",
       "      <td>2.0</td>\n",
       "    </tr>\n",
       "  </tbody>\n",
       "</table>\n",
       "</div>"
      ],
      "text/plain": [
       "               count      mean       std  min  25%  50%  75%  max\n",
       "loan_status                                                      \n",
       "0            32129.0  0.050484  0.224004  0.0  0.0  0.0  0.0  2.0\n",
       "1             5419.0  0.086178  0.287154  0.0  0.0  0.0  0.0  2.0"
      ]
     },
     "execution_count": 184,
     "metadata": {},
     "output_type": "execute_result"
    }
   ],
   "source": [
    "loans.groupby('loan_status')['pub_rec'].describe()"
   ]
  },
  {
   "cell_type": "markdown",
   "id": "35b31aa0",
   "metadata": {},
   "source": [
    "The mean of 'pub_rec' is greater for customers with category 0 "
   ]
  },
  {
   "cell_type": "markdown",
   "id": "fa4e36ca",
   "metadata": {},
   "source": [
    "### 'total_acc'\n",
    "The total number of credit lines currently in the borrower's credit file."
   ]
  },
  {
   "cell_type": "code",
   "execution_count": 185,
   "id": "46d5411d",
   "metadata": {},
   "outputs": [
    {
     "name": "stdout",
     "output_type": "stream",
     "text": [
      "[ 9. 10. 37. 12. 11.  4. 13.  3. 23. 34. 29. 28. 42. 14. 22. 38. 21. 17.\n",
      "  7. 31. 44. 26. 16.  6. 18. 27. 25. 40. 35. 24.  8. 20. 15. 19. 36. 51.\n",
      " 32. 30. 33. 46.  5. 61. 50. 41. 62. 43. 47. 53. 56. 45. 60. 55. 39. 54.\n",
      " 57. 49. 48. 52. 59. 63. 58. 87. 64. 67. 66. 79. 90. 69. 73. 70. 68.  2.]\n",
      "0\n"
     ]
    }
   ],
   "source": [
    "print(loans['total_acc'].unique())\n",
    "print(loans['total_acc'].isnull().sum())"
   ]
  },
  {
   "cell_type": "code",
   "execution_count": 186,
   "id": "b9f88f41",
   "metadata": {},
   "outputs": [
    {
     "data": {
      "image/png": "[encoded data removed]",
      "text/plain": [
       "<Figure size 1728x288 with 1 Axes>"
      ]
     },
     "metadata": {
      "needs_background": "light"
     },
     "output_type": "display_data"
    }
   ],
   "source": [
    "#checking the distribution of cust.\n",
    "\n",
    "plt.figure(figsize=(24,4))\n",
    "plt.xticks(rotation=90)\n",
    "sns.countplot(data=loans, x='total_acc', palette='husl');\n"
   ]
  },
  {
   "cell_type": "code",
   "execution_count": 187,
   "id": "b8ea6f8f",
   "metadata": {
    "scrolled": true
   },
   "outputs": [
    {
     "data": {
      "text/plain": [
       "<AxesSubplot:xlabel='total_acc'>"
      ]
     },
     "execution_count": 187,
     "metadata": {},
     "output_type": "execute_result"
    },
    {
     "data": {
      "image/png": "[encoded data removed]",
      "text/plain": [
       "<Figure size 864x576 with 1 Axes>"
      ]
     },
     "metadata": {
      "needs_background": "light"
     },
     "output_type": "display_data"
    }
   ],
   "source": [
    "sns.boxplot(loans['total_acc'])"
   ]
  },
  {
   "cell_type": "code",
   "execution_count": 188,
   "id": "5c696bc8",
   "metadata": {},
   "outputs": [
    {
     "name": "stdout",
     "output_type": "stream",
     "text": [
      "Q1 : 13.0\n",
      "Q3 : 28.0\n",
      "IQR : 15.0\n",
      "Low_outliers : -9.5\n",
      "High_outliers : 50.5\n"
     ]
    }
   ],
   "source": [
    "#boxpolt shows that there is a good few outliers, lets detect them\n",
    "Q1 = np.quantile(loans['total_acc'],0.25)\n",
    "Q3 = np.quantile(loans['total_acc'],0.75)\n",
    "IQR = Q3 - Q1\n",
    "\n",
    "Low_outliers = Q1-1.5*IQR\n",
    "High_outliers = Q3+1.5*IQR\n",
    "\n",
    "print('Q1 :',Q1)\n",
    "print('Q3 :', Q3)\n",
    "print('IQR :', IQR)\n",
    "print('Low_outliers :', round(Low_outliers,4))\n",
    "print('High_outliers :', round(High_outliers,4))"
   ]
  },
  {
   "cell_type": "code",
   "execution_count": 189,
   "id": "0dc0afe3",
   "metadata": {},
   "outputs": [
    {
     "data": {
      "text/plain": [
       "483"
      ]
     },
     "execution_count": 189,
     "metadata": {},
     "output_type": "execute_result"
    }
   ],
   "source": [
    "# I have checked \n",
    "#but thats going to be a big chunk of my data, I will remove rows with anything >51\n",
    "len(loans[loans['total_acc'] > 51])"
   ]
  },
  {
   "cell_type": "code",
   "execution_count": 190,
   "id": "b319b4ed",
   "metadata": {},
   "outputs": [],
   "source": [
    "loans = loans[loans['total_acc'] <= 52]"
   ]
  },
  {
   "cell_type": "code",
   "execution_count": 191,
   "id": "37576230",
   "metadata": {},
   "outputs": [
    {
     "data": {
      "image/png": "[encoded data removed]",
      "text/plain": [
       "<Figure size 1728x288 with 1 Axes>"
      ]
     },
     "metadata": {
      "needs_background": "light"
     },
     "output_type": "display_data"
    }
   ],
   "source": [
    "plt.figure(figsize=(24,4))\n",
    "plt.xticks(rotation=90)\n",
    "sns.countplot(data=loans, x='total_acc', hue='loan_status', palette='husl');"
   ]
  },
  {
   "cell_type": "code",
   "execution_count": 192,
   "id": "51a54d19",
   "metadata": {},
   "outputs": [
    {
     "data": {
      "text/html": [
       "<div>\n",
       "<style scoped>\n",
       "    .dataframe tbody tr th:only-of-type {\n",
       "        vertical-align: middle;\n",
       "    }\n",
       "\n",
       "    .dataframe tbody tr th {\n",
       "        vertical-align: top;\n",
       "    }\n",
       "\n",
       "    .dataframe thead th {\n",
       "        text-align: right;\n",
       "    }\n",
       "</style>\n",
       "<table border=\"1\" class=\"dataframe\">\n",
       "  <thead>\n",
       "    <tr style=\"text-align: right;\">\n",
       "      <th></th>\n",
       "      <th>count</th>\n",
       "      <th>mean</th>\n",
       "      <th>std</th>\n",
       "      <th>min</th>\n",
       "      <th>25%</th>\n",
       "      <th>50%</th>\n",
       "      <th>75%</th>\n",
       "      <th>max</th>\n",
       "    </tr>\n",
       "    <tr>\n",
       "      <th>loan_status</th>\n",
       "      <th></th>\n",
       "      <th></th>\n",
       "      <th></th>\n",
       "      <th></th>\n",
       "      <th></th>\n",
       "      <th></th>\n",
       "      <th></th>\n",
       "      <th></th>\n",
       "    </tr>\n",
       "  </thead>\n",
       "  <tbody>\n",
       "    <tr>\n",
       "      <th>0</th>\n",
       "      <td>31775.0</td>\n",
       "      <td>21.227758</td>\n",
       "      <td>10.298593</td>\n",
       "      <td>2.0</td>\n",
       "      <td>13.0</td>\n",
       "      <td>20.0</td>\n",
       "      <td>28.0</td>\n",
       "      <td>52.0</td>\n",
       "    </tr>\n",
       "    <tr>\n",
       "      <th>1</th>\n",
       "      <td>5365.0</td>\n",
       "      <td>20.543709</td>\n",
       "      <td>10.386500</td>\n",
       "      <td>2.0</td>\n",
       "      <td>12.0</td>\n",
       "      <td>19.0</td>\n",
       "      <td>28.0</td>\n",
       "      <td>52.0</td>\n",
       "    </tr>\n",
       "  </tbody>\n",
       "</table>\n",
       "</div>"
      ],
      "text/plain": [
       "               count       mean        std  min   25%   50%   75%   max\n",
       "loan_status                                                            \n",
       "0            31775.0  21.227758  10.298593  2.0  13.0  20.0  28.0  52.0\n",
       "1             5365.0  20.543709  10.386500  2.0  12.0  19.0  28.0  52.0"
      ]
     },
     "execution_count": 192,
     "metadata": {},
     "output_type": "execute_result"
    }
   ],
   "source": [
    "loans.groupby('loan_status')['total_acc'].describe()"
   ]
  },
  {
   "cell_type": "markdown",
   "id": "94c426c1",
   "metadata": {},
   "source": [
    "We can see that there is a diff in the mean between the both categories."
   ]
  },
  {
   "cell_type": "markdown",
   "id": "96bef853",
   "metadata": {},
   "source": [
    "### 'pub_rec_bankruptcies'\n",
    "Number of public record bankruptcies."
   ]
  },
  {
   "cell_type": "code",
   "execution_count": 193,
   "id": "a804b2b0",
   "metadata": {
    "scrolled": true
   },
   "outputs": [
    {
     "name": "stdout",
     "output_type": "stream",
     "text": [
      "[ 0.  1.  2. nan]\n",
      "643\n"
     ]
    }
   ],
   "source": [
    "print(loans['pub_rec_bankruptcies'].unique())\n",
    "print(loans['pub_rec_bankruptcies'].isnull().sum())"
   ]
  },
  {
   "cell_type": "code",
   "execution_count": 194,
   "id": "bf397a73",
   "metadata": {
    "scrolled": true
   },
   "outputs": [
    {
     "data": {
      "text/plain": [
       "0.0    34867\n",
       "1.0     1625\n",
       "2.0        5\n",
       "Name: pub_rec_bankruptcies, dtype: int64"
      ]
     },
     "execution_count": 194,
     "metadata": {},
     "output_type": "execute_result"
    }
   ],
   "source": [
    "loans['pub_rec_bankruptcies'].value_counts()"
   ]
  },
  {
   "cell_type": "code",
   "execution_count": 195,
   "id": "5102da5a",
   "metadata": {},
   "outputs": [
    {
     "data": {
      "text/plain": [
       "pub_rec           0.868252\n",
       "fico_range_avg    0.131232\n",
       "grade:A           0.090083\n",
       "emp_length        0.062884\n",
       "Name: pub_rec_bankruptcies, dtype: float64"
      ]
     },
     "execution_count": 195,
     "metadata": {},
     "output_type": "execute_result"
    }
   ],
   "source": [
    "#checking correlation of the column with other, I will check only the highest 5.\n",
    "abs(loans.corr()['pub_rec_bankruptcies']).sort_values(ascending=False)[1:5]"
   ]
  },
  {
   "cell_type": "code",
   "execution_count": 196,
   "id": "8cef9c18",
   "metadata": {},
   "outputs": [],
   "source": [
    "#Like I thought 'pub_rec_bankruptcies' is highly correlated with pub_rec so I'm going to dropit\n",
    "loans = loans.drop(['pub_rec_bankruptcies'], axis=1)"
   ]
  },
  {
   "cell_type": "markdown",
   "id": "dcec320c",
   "metadata": {},
   "source": [
    "*Finaly all features are done, I will make sure there is no missing values and store the clean data in new CSV. I can start scaling my data*"
   ]
  },
  {
   "cell_type": "code",
   "execution_count": 203,
   "id": "affa17d6",
   "metadata": {},
   "outputs": [
    {
     "data": {
      "text/plain": [
       "loan_amnt                              0\n",
       "term                                   0\n",
       "emp_length                             0\n",
       "annual_inc                             0\n",
       "loan_status                            0\n",
       "dti                                    0\n",
       "inq_last_6mths                         0\n",
       "open_acc                               0\n",
       "pub_rec                                0\n",
       "revol_util                             0\n",
       "total_acc                              0\n",
       "fico_range_avg                         0\n",
       "grade:A                                0\n",
       "grade:B                                0\n",
       "grade:C                                0\n",
       "grade:D                                0\n",
       "grade:E                                0\n",
       "grade:F                                0\n",
       "grade:G                                0\n",
       "home_ownership:MORTGAGE                0\n",
       "home_ownership:OWN                     0\n",
       "home_ownership:RENT                    0\n",
       "verification_status:Not Verified       0\n",
       "verification_status:Source Verified    0\n",
       "verification_status:Verified           0\n",
       "purpose:car                            0\n",
       "purpose:credit_card                    0\n",
       "purpose:debt_consolidation             0\n",
       "purpose:educational                    0\n",
       "purpose:home_improvement               0\n",
       "purpose:house                          0\n",
       "purpose:major_purchase                 0\n",
       "purpose:medical                        0\n",
       "purpose:moving                         0\n",
       "purpose:other                          0\n",
       "purpose:renewable_energy               0\n",
       "purpose:small_business                 0\n",
       "purpose:vacation                       0\n",
       "purpose:wedding                        0\n",
       "dtype: int64"
      ]
     },
     "execution_count": 203,
     "metadata": {},
     "output_type": "execute_result"
    }
   ],
   "source": [
    "#checking if my DF has any missing values\n",
    "loans.isnull().sum()"
   ]
  },
  {
   "cell_type": "code",
   "execution_count": 204,
   "id": "2311c958",
   "metadata": {
    "scrolled": true
   },
   "outputs": [
    {
     "data": {
      "text/plain": [
       "uint8      27\n",
       "float64    10\n",
       "int64       2\n",
       "dtype: int64"
      ]
     },
     "execution_count": 204,
     "metadata": {},
     "output_type": "execute_result"
    }
   ],
   "source": [
    "loans.dtypes.value_counts()"
   ]
  },
  {
   "cell_type": "code",
   "execution_count": 266,
   "id": "af938117",
   "metadata": {
    "scrolled": false
   },
   "outputs": [
    {
     "data": {
      "image/png": "[encoded data removed]",
      "text/plain": [
       "<Figure size 1440x1440 with 2 Axes>"
      ]
     },
     "metadata": {
      "needs_background": "light"
     },
     "output_type": "display_data"
    }
   ],
   "source": [
    "#checking correlation of features\n",
    "plt.figure(figsize=(20,20))\n",
    "sns.heatmap(loans.corr())\n",
    "plt.show()"
   ]
  },
  {
   "cell_type": "code",
   "execution_count": 209,
   "id": "07cdcd9b",
   "metadata": {},
   "outputs": [],
   "source": [
    "loans.to_csv('clean_loans.csv', index=False)"
   ]
  },
  {
   "cell_type": "markdown",
   "id": "83cda8e1",
   "metadata": {},
   "source": [
    "### Scaling my data and doing Test Train split"
   ]
  },
  {
   "cell_type": "code",
   "execution_count": 210,
   "id": "233a5f91",
   "metadata": {},
   "outputs": [],
   "source": [
    "# reading the data\n",
    "clean_loans_backup = pd.read_csv('clean_loans.csv')"
   ]
  },
  {
   "cell_type": "code",
   "execution_count": 211,
   "id": "9271b6c8",
   "metadata": {},
   "outputs": [],
   "source": [
    "clean_loans = clean_loans_backup"
   ]
  },
  {
   "cell_type": "code",
   "execution_count": 212,
   "id": "f88f2a0d",
   "metadata": {},
   "outputs": [
    {
     "data": {
      "text/html": [
       "<div>\n",
       "<style scoped>\n",
       "    .dataframe tbody tr th:only-of-type {\n",
       "        vertical-align: middle;\n",
       "    }\n",
       "\n",
       "    .dataframe tbody tr th {\n",
       "        vertical-align: top;\n",
       "    }\n",
       "\n",
       "    .dataframe thead th {\n",
       "        text-align: right;\n",
       "    }\n",
       "</style>\n",
       "<table border=\"1\" class=\"dataframe\">\n",
       "  <thead>\n",
       "    <tr style=\"text-align: right;\">\n",
       "      <th></th>\n",
       "      <th>loan_amnt</th>\n",
       "      <th>term</th>\n",
       "      <th>emp_length</th>\n",
       "      <th>annual_inc</th>\n",
       "      <th>loan_status</th>\n",
       "      <th>dti</th>\n",
       "      <th>inq_last_6mths</th>\n",
       "      <th>open_acc</th>\n",
       "      <th>pub_rec</th>\n",
       "      <th>revol_util</th>\n",
       "      <th>total_acc</th>\n",
       "      <th>fico_range_avg</th>\n",
       "      <th>grade:A</th>\n",
       "      <th>grade:B</th>\n",
       "      <th>grade:C</th>\n",
       "      <th>grade:D</th>\n",
       "      <th>grade:E</th>\n",
       "      <th>grade:F</th>\n",
       "      <th>grade:G</th>\n",
       "      <th>home_ownership:MORTGAGE</th>\n",
       "      <th>home_ownership:OWN</th>\n",
       "      <th>home_ownership:RENT</th>\n",
       "      <th>verification_status:Not Verified</th>\n",
       "      <th>verification_status:Source Verified</th>\n",
       "      <th>verification_status:Verified</th>\n",
       "      <th>purpose:car</th>\n",
       "      <th>purpose:credit_card</th>\n",
       "      <th>purpose:debt_consolidation</th>\n",
       "      <th>purpose:educational</th>\n",
       "      <th>purpose:home_improvement</th>\n",
       "      <th>purpose:house</th>\n",
       "      <th>purpose:major_purchase</th>\n",
       "      <th>purpose:medical</th>\n",
       "      <th>purpose:moving</th>\n",
       "      <th>purpose:other</th>\n",
       "      <th>purpose:renewable_energy</th>\n",
       "      <th>purpose:small_business</th>\n",
       "      <th>purpose:vacation</th>\n",
       "      <th>purpose:wedding</th>\n",
       "    </tr>\n",
       "  </thead>\n",
       "  <tbody>\n",
       "    <tr>\n",
       "      <th>0</th>\n",
       "      <td>5000.0</td>\n",
       "      <td>36</td>\n",
       "      <td>10.0</td>\n",
       "      <td>24000.0</td>\n",
       "      <td>0</td>\n",
       "      <td>27.65</td>\n",
       "      <td>1.0</td>\n",
       "      <td>3.0</td>\n",
       "      <td>0.0</td>\n",
       "      <td>83.7</td>\n",
       "      <td>9.0</td>\n",
       "      <td>737.0</td>\n",
       "      <td>0</td>\n",
       "      <td>1</td>\n",
       "      <td>0</td>\n",
       "      <td>0</td>\n",
       "      <td>0</td>\n",
       "      <td>0</td>\n",
       "      <td>0</td>\n",
       "      <td>0</td>\n",
       "      <td>0</td>\n",
       "      <td>1</td>\n",
       "      <td>0</td>\n",
       "      <td>0</td>\n",
       "      <td>1</td>\n",
       "      <td>0</td>\n",
       "      <td>1</td>\n",
       "      <td>0</td>\n",
       "      <td>0</td>\n",
       "      <td>0</td>\n",
       "      <td>0</td>\n",
       "      <td>0</td>\n",
       "      <td>0</td>\n",
       "      <td>0</td>\n",
       "      <td>0</td>\n",
       "      <td>0</td>\n",
       "      <td>0</td>\n",
       "      <td>0</td>\n",
       "      <td>0</td>\n",
       "    </tr>\n",
       "    <tr>\n",
       "      <th>1</th>\n",
       "      <td>2400.0</td>\n",
       "      <td>36</td>\n",
       "      <td>10.0</td>\n",
       "      <td>12252.0</td>\n",
       "      <td>0</td>\n",
       "      <td>8.72</td>\n",
       "      <td>2.0</td>\n",
       "      <td>2.0</td>\n",
       "      <td>0.0</td>\n",
       "      <td>98.5</td>\n",
       "      <td>10.0</td>\n",
       "      <td>737.0</td>\n",
       "      <td>0</td>\n",
       "      <td>0</td>\n",
       "      <td>1</td>\n",
       "      <td>0</td>\n",
       "      <td>0</td>\n",
       "      <td>0</td>\n",
       "      <td>0</td>\n",
       "      <td>0</td>\n",
       "      <td>0</td>\n",
       "      <td>1</td>\n",
       "      <td>1</td>\n",
       "      <td>0</td>\n",
       "      <td>0</td>\n",
       "      <td>0</td>\n",
       "      <td>0</td>\n",
       "      <td>0</td>\n",
       "      <td>0</td>\n",
       "      <td>0</td>\n",
       "      <td>0</td>\n",
       "      <td>0</td>\n",
       "      <td>0</td>\n",
       "      <td>0</td>\n",
       "      <td>0</td>\n",
       "      <td>0</td>\n",
       "      <td>1</td>\n",
       "      <td>0</td>\n",
       "      <td>0</td>\n",
       "    </tr>\n",
       "    <tr>\n",
       "      <th>2</th>\n",
       "      <td>10000.0</td>\n",
       "      <td>36</td>\n",
       "      <td>10.0</td>\n",
       "      <td>49200.0</td>\n",
       "      <td>0</td>\n",
       "      <td>20.00</td>\n",
       "      <td>1.0</td>\n",
       "      <td>10.0</td>\n",
       "      <td>0.0</td>\n",
       "      <td>21.0</td>\n",
       "      <td>37.0</td>\n",
       "      <td>692.0</td>\n",
       "      <td>0</td>\n",
       "      <td>0</td>\n",
       "      <td>1</td>\n",
       "      <td>0</td>\n",
       "      <td>0</td>\n",
       "      <td>0</td>\n",
       "      <td>0</td>\n",
       "      <td>0</td>\n",
       "      <td>0</td>\n",
       "      <td>1</td>\n",
       "      <td>0</td>\n",
       "      <td>1</td>\n",
       "      <td>0</td>\n",
       "      <td>0</td>\n",
       "      <td>0</td>\n",
       "      <td>0</td>\n",
       "      <td>0</td>\n",
       "      <td>0</td>\n",
       "      <td>0</td>\n",
       "      <td>0</td>\n",
       "      <td>0</td>\n",
       "      <td>0</td>\n",
       "      <td>1</td>\n",
       "      <td>0</td>\n",
       "      <td>0</td>\n",
       "      <td>0</td>\n",
       "      <td>0</td>\n",
       "    </tr>\n",
       "    <tr>\n",
       "      <th>3</th>\n",
       "      <td>5000.0</td>\n",
       "      <td>36</td>\n",
       "      <td>3.0</td>\n",
       "      <td>36000.0</td>\n",
       "      <td>0</td>\n",
       "      <td>11.20</td>\n",
       "      <td>3.0</td>\n",
       "      <td>9.0</td>\n",
       "      <td>0.0</td>\n",
       "      <td>28.3</td>\n",
       "      <td>12.0</td>\n",
       "      <td>732.0</td>\n",
       "      <td>1</td>\n",
       "      <td>0</td>\n",
       "      <td>0</td>\n",
       "      <td>0</td>\n",
       "      <td>0</td>\n",
       "      <td>0</td>\n",
       "      <td>0</td>\n",
       "      <td>0</td>\n",
       "      <td>0</td>\n",
       "      <td>1</td>\n",
       "      <td>0</td>\n",
       "      <td>1</td>\n",
       "      <td>0</td>\n",
       "      <td>0</td>\n",
       "      <td>0</td>\n",
       "      <td>0</td>\n",
       "      <td>0</td>\n",
       "      <td>0</td>\n",
       "      <td>0</td>\n",
       "      <td>0</td>\n",
       "      <td>0</td>\n",
       "      <td>0</td>\n",
       "      <td>0</td>\n",
       "      <td>0</td>\n",
       "      <td>0</td>\n",
       "      <td>0</td>\n",
       "      <td>1</td>\n",
       "    </tr>\n",
       "    <tr>\n",
       "      <th>4</th>\n",
       "      <td>7000.0</td>\n",
       "      <td>60</td>\n",
       "      <td>8.0</td>\n",
       "      <td>47004.0</td>\n",
       "      <td>0</td>\n",
       "      <td>23.51</td>\n",
       "      <td>1.0</td>\n",
       "      <td>7.0</td>\n",
       "      <td>0.0</td>\n",
       "      <td>85.6</td>\n",
       "      <td>11.0</td>\n",
       "      <td>692.0</td>\n",
       "      <td>0</td>\n",
       "      <td>0</td>\n",
       "      <td>1</td>\n",
       "      <td>0</td>\n",
       "      <td>0</td>\n",
       "      <td>0</td>\n",
       "      <td>0</td>\n",
       "      <td>0</td>\n",
       "      <td>0</td>\n",
       "      <td>1</td>\n",
       "      <td>1</td>\n",
       "      <td>0</td>\n",
       "      <td>0</td>\n",
       "      <td>0</td>\n",
       "      <td>0</td>\n",
       "      <td>1</td>\n",
       "      <td>0</td>\n",
       "      <td>0</td>\n",
       "      <td>0</td>\n",
       "      <td>0</td>\n",
       "      <td>0</td>\n",
       "      <td>0</td>\n",
       "      <td>0</td>\n",
       "      <td>0</td>\n",
       "      <td>0</td>\n",
       "      <td>0</td>\n",
       "      <td>0</td>\n",
       "    </tr>\n",
       "  </tbody>\n",
       "</table>\n",
       "</div>"
      ],
      "text/plain": [
       "   loan_amnt  term  emp_length  annual_inc  loan_status    dti  \\\n",
       "0     5000.0    36        10.0     24000.0            0  27.65   \n",
       "1     2400.0    36        10.0     12252.0            0   8.72   \n",
       "2    10000.0    36        10.0     49200.0            0  20.00   \n",
       "3     5000.0    36         3.0     36000.0            0  11.20   \n",
       "4     7000.0    60         8.0     47004.0            0  23.51   \n",
       "\n",
       "   inq_last_6mths  open_acc  pub_rec  revol_util  total_acc  fico_range_avg  \\\n",
       "0             1.0       3.0      0.0        83.7        9.0           737.0   \n",
       "1             2.0       2.0      0.0        98.5       10.0           737.0   \n",
       "2             1.0      10.0      0.0        21.0       37.0           692.0   \n",
       "3             3.0       9.0      0.0        28.3       12.0           732.0   \n",
       "4             1.0       7.0      0.0        85.6       11.0           692.0   \n",
       "\n",
       "   grade:A  grade:B  grade:C  grade:D  grade:E  grade:F  grade:G  \\\n",
       "0        0        1        0        0        0        0        0   \n",
       "1        0        0        1        0        0        0        0   \n",
       "2        0        0        1        0        0        0        0   \n",
       "3        1        0        0        0        0        0        0   \n",
       "4        0        0        1        0        0        0        0   \n",
       "\n",
       "   home_ownership:MORTGAGE  home_ownership:OWN  home_ownership:RENT  \\\n",
       "0                        0                   0                    1   \n",
       "1                        0                   0                    1   \n",
       "2                        0                   0                    1   \n",
       "3                        0                   0                    1   \n",
       "4                        0                   0                    1   \n",
       "\n",
       "   verification_status:Not Verified  verification_status:Source Verified  \\\n",
       "0                                 0                                    0   \n",
       "1                                 1                                    0   \n",
       "2                                 0                                    1   \n",
       "3                                 0                                    1   \n",
       "4                                 1                                    0   \n",
       "\n",
       "   verification_status:Verified  purpose:car  purpose:credit_card  \\\n",
       "0                             1            0                    1   \n",
       "1                             0            0                    0   \n",
       "2                             0            0                    0   \n",
       "3                             0            0                    0   \n",
       "4                             0            0                    0   \n",
       "\n",
       "   purpose:debt_consolidation  purpose:educational  purpose:home_improvement  \\\n",
       "0                           0                    0                         0   \n",
       "1                           0                    0                         0   \n",
       "2                           0                    0                         0   \n",
       "3                           0                    0                         0   \n",
       "4                           1                    0                         0   \n",
       "\n",
       "   purpose:house  purpose:major_purchase  purpose:medical  purpose:moving  \\\n",
       "0              0                       0                0               0   \n",
       "1              0                       0                0               0   \n",
       "2              0                       0                0               0   \n",
       "3              0                       0                0               0   \n",
       "4              0                       0                0               0   \n",
       "\n",
       "   purpose:other  purpose:renewable_energy  purpose:small_business  \\\n",
       "0              0                         0                       0   \n",
       "1              0                         0                       1   \n",
       "2              1                         0                       0   \n",
       "3              0                         0                       0   \n",
       "4              0                         0                       0   \n",
       "\n",
       "   purpose:vacation  purpose:wedding  \n",
       "0                 0                0  \n",
       "1                 0                0  \n",
       "2                 0                0  \n",
       "3                 0                1  \n",
       "4                 0                0  "
      ]
     },
     "execution_count": 212,
     "metadata": {},
     "output_type": "execute_result"
    }
   ],
   "source": [
    "clean_loans.head()"
   ]
  },
  {
   "cell_type": "code",
   "execution_count": 213,
   "id": "0e45e494",
   "metadata": {
    "scrolled": true
   },
   "outputs": [
    {
     "data": {
      "text/plain": [
       "(37140, 39)"
      ]
     },
     "execution_count": 213,
     "metadata": {},
     "output_type": "execute_result"
    }
   ],
   "source": [
    "clean_loans.shape"
   ]
  },
  {
   "cell_type": "code",
   "execution_count": 214,
   "id": "f67c4dd7",
   "metadata": {},
   "outputs": [],
   "source": [
    "X = clean_loans.drop('loan_status', axis=1)"
   ]
  },
  {
   "cell_type": "code",
   "execution_count": 215,
   "id": "920b61bf",
   "metadata": {},
   "outputs": [],
   "source": [
    "y = clean_loans['loan_status']"
   ]
  },
  {
   "cell_type": "code",
   "execution_count": 250,
   "id": "5db156e7",
   "metadata": {},
   "outputs": [],
   "source": [
    "#importing needed libraris and functions\n",
    "\n",
    "from sklearn.model_selection import train_test_split\n",
    "from sklearn.linear_model import LogisticRegression\n",
    "from sklearn.neighbors import KNeighborsClassifier\n",
    "from sklearn.tree import DecisionTreeClassifier\n",
    "from sklearn.ensemble import RandomForestClassifier\n",
    "from sklearn.model_selection import StratifiedKFold, KFold\n",
    "from sklearn.model_selection import cross_val_score, GridSearchCV\n",
    "from sklearn.metrics import confusion_matrix, plot_confusion_matrix, accuracy_score, classification_report, roc_curve, roc_auc_score, precision_recall_curve\n",
    "from sklearn.preprocessing import StandardScaler, RobustScaler, MinMaxScaler\n",
    "from imblearn.over_sampling import RandomOverSampler\n",
    "from imblearn.over_sampling import SMOTE\n",
    "from collections import Counter"
   ]
  },
  {
   "cell_type": "code",
   "execution_count": 217,
   "id": "84dec70b",
   "metadata": {},
   "outputs": [
    {
     "data": {
      "text/plain": [
       "<AxesSubplot:xlabel='loan_status', ylabel='count'>"
      ]
     },
     "execution_count": 217,
     "metadata": {},
     "output_type": "execute_result"
    },
    {
     "data": {
      "image/png": "[encoded data removed]",
      "text/plain": [
       "<Figure size 864x576 with 1 Axes>"
      ]
     },
     "metadata": {
      "needs_background": "light"
     },
     "output_type": "display_data"
    }
   ],
   "source": [
    "sns.countplot(data=clean_loans, x='loan_status', palette='viridis')"
   ]
  },
  {
   "cell_type": "markdown",
   "id": "dfcc50ac",
   "metadata": {},
   "source": [
    "*Test Train split*"
   ]
  },
  {
   "cell_type": "markdown",
   "id": "e1cff6f5",
   "metadata": {},
   "source": [
    "Splitting the data for training and testing"
   ]
  },
  {
   "cell_type": "code",
   "execution_count": 218,
   "id": "8fef5fc4",
   "metadata": {},
   "outputs": [
    {
     "name": "stdout",
     "output_type": "stream",
     "text": [
      "(29712, 38) (29712,)\n",
      "(7428, 38) (7428,)\n"
     ]
    }
   ],
   "source": [
    "#splitting dataset into training and test in ratio 70:30\n",
    "X_train, X_test, y_train, y_test = train_test_split(X, y, test_size=0.2)\n",
    "\n",
    "print(X_train.shape, y_train.shape)\n",
    "print(X_test.shape, y_test.shape)"
   ]
  },
  {
   "cell_type": "code",
   "execution_count": 219,
   "id": "f78bcc2b",
   "metadata": {},
   "outputs": [
    {
     "data": {
      "text/plain": [
       "0.8555"
      ]
     },
     "execution_count": 219,
     "metadata": {},
     "output_type": "execute_result"
    }
   ],
   "source": [
    "#calculating baseline\n",
    "round(y.value_counts(normalize=True).max(),4)"
   ]
  },
  {
   "cell_type": "markdown",
   "id": "ebc87d13",
   "metadata": {},
   "source": [
    "*Feature Scaling*"
   ]
  },
  {
   "cell_type": "markdown",
   "id": "f2d3a36a",
   "metadata": {},
   "source": [
    "Im going to use Robust Scaler (as I had some outliers), which is going to shrink data to median and quantiles hence not greatly influenced by outlieres"
   ]
  },
  {
   "cell_type": "code",
   "execution_count": 220,
   "id": "f98c380e",
   "metadata": {},
   "outputs": [],
   "source": [
    "#Robust\n",
    "robustS = RobustScaler()\n",
    "X_train_robustS = robustS.fit_transform(X_train)\n",
    "X_test_robustS = robustS.transform(X_test)"
   ]
  },
  {
   "cell_type": "code",
   "execution_count": null,
   "id": "731c0e05",
   "metadata": {},
   "outputs": [],
   "source": []
  },
  {
   "cell_type": "code",
   "execution_count": 221,
   "id": "d580d213",
   "metadata": {},
   "outputs": [],
   "source": [
    "#choosing models\n",
    "models = {'KNeighborsClassifier': KNeighborsClassifier(),\n",
    "         'LogisticRegression': LogisticRegression(),\n",
    "         'DecisionTreeClassifier': DecisionTreeClassifier(),\n",
    "         'RandomForestClassifier': RandomForestClassifier()\n",
    "}\n",
    "\n",
    "#computing the training score of each models\n",
    "train_scores =[]\n",
    "test_scores = []\n",
    "for key, model in models.items():\n",
    "    model.fit(X_train, y_train)\n",
    "    train_score = round(model.score(X_train, y_train),4)\n",
    "    train_scores.append(train_score)\n",
    "    test_score = round(model.score(X_test, y_test),4)\n",
    "    test_scores.append(test_score)\n",
    "\n",
    "    "
   ]
  },
  {
   "cell_type": "code",
   "execution_count": 222,
   "id": "b7adf3cb",
   "metadata": {},
   "outputs": [
    {
     "name": "stdout",
     "output_type": "stream",
     "text": [
      "Train scores are as follow: [0.8639, 0.8547, 1.0, 1.0]\n",
      "Test scores are as follow: [0.8366, 0.8589, 0.7613, 0.8562]\n"
     ]
    }
   ],
   "source": [
    "print('Train scores are as follow:', train_scores)\n",
    "print('Test scores are as follow:', test_scores)"
   ]
  },
  {
   "cell_type": "code",
   "execution_count": 235,
   "id": "93fd7558",
   "metadata": {
    "scrolled": false
   },
   "outputs": [
    {
     "name": "stdout",
     "output_type": "stream",
     "text": [
      "KNeighborsClassifier()\n",
      "The train CV score: 0.8375\n",
      "The test CV score: 0.8425\n",
      "---------------\n",
      "LogisticRegression()\n",
      "The train CV score: 0.8547\n",
      "The test CV score: 0.8589\n",
      "---------------\n",
      "DecisionTreeClassifier()\n",
      "The train CV score: 0.7556\n",
      "The test CV score: 0.762\n",
      "---------------\n",
      "RandomForestClassifier()\n",
      "The train CV score: 0.8541\n",
      "The test CV score: 0.8581\n",
      "---------------\n"
     ]
    }
   ],
   "source": [
    "#Cross validating\n",
    "\n",
    "models = [KNeighborsClassifier(),\n",
    "         LogisticRegression(),\n",
    "         DecisionTreeClassifier(),\n",
    "         RandomForestClassifier()]\n",
    "\n",
    "skf = StratifiedKFold(n_splits=5, shuffle=False)  \n",
    "for model in models:\n",
    "    print(model)\n",
    "    model.fit(X_train, y_train)\n",
    "    print('The train CV score:', round(np.mean(cross_val_score(model, X_train, y_train, cv=skf)),4))\n",
    "    print('The test CV score:', round(np.mean(cross_val_score(model, X_test, y_test, cv=skf)),4))\n",
    "    y_pred = model.predict(X_test)\n",
    "    print('---------------')\n",
    "    \n",
    "models[1].fit(X_train, y_train)\n",
    "model1_coeff_matrix = pd.DataFrame(np.absolute(np.reshape(models[1].coef_, (-1, 1))),\n",
    "                                  index=X_train.columns, columns=['Log_Odds_Coeff'])\n"
   ]
  },
  {
   "cell_type": "code",
   "execution_count": 252,
   "id": "f6816dcd",
   "metadata": {
    "scrolled": true
   },
   "outputs": [
    {
     "name": "stdout",
     "output_type": "stream",
     "text": [
      "              precision    recall  f1-score   support\n",
      "\n",
      "           0       0.86      1.00      0.92      6380\n",
      "           1       0.00      0.00      0.00      1048\n",
      "\n",
      "    accuracy                           0.86      7428\n",
      "   macro avg       0.43      0.50      0.46      7428\n",
      "weighted avg       0.74      0.86      0.79      7428\n",
      "\n",
      "<sklearn.metrics._plot.confusion_matrix.ConfusionMatrixDisplay object at 0x7fde01fbb250>\n"
     ]
    },
    {
     "data": {
      "image/png": "[encoded data removed]",
      "text/plain": [
       "<Figure size 864x576 with 2 Axes>"
      ]
     },
     "metadata": {
      "needs_background": "light"
     },
     "output_type": "display_data"
    }
   ],
   "source": [
    "model_LogReg = LogisticRegression()\n",
    "model_LogReg.fit(X_train, y_train)\n",
    "\n",
    "preds_LogReg = model_LogReg.predict(X_test) \n",
    "\n",
    "print(classification_report(y_test,preds_LogReg))\n",
    "print(plot_confusion_matrix(model_LogReg,X_test,y_test))"
   ]
  },
  {
   "cell_type": "code",
   "execution_count": 253,
   "id": "852008b5",
   "metadata": {},
   "outputs": [
    {
     "name": "stdout",
     "output_type": "stream",
     "text": [
      "              precision    recall  f1-score   support\n",
      "\n",
      "           0       0.86      1.00      0.92      6380\n",
      "           1       0.35      0.01      0.02      1048\n",
      "\n",
      "    accuracy                           0.86      7428\n",
      "   macro avg       0.60      0.50      0.47      7428\n",
      "weighted avg       0.79      0.86      0.80      7428\n",
      "\n",
      "<sklearn.metrics._plot.confusion_matrix.ConfusionMatrixDisplay object at 0x7fdc89665bb0>\n"
     ]
    },
    {
     "data": {
      "image/png": "[encoded data removed]",
      "text/plain": [
       "<Figure size 864x576 with 2 Axes>"
      ]
     },
     "metadata": {
      "needs_background": "light"
     },
     "output_type": "display_data"
    }
   ],
   "source": [
    "model_RFC = RandomForestClassifier()\n",
    "model_RFC.fit(X_train, y_train)\n",
    "\n",
    "preds_RFC = model_RFC.predict(X_test) \n",
    "\n",
    "print(classification_report(y_test,preds_RFC))\n",
    "print(plot_confusion_matrix(model_RFC,X_test,y_test))"
   ]
  },
  {
   "cell_type": "markdown",
   "id": "95305f2a",
   "metadata": {},
   "source": [
    "GridSearch"
   ]
  },
  {
   "cell_type": "code",
   "execution_count": 236,
   "id": "e0cf1278",
   "metadata": {},
   "outputs": [],
   "source": [
    "# Logistic Regression\n",
    "logReg = LogisticRegression()\n",
    "logReg_params = {'penalty': ['l1', 'l2'], 'C': [0.001, 0.01, 0.1, 1, 10, 100, 1000],\n",
    "                'solver': ['newton-cg', 'lbfgs', 'liblinear', 'sag', 'saga']}\n",
    "grid_searchLR = GridSearchCV(logReg, logReg_params)\n",
    "grid_searchLR.fit(X_train, y_train)\n",
    "logReg_best = grid_searchLR.best_estimator_\n",
    "\n",
    "# Random Forest\n",
    "RFC = RandomForestClassifier()\n",
    "RFC_parms = {'criterion': ['gini', 'entropy'], 'max_depth': list(range(2,5,1)), 'min_samples_leaf': list(range(5,7,1))}\n",
    "grid_searchRFC = GridSearchCV(RFC, RFC_parms)\n",
    "grid_searchRFC.fit(X_train, y_train)\n",
    "RFC_best = grid_searchRFC.best_estimator_"
   ]
  },
  {
   "cell_type": "code",
   "execution_count": 237,
   "id": "6cb8cc75",
   "metadata": {
    "scrolled": true
   },
   "outputs": [
    {
     "name": "stdout",
     "output_type": "stream",
     "text": [
      "Best estimatior for LogisticRegression(C=0.01, solver='newton-cg')\n",
      "Logistic Regression training set score: 0.8548\n",
      "Logistic Regression test set score: 0.8593\n"
     ]
    }
   ],
   "source": [
    "#printing results for Logistic Regression\n",
    "print('Best estimatior for', logReg_best)\n",
    "print('Logistic Regression training set score:', round(grid_searchLR.score(X_train, y_train),4))\n",
    "print('Logistic Regression test set score:', round(grid_searchLR.score(X_test, y_test),4))"
   ]
  },
  {
   "cell_type": "code",
   "execution_count": 240,
   "id": "33c74414",
   "metadata": {
    "scrolled": true
   },
   "outputs": [
    {
     "name": "stdout",
     "output_type": "stream",
     "text": [
      "Best estimatior for RandomForestClassifier(max_depth=2, min_samples_leaf=5)\n",
      "Random Forest training set score: 0.8547\n",
      "Random Forest test set score: 0.8589\n"
     ]
    }
   ],
   "source": [
    "print('Best estimatior for', RFC_best)\n",
    "print('Random Forest training set score:', round(grid_searchRFC.score(X_train, y_train),4))\n",
    "print('Random Forest test set score:', round(grid_searchRFC.score(X_test, y_test),4))"
   ]
  },
  {
   "cell_type": "code",
   "execution_count": null,
   "id": "af4c3d82",
   "metadata": {},
   "outputs": [],
   "source": []
  },
  {
   "cell_type": "code",
   "execution_count": null,
   "id": "c5b11704",
   "metadata": {},
   "outputs": [],
   "source": []
  },
  {
   "cell_type": "code",
   "execution_count": null,
   "id": "08138ac0",
   "metadata": {},
   "outputs": [],
   "source": []
  },
  {
   "cell_type": "code",
   "execution_count": null,
   "id": "77a2ff9b",
   "metadata": {},
   "outputs": [],
   "source": []
  },
  {
   "cell_type": "markdown",
   "id": "641dc4ce",
   "metadata": {},
   "source": [
    "*Now for imbalanced data Im going to use SMOTE to see if the scores will improve. SMOTE - Synthetic Minority Oversampling Technique. SMOTE works by randomly picking a point from the minority class and computing the k-nearest neighbors for this point. The synthetic points are added between the chosen point and its neighbors.*"
   ]
  },
  {
   "cell_type": "code",
   "execution_count": 267,
   "id": "95e2afce",
   "metadata": {
    "scrolled": true
   },
   "outputs": [
    {
     "name": "stdout",
     "output_type": "stream",
     "text": [
      "Original shape of dataset: Counter({0: 25395, 1: 4317})\n",
      "Resample shape of dataset: Counter({0: 25395, 1: 25395})\n"
     ]
    }
   ],
   "source": [
    "# dealing with imbalance data\n",
    "smote = SMOTE()\n",
    "#applying SMOTE to train set\n",
    "X_train_smoteR, y_train_smote = smote.fit_resample(X_train_robustS, y_train)\n",
    "\n",
    "#checking value counts after oversampling\n",
    "print('Original shape of dataset:', Counter(y_train))\n",
    "print('Resample shape of dataset:', Counter(y_train_smote))"
   ]
  },
  {
   "cell_type": "markdown",
   "id": "3ae6eaf7",
   "metadata": {},
   "source": [
    "#applying SMOTE to test set\n",
    "X_test_smoteR, y_test_smote = smote.fit_resample(X_test_robustS, y_test)\n",
    "\n",
    "#checking value counts after oversampling\n",
    "print('Original shape of dataset:', Counter(y_test))\n",
    "print('Resample shape of dataset:', Counter(y_test_smote))"
   ]
  },
  {
   "cell_type": "markdown",
   "id": "93e1dc4c",
   "metadata": {},
   "source": [
    "Choosong models & fitting them"
   ]
  },
  {
   "cell_type": "code",
   "execution_count": 270,
   "id": "f1974508",
   "metadata": {},
   "outputs": [],
   "source": [
    "#choosing models\n",
    "models = {'KNeighborsClassifier': KNeighborsClassifier(),\n",
    "         'LogisticRegression': LogisticRegression(),\n",
    "         'DecisionTreeClassifier': DecisionTreeClassifier(),\n",
    "         'RandomForestClassifier': RandomForestClassifier()\n",
    "}\n",
    "\n",
    "#computing the training score of each models\n",
    "train_scores_smote =[]\n",
    "test_scores = []\n",
    "for key, model in models.items():\n",
    "    model.fit(X_train_smoteR, y_train_smote)\n",
    "    train_score_smote = round(model.score(X_train_smoteR, y_train_smote),4)\n",
    "    train_scores_smote.append(train_score_smote)\n",
    "    test_score = round(model.score(X_test, y_test),4)\n",
    "    test_scores.append(test_score)\n",
    "\n",
    "    "
   ]
  },
  {
   "cell_type": "code",
   "execution_count": 271,
   "id": "aa25f70b",
   "metadata": {
    "scrolled": false
   },
   "outputs": [
    {
     "name": "stdout",
     "output_type": "stream",
     "text": [
      "Train scores are as follow: [0.8721, 0.6533, 1.0, 1.0]\n",
      "Test scores are as follow: [0.6042, 0.8589, 0.5331, 0.8589]\n"
     ]
    }
   ],
   "source": [
    "print('Train scores are as follow:', train_scores_smote)\n",
    "print('Test scores are as follow:', test_scores)"
   ]
  },
  {
   "cell_type": "markdown",
   "id": "07819647",
   "metadata": {},
   "source": [
    "*Aftre running the algorithms on both train and test sets, it looks like Logistic Regression does not work well for the dataset as the scores are relatively low. \n",
    "Train test score for KNN is quite ok, but the test set score is much lower. Decision Tree and Random Forest performed best.*"
   ]
  },
  {
   "cell_type": "code",
   "execution_count": 261,
   "id": "d45dd178",
   "metadata": {},
   "outputs": [],
   "source": [
    "#Cross validation score\n",
    "\n",
    "train_cv_scores_smote = []\n",
    "test_cv_scores = []\n",
    "\n",
    "for key, model in models.items():\n",
    "    model.fit(X_train_smoteR, y_train_smote)\n",
    "    train_cv_score_smote = cross_val_score(model, X_train_smoteR, y_train_smote, cv=5)\n",
    "    train_cv_scores_smote.append(round(train_cv_score_smote.mean(),4))\n",
    "    test_cv_score = cross_val_score(model, X_test, y_test, cv=5)\n",
    "    test_cv_scores.append(round(test_cv_score.mean(),4))\n",
    "    "
   ]
  },
  {
   "cell_type": "code",
   "execution_count": 272,
   "id": "f873f449",
   "metadata": {
    "scrolled": false
   },
   "outputs": [
    {
     "name": "stdout",
     "output_type": "stream",
     "text": [
      "Train CV scores are as follow: [0.8073, 0.6556, 0.8314, 0.9196]\n",
      "Test CV scores are as follow: [0.8425, 0.8589, 0.7597, 0.8582]\n"
     ]
    }
   ],
   "source": [
    "print('Train CV scores are as follow:', train_cv_scores_smote)\n",
    "print('Test CV scores are as follow:', test_cv_scores)"
   ]
  },
  {
   "cell_type": "code",
   "execution_count": 287,
   "id": "a6fdbda7",
   "metadata": {},
   "outputs": [
    {
     "name": "stdout",
     "output_type": "stream",
     "text": [
      "              precision    recall  f1-score   support\n",
      "\n",
      "           0       0.86      1.00      0.92      6380\n",
      "           1       0.00      0.00      0.00      1048\n",
      "\n",
      "    accuracy                           0.86      7428\n",
      "   macro avg       0.43      0.50      0.46      7428\n",
      "weighted avg       0.74      0.86      0.79      7428\n",
      "\n",
      "<sklearn.metrics._plot.confusion_matrix.ConfusionMatrixDisplay object at 0x7fdc8972b7f0>\n"
     ]
    },
    {
     "data": {
      "image/png": "[encoded data removed]",
      "text/plain": [
       "<Figure size 864x576 with 2 Axes>"
      ]
     },
     "metadata": {
      "needs_background": "light"
     },
     "output_type": "display_data"
    }
   ],
   "source": [
    "model_LogReg = LogisticRegression()\n",
    "model_LogReg.fit(X_train_smoteR, y_train_smote)\n",
    "\n",
    "preds_LogReg = model_LogReg.predict(X_test) \n",
    "\n",
    "print(classification_report(y_test,preds_LogReg))\n",
    "print(plot_confusion_matrix(model_LogReg,X_test, y_test))"
   ]
  },
  {
   "cell_type": "code",
   "execution_count": 289,
   "id": "bb1e53a0",
   "metadata": {},
   "outputs": [
    {
     "name": "stdout",
     "output_type": "stream",
     "text": [
      "              precision    recall  f1-score   support\n",
      "\n",
      "           0       0.86      1.00      0.92      6380\n",
      "           1       0.00      0.00      0.00      1048\n",
      "\n",
      "    accuracy                           0.86      7428\n",
      "   macro avg       0.43      0.50      0.46      7428\n",
      "weighted avg       0.74      0.86      0.79      7428\n",
      "\n",
      "<sklearn.metrics._plot.confusion_matrix.ConfusionMatrixDisplay object at 0x7fdc819b82b0>\n"
     ]
    },
    {
     "data": {
      "image/png": "[encoded data removed]",
      "text/plain": [
       "<Figure size 864x576 with 2 Axes>"
      ]
     },
     "metadata": {
      "needs_background": "light"
     },
     "output_type": "display_data"
    }
   ],
   "source": [
    "model_RFC = RandomForestClassifier()\n",
    "model_RFC.fit(X_train_smoteR, y_train_smote)\n",
    "\n",
    "preds_RFC = model_RFC.predict(X_test) \n",
    "\n",
    "print(classification_report(y_test,preds_RFC))\n",
    "print(plot_confusion_matrix(model_RFC,X_test, y_test))"
   ]
  },
  {
   "cell_type": "markdown",
   "id": "d92dca87",
   "metadata": {},
   "source": [
    "*First thing to notice is that the gap between the train and test scores has got smaller. Random Forest again produced the best scores of over 92%*"
   ]
  },
  {
   "cell_type": "markdown",
   "id": "81134904",
   "metadata": {},
   "source": [
    "I'm going to use GridSearchCV to find the best parameters and see if any further improvement can be achieved."
   ]
  },
  {
   "cell_type": "code",
   "execution_count": null,
   "id": "1a92a9ef",
   "metadata": {},
   "outputs": [],
   "source": [
    "# Logistic Regression\n",
    "logReg_smote = LogisticRegression()\n",
    "logReg_smote_params = {'penalty': ['l1', 'l2'], 'C': [0.001, 0.01, 0.1, 1, 10, 100, 1000],\n",
    "                'solver': ['newton-cg', 'lbfgs', 'liblinear', 'sag', 'saga']}\n",
    "grid_searchLR_smote = GridSearchCV(logReg_smote, logReg_smote_params)\n",
    "grid_searchLR_smote.fit(X_train_smoteR, y_train_smote)\n",
    "logReg_smote_best = grid_searchLR_smote.best_estimator_\n",
    "\n",
    "# Random Forest\n",
    "RFC_smote_smote = RandomForestClassifier()\n",
    "RFC_smote_parms = {'criterion': ['gini', 'entropy'], 'max_depth':y list(range(2,5,1)), 'min_samples_leaf': list(range(5,7,1))}\n",
    "grid_searchRFC_smote = GridSearchCV(RFC, RFC_parms)\n",
    "grid_searchRFC_smote.fit(X_train_smoteR, y_train_smote)\n",
    "RFC_smote_best = grid_searchRFC_smote.best_estimator_"
   ]
  },
  {
   "cell_type": "code",
   "execution_count": 284,
   "id": "de036059",
   "metadata": {},
   "outputs": [
    {
     "name": "stdout",
     "output_type": "stream",
     "text": [
      "Best estimatior for LogisticRegression(C=0.01, solver='newton-cg')\n",
      "Logistic Regression training set score: 0.6134\n",
      "Logistic Regression test set score: 0.8593\n"
     ]
    }
   ],
   "source": [
    "#printing results for Logistic Regression\n",
    "print('Best estimatior for', logReg_best)\n",
    "print('Logistic Regression training set score:', round(grid_searchLR.score(X_train_smoteR, y_train_smote),4))\n",
    "print('Logistic Regression test set score:', round(grid_searchLR.score(X_test, y_test),4))"
   ]
  },
  {
   "cell_type": "code",
   "execution_count": 285,
   "id": "ae3c5a57",
   "metadata": {
    "scrolled": true
   },
   "outputs": [
    {
     "name": "stdout",
     "output_type": "stream",
     "text": [
      "Best estimatior for RandomForestClassifier(max_depth=2, min_samples_leaf=5)\n",
      "Random Forest training set score: 0.5\n",
      "Random Forest test set score: 0.8589\n"
     ]
    }
   ],
   "source": [
    "#printing results for Random Forest\n",
    "print('Best estimatior for', RFC_best)\n",
    "print('Random Forest training set score:', round(grid_searchRFC.score(X_train_smoteR, y_train_smote),4))\n",
    "print('Random Forest test set score:', round(grid_searchRFC.score(X_test, y_test),4))"
   ]
  }
 ],
 "metadata": {
  "kernelspec": {
   "display_name": "Python 3 (ipykernel)",
   "language": "python",
   "name": "python3"
  },
  "language_info": {
   "codemirror_mode": {
    "name": "ipython",
    "version": 3
   },
   "file_extension": ".py",
   "mimetype": "text/x-python",
   "name": "python",
   "nbconvert_exporter": "python",
   "pygments_lexer": "ipython3",
   "version": "3.9.7"
  }
 },
 "nbformat": 4,
 "nbformat_minor": 5
}
